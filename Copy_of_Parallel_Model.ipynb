{
  "nbformat": 4,
  "nbformat_minor": 0,
  "metadata": {
    "colab": {
      "name": "Copy of Parallel Model.ipynb",
      "provenance": [],
      "collapsed_sections": [
        "5FlFw0b6Lm52",
        "fPdkH3kZLp1v",
        "fvonrJs3LtuG"
      ],
      "authorship_tag": "ABX9TyPFmxez59oCicid+/SZeIdq",
      "include_colab_link": true
    },
    "kernelspec": {
      "name": "python3",
      "display_name": "Python 3"
    }
  },
  "cells": [
    {
      "cell_type": "markdown",
      "metadata": {
        "id": "view-in-github",
        "colab_type": "text"
      },
      "source": [
        "<a href=\"https://colab.research.google.com/github/akanshgupta98/Audio-Emotion-Recognition/blob/master/Copy_of_Parallel_Model.ipynb\" target=\"_parent\"><img src=\"https://colab.research.google.com/assets/colab-badge.svg\" alt=\"Open In Colab\"/></a>"
      ]
    },
    {
      "cell_type": "markdown",
      "metadata": {
        "id": "1-Xzm_oOMPQO",
        "colab_type": "text"
      },
      "source": [
        "# Importing Libraries"
      ]
    },
    {
      "cell_type": "code",
      "metadata": {
        "id": "Huxgsh0fV_jg",
        "colab_type": "code",
        "colab": {}
      },
      "source": [
        "import torch\n",
        "import pandas as pd\n",
        "from sklearn.preprocessing import LabelEncoder,StandardScaler\n",
        "import tensorflow as tf\n",
        "from keras.preprocessing import sequence\n",
        "from keras.models import Sequential\n",
        "from keras.layers import Dense, Embedding\n",
        "from keras.utils import to_categorical\n",
        "from keras.layers import Input, Flatten, Dropout, Activation\n",
        "from keras.layers import Conv1D, MaxPooling1D\n",
        "from keras.models import Model\n",
        "from keras.callbacks import ModelCheckpoint\n",
        "import keras\n",
        "from sklearn.metrics import classification_report\n",
        "from sklearn.model_selection import train_test_split\n",
        "import numpy as np\n"
      ],
      "execution_count": null,
      "outputs": []
    },
    {
      "cell_type": "markdown",
      "metadata": {
        "id": "aOCkBQnZMSZt",
        "colab_type": "text"
      },
      "source": [
        "# Dataset"
      ]
    },
    {
      "cell_type": "code",
      "metadata": {
        "id": "5RSst74pWCKB",
        "colab_type": "code",
        "colab": {
          "base_uri": "https://localhost:8080/",
          "height": 204
        },
        "outputId": "5c8c53c7-0ef9-4046-de8d-64fac6d62923"
      },
      "source": [
        "!wget https://raw.githubusercontent.com/akanshgupta98/Audio-Emotion-Recognition/master/audio.csv"
      ],
      "execution_count": null,
      "outputs": [
        {
          "output_type": "stream",
          "text": [
            "--2020-06-04 11:58:55--  https://raw.githubusercontent.com/akanshgupta98/Audio-Emotion-Recognition/master/audio.csv\n",
            "Resolving raw.githubusercontent.com (raw.githubusercontent.com)... 151.101.0.133, 151.101.64.133, 151.101.128.133, ...\n",
            "Connecting to raw.githubusercontent.com (raw.githubusercontent.com)|151.101.0.133|:443... connected.\n",
            "HTTP request sent, awaiting response... 200 OK\n",
            "Length: 1638483 (1.6M) [text/plain]\n",
            "Saving to: ‘audio.csv’\n",
            "\n",
            "audio.csv           100%[===================>]   1.56M  3.86MB/s    in 0.4s    \n",
            "\n",
            "2020-06-04 11:58:57 (3.86 MB/s) - ‘audio.csv’ saved [1638483/1638483]\n",
            "\n"
          ],
          "name": "stdout"
        }
      ]
    },
    {
      "cell_type": "code",
      "metadata": {
        "id": "f-dvLfIiWKBA",
        "colab_type": "code",
        "colab": {
          "base_uri": "https://localhost:8080/",
          "height": 34
        },
        "outputId": "c3fd8b84-9788-4007-d956-c47400bd2243"
      },
      "source": [
        "data = pd.read_csv('audio.csv')\n",
        "print(data.shape)"
      ],
      "execution_count": null,
      "outputs": [
        {
          "output_type": "stream",
          "text": [
            "(1440, 61)\n"
          ],
          "name": "stdout"
        }
      ]
    },
    {
      "cell_type": "code",
      "metadata": {
        "id": "9yaOxY-nWa5M",
        "colab_type": "code",
        "colab": {}
      },
      "source": [
        "data_copy = data.copy()"
      ],
      "execution_count": null,
      "outputs": []
    },
    {
      "cell_type": "code",
      "metadata": {
        "id": "S8IeolU4WPHF",
        "colab_type": "code",
        "colab": {}
      },
      "source": [
        "X_cnn=data_copy.drop('name label emotion chroma_stft_mean rmse_mean spec_cent_mean spec_bw_mean rolloff_mean zcr_mean chroma1 chroma2 chroma3 chroma4 chroma5 chroma6 chroma7 chroma8 chroma9 chroma10 chroma11 chroma12'.split(),axis=1)"
      ],
      "execution_count": null,
      "outputs": []
    },
    {
      "cell_type": "code",
      "metadata": {
        "id": "m2-IxSlkWd7J",
        "colab_type": "code",
        "colab": {
          "base_uri": "https://localhost:8080/",
          "height": 34
        },
        "outputId": "698316a3-668f-45b2-f35d-0fddab4459b3"
      },
      "source": [
        "print(X_cnn.shape)"
      ],
      "execution_count": null,
      "outputs": [
        {
          "output_type": "stream",
          "text": [
            "(1440, 40)\n"
          ],
          "name": "stdout"
        }
      ]
    },
    {
      "cell_type": "code",
      "metadata": {
        "id": "12wubX1SWfxM",
        "colab_type": "code",
        "colab": {
          "base_uri": "https://localhost:8080/",
          "height": 34
        },
        "outputId": "ccf7ad61-41dd-4d0a-ec0c-f87f6fda5097"
      },
      "source": [
        "#tried the encoder of sklearn and compared with manual encoding. results had no huge difference.\n",
        "encoder = LabelEncoder()\n",
        "Y =  encoder.fit_transform(data_copy['label'])\n",
        "Y"
      ],
      "execution_count": null,
      "outputs": [
        {
          "output_type": "execute_result",
          "data": {
            "text/plain": [
              "array([0, 0, 0, ..., 7, 7, 7])"
            ]
          },
          "metadata": {
            "tags": []
          },
          "execution_count": 7
        }
      ]
    },
    {
      "cell_type": "markdown",
      "metadata": {
        "id": "0MvnQEZJMWRa",
        "colab_type": "text"
      },
      "source": [
        "# Train-Test-Split"
      ]
    },
    {
      "cell_type": "code",
      "metadata": {
        "id": "WuxTrconWoYG",
        "colab_type": "code",
        "colab": {}
      },
      "source": [
        "X_train_cnn,X_test_cnn,Y_train_cnn,Y_test_cnn=train_test_split(X_cnn,Y,random_state=1,stratify=Y,test_size=0.20)"
      ],
      "execution_count": null,
      "outputs": []
    },
    {
      "cell_type": "code",
      "metadata": {
        "id": "TpkzFFzEW4sa",
        "colab_type": "code",
        "colab": {}
      },
      "source": [
        "scaler=StandardScaler()\n",
        "X_scaled_train_cnn=scaler.fit_transform(X_train_cnn)\n",
        "X_scaled_test_cnn=scaler.transform(X_test_cnn)"
      ],
      "execution_count": null,
      "outputs": []
    },
    {
      "cell_type": "code",
      "metadata": {
        "id": "V7vqg3h-XFm9",
        "colab_type": "code",
        "colab": {}
      },
      "source": [
        "X_expanded_scaled_train_cnn = np.expand_dims(X_scaled_train_cnn, axis=2)\n",
        "X_expanded_scaled_test_cnn = np.expand_dims(X_scaled_test_cnn, axis=2)"
      ],
      "execution_count": null,
      "outputs": []
    },
    {
      "cell_type": "code",
      "metadata": {
        "id": "3hHU5ctgXItg",
        "colab_type": "code",
        "colab": {
          "base_uri": "https://localhost:8080/",
          "height": 34
        },
        "outputId": "c56b57e3-2254-4f96-8506-c39e81bd4d53"
      },
      "source": [
        "X_expanded_scaled_train_cnn.shape, X_expanded_scaled_test_cnn.shape"
      ],
      "execution_count": null,
      "outputs": [
        {
          "output_type": "execute_result",
          "data": {
            "text/plain": [
              "((1152, 40, 1), (288, 40, 1))"
            ]
          },
          "metadata": {
            "tags": []
          },
          "execution_count": 24
        }
      ]
    },
    {
      "cell_type": "code",
      "metadata": {
        "id": "Z25LU2zCXQHj",
        "colab_type": "code",
        "colab": {
          "base_uri": "https://localhost:8080/",
          "height": 34
        },
        "outputId": "b1258938-5d3d-4fc6-e854-f5605c4b42c2"
      },
      "source": [
        "X_scaled_train_cnn.shape"
      ],
      "execution_count": null,
      "outputs": [
        {
          "output_type": "execute_result",
          "data": {
            "text/plain": [
              "(1152, 40)"
            ]
          },
          "metadata": {
            "tags": []
          },
          "execution_count": 25
        }
      ]
    },
    {
      "cell_type": "markdown",
      "metadata": {
        "id": "Sgwbfl6fsD5N",
        "colab_type": "text"
      },
      "source": [
        "# Parallel Approach"
      ]
    },
    {
      "cell_type": "markdown",
      "metadata": {
        "id": "5FlFw0b6Lm52",
        "colab_type": "text"
      },
      "source": [
        "## Model 1"
      ]
    },
    {
      "cell_type": "code",
      "metadata": {
        "id": "Ji969tdmsF-G",
        "colab_type": "code",
        "colab": {
          "base_uri": "https://localhost:8080/"
        },
        "outputId": "8efcf8f1-cf95-4e9c-b8f0-4d4f6050ff25"
      },
      "source": [
        "input_shape = Input(shape=(40, 1))\n",
        "layer1 = Conv1D(128,8,padding='same',activation='relu')(input_shape)\n",
        "layer1 = MaxPooling1D(pool_size=5)(layer1)\n",
        "layer1 = Conv1D(256,8,padding='same',activation='relu')(layer1)\n",
        "layer1 = MaxPooling1D(pool_size=5)(layer1)\n",
        "print(layer1.shape)\n"
      ],
      "execution_count": null,
      "outputs": [
        {
          "output_type": "stream",
          "text": [
            "(None, 1, 256)\n"
          ],
          "name": "stdout"
        }
      ]
    },
    {
      "cell_type": "markdown",
      "metadata": {
        "id": "fPdkH3kZLp1v",
        "colab_type": "text"
      },
      "source": [
        "## Model 2"
      ]
    },
    {
      "cell_type": "code",
      "metadata": {
        "id": "TpOTIIffsF7J",
        "colab_type": "code",
        "colab": {
          "base_uri": "https://localhost:8080/"
        },
        "outputId": "dcdd34b6-a9c8-4956-d9e0-3682ff7b0972"
      },
      "source": [
        "layer2 = Conv1D(64,8,padding='same',activation='relu')(input_shape)\n",
        "layer2 = MaxPooling1D(pool_size=5)(layer2)\n",
        "layer2 = Conv1D(256,8,padding='same',activation='relu')(layer2)\n",
        "layer2 = MaxPooling1D(pool_size=5)(layer2)\n",
        "\n",
        "\n",
        "print(layer2.shape)"
      ],
      "execution_count": null,
      "outputs": [
        {
          "output_type": "stream",
          "text": [
            "(None, 1, 256)\n"
          ],
          "name": "stdout"
        }
      ]
    },
    {
      "cell_type": "markdown",
      "metadata": {
        "id": "fvonrJs3LtuG",
        "colab_type": "text"
      },
      "source": [
        "## Concatenating 2 models into 1"
      ]
    },
    {
      "cell_type": "code",
      "metadata": {
        "id": "zLB5PXTtsF4d",
        "colab_type": "code",
        "colab": {}
      },
      "source": [
        "merged = keras.layers.concatenate([layer1,layer2], axis=1)\n",
        "merged = Flatten()(merged)"
      ],
      "execution_count": null,
      "outputs": []
    },
    {
      "cell_type": "markdown",
      "metadata": {
        "id": "ER6JulG-L0gf",
        "colab_type": "text"
      },
      "source": [
        "## Fully Connected Layer"
      ]
    },
    {
      "cell_type": "code",
      "metadata": {
        "id": "E_1LFCk-sFzT",
        "colab_type": "code",
        "colab": {}
      },
      "source": [
        "out = Dense(256, activation='relu')(merged)\n",
        "out = Dense(256,activation='relu')(out)\n",
        "out = Dense(8, activation='softmax')(out)\n",
        "\n",
        "model = Model(input_shape, out)"
      ],
      "execution_count": null,
      "outputs": []
    },
    {
      "cell_type": "code",
      "metadata": {
        "id": "EZ6t-GE8AV3d",
        "colab_type": "code",
        "colab": {}
      },
      "source": [
        "opt = keras.optimizers.rmsprop(lr=0.0003, rho=0.9, decay=0.0)"
      ],
      "execution_count": null,
      "outputs": []
    },
    {
      "cell_type": "code",
      "metadata": {
        "id": "n0o3XiERBG-X",
        "colab_type": "code",
        "colab": {}
      },
      "source": [
        "model.compile(loss='sparse_categorical_crossentropy',\n",
        "              optimizer=opt,\n",
        "              metrics=['accuracy'])"
      ],
      "execution_count": null,
      "outputs": []
    },
    {
      "cell_type": "markdown",
      "metadata": {
        "id": "3UjUqMkxMFdI",
        "colab_type": "text"
      },
      "source": [
        "## Training Model"
      ]
    },
    {
      "cell_type": "code",
      "metadata": {
        "id": "jqgS3IpzBG88",
        "colab_type": "code",
        "colab": {
          "base_uri": "https://localhost:8080/",
          "height": 1000
        },
        "outputId": "6eaae5bd-879c-4215-d99c-e458b0ea10c3"
      },
      "source": [
        "cnnhistory=model.fit(X_expanded_scaled_train_cnn, Y_train_cnn, batch_size=128, epochs=200, validation_data=(X_expanded_scaled_test_cnn, Y_test_cnn))"
      ],
      "execution_count": null,
      "outputs": [
        {
          "output_type": "stream",
          "text": [
            "Train on 1152 samples, validate on 288 samples\n",
            "Epoch 1/200\n",
            "1152/1152 [==============================] - 2s 2ms/step - loss: 2.0205 - accuracy: 0.1901 - val_loss: 1.9635 - val_accuracy: 0.2431\n",
            "Epoch 2/200\n",
            "1152/1152 [==============================] - 2s 1ms/step - loss: 1.9146 - accuracy: 0.2526 - val_loss: 1.9099 - val_accuracy: 0.2257\n",
            "Epoch 3/200\n",
            "1152/1152 [==============================] - 2s 1ms/step - loss: 1.8621 - accuracy: 0.2830 - val_loss: 1.8945 - val_accuracy: 0.2743\n",
            "Epoch 4/200\n",
            "1152/1152 [==============================] - 2s 1ms/step - loss: 1.8055 - accuracy: 0.3108 - val_loss: 1.9081 - val_accuracy: 0.2535\n",
            "Epoch 5/200\n",
            "1152/1152 [==============================] - 2s 1ms/step - loss: 1.7866 - accuracy: 0.3186 - val_loss: 1.8737 - val_accuracy: 0.2361\n",
            "Epoch 6/200\n",
            "1152/1152 [==============================] - 2s 1ms/step - loss: 1.7290 - accuracy: 0.3646 - val_loss: 1.8826 - val_accuracy: 0.2431\n",
            "Epoch 7/200\n",
            "1152/1152 [==============================] - 2s 1ms/step - loss: 1.7102 - accuracy: 0.3698 - val_loss: 1.7921 - val_accuracy: 0.3611\n",
            "Epoch 8/200\n",
            "1152/1152 [==============================] - 2s 1ms/step - loss: 1.6666 - accuracy: 0.3976 - val_loss: 1.8079 - val_accuracy: 0.3264\n",
            "Epoch 9/200\n",
            "1152/1152 [==============================] - 2s 1ms/step - loss: 1.6423 - accuracy: 0.3984 - val_loss: 1.8366 - val_accuracy: 0.3160\n",
            "Epoch 10/200\n",
            "1152/1152 [==============================] - 2s 1ms/step - loss: 1.5884 - accuracy: 0.4375 - val_loss: 1.7657 - val_accuracy: 0.3194\n",
            "Epoch 11/200\n",
            "1152/1152 [==============================] - 2s 1ms/step - loss: 1.5869 - accuracy: 0.4349 - val_loss: 1.7381 - val_accuracy: 0.3611\n",
            "Epoch 12/200\n",
            "1152/1152 [==============================] - 2s 1ms/step - loss: 1.5212 - accuracy: 0.4349 - val_loss: 1.7710 - val_accuracy: 0.3438\n",
            "Epoch 13/200\n",
            "1152/1152 [==============================] - 2s 1ms/step - loss: 1.4954 - accuracy: 0.4401 - val_loss: 1.7750 - val_accuracy: 0.3194\n",
            "Epoch 14/200\n",
            "1152/1152 [==============================] - 2s 1ms/step - loss: 1.4802 - accuracy: 0.4609 - val_loss: 1.6955 - val_accuracy: 0.3715\n",
            "Epoch 15/200\n",
            "1152/1152 [==============================] - 2s 1ms/step - loss: 1.4356 - accuracy: 0.4896 - val_loss: 1.7073 - val_accuracy: 0.3611\n",
            "Epoch 16/200\n",
            "1152/1152 [==============================] - 2s 1ms/step - loss: 1.4170 - accuracy: 0.4939 - val_loss: 1.6817 - val_accuracy: 0.3715\n",
            "Epoch 17/200\n",
            "1152/1152 [==============================] - 2s 1ms/step - loss: 1.4009 - accuracy: 0.4983 - val_loss: 1.6446 - val_accuracy: 0.3993\n",
            "Epoch 18/200\n",
            "1152/1152 [==============================] - 2s 1ms/step - loss: 1.3199 - accuracy: 0.5373 - val_loss: 1.5969 - val_accuracy: 0.4097\n",
            "Epoch 19/200\n",
            "1152/1152 [==============================] - 2s 1ms/step - loss: 1.3361 - accuracy: 0.5399 - val_loss: 1.8258 - val_accuracy: 0.3438\n",
            "Epoch 20/200\n",
            "1152/1152 [==============================] - 2s 1ms/step - loss: 1.2882 - accuracy: 0.5547 - val_loss: 1.5949 - val_accuracy: 0.4062\n",
            "Epoch 21/200\n",
            "1152/1152 [==============================] - 2s 1ms/step - loss: 1.2300 - accuracy: 0.5825 - val_loss: 1.8510 - val_accuracy: 0.3299\n",
            "Epoch 22/200\n",
            "1152/1152 [==============================] - 2s 1ms/step - loss: 1.2879 - accuracy: 0.5425 - val_loss: 1.6141 - val_accuracy: 0.4062\n",
            "Epoch 23/200\n",
            "1152/1152 [==============================] - 2s 1ms/step - loss: 1.2387 - accuracy: 0.5382 - val_loss: 1.6020 - val_accuracy: 0.4167\n",
            "Epoch 24/200\n",
            "1152/1152 [==============================] - 2s 1ms/step - loss: 1.1393 - accuracy: 0.6120 - val_loss: 1.6014 - val_accuracy: 0.4028\n",
            "Epoch 25/200\n",
            "1152/1152 [==============================] - 2s 1ms/step - loss: 1.1954 - accuracy: 0.5799 - val_loss: 1.5822 - val_accuracy: 0.4201\n",
            "Epoch 26/200\n",
            "1152/1152 [==============================] - 2s 1ms/step - loss: 1.1525 - accuracy: 0.5946 - val_loss: 1.5275 - val_accuracy: 0.4688\n",
            "Epoch 27/200\n",
            "1152/1152 [==============================] - 2s 1ms/step - loss: 1.1030 - accuracy: 0.5929 - val_loss: 1.6599 - val_accuracy: 0.3958\n",
            "Epoch 28/200\n",
            "1152/1152 [==============================] - 2s 1ms/step - loss: 1.1157 - accuracy: 0.6085 - val_loss: 1.6957 - val_accuracy: 0.3646\n",
            "Epoch 29/200\n",
            "1152/1152 [==============================] - 2s 1ms/step - loss: 1.0529 - accuracy: 0.6285 - val_loss: 1.5148 - val_accuracy: 0.4826\n",
            "Epoch 30/200\n",
            "1152/1152 [==============================] - 2s 1ms/step - loss: 1.0508 - accuracy: 0.6380 - val_loss: 1.5477 - val_accuracy: 0.4410\n",
            "Epoch 31/200\n",
            "1152/1152 [==============================] - 2s 1ms/step - loss: 1.0856 - accuracy: 0.6059 - val_loss: 1.5550 - val_accuracy: 0.4410\n",
            "Epoch 32/200\n",
            "1152/1152 [==============================] - 2s 1ms/step - loss: 1.0109 - accuracy: 0.6502 - val_loss: 1.5190 - val_accuracy: 0.4722\n",
            "Epoch 33/200\n",
            "1152/1152 [==============================] - 2s 1ms/step - loss: 0.9620 - accuracy: 0.6875 - val_loss: 1.5247 - val_accuracy: 0.4549\n",
            "Epoch 34/200\n",
            "1152/1152 [==============================] - 2s 1ms/step - loss: 0.9779 - accuracy: 0.6615 - val_loss: 1.4574 - val_accuracy: 0.4826\n",
            "Epoch 35/200\n",
            "1152/1152 [==============================] - 2s 1ms/step - loss: 0.9064 - accuracy: 0.6918 - val_loss: 1.6867 - val_accuracy: 0.4167\n",
            "Epoch 36/200\n",
            "1152/1152 [==============================] - 2s 1ms/step - loss: 0.9615 - accuracy: 0.6693 - val_loss: 1.5115 - val_accuracy: 0.4861\n",
            "Epoch 37/200\n",
            "1152/1152 [==============================] - 2s 1ms/step - loss: 0.9446 - accuracy: 0.6589 - val_loss: 1.3968 - val_accuracy: 0.4826\n",
            "Epoch 38/200\n",
            "1152/1152 [==============================] - 2s 1ms/step - loss: 0.8717 - accuracy: 0.6962 - val_loss: 1.4566 - val_accuracy: 0.4861\n",
            "Epoch 39/200\n",
            "1152/1152 [==============================] - 2s 1ms/step - loss: 0.8506 - accuracy: 0.7118 - val_loss: 1.5603 - val_accuracy: 0.4132\n",
            "Epoch 40/200\n",
            "1152/1152 [==============================] - 2s 1ms/step - loss: 0.8234 - accuracy: 0.7300 - val_loss: 1.5371 - val_accuracy: 0.4549\n",
            "Epoch 41/200\n",
            "1152/1152 [==============================] - 2s 1ms/step - loss: 0.8218 - accuracy: 0.7205 - val_loss: 1.4225 - val_accuracy: 0.5069\n",
            "Epoch 42/200\n",
            "1152/1152 [==============================] - 2s 1ms/step - loss: 0.7836 - accuracy: 0.7422 - val_loss: 1.5994 - val_accuracy: 0.4722\n",
            "Epoch 43/200\n",
            "1152/1152 [==============================] - 2s 1ms/step - loss: 0.8653 - accuracy: 0.6997 - val_loss: 1.3769 - val_accuracy: 0.5278\n",
            "Epoch 44/200\n",
            "1152/1152 [==============================] - 2s 1ms/step - loss: 0.8025 - accuracy: 0.7240 - val_loss: 1.4498 - val_accuracy: 0.4826\n",
            "Epoch 45/200\n",
            "1152/1152 [==============================] - 2s 1ms/step - loss: 0.7349 - accuracy: 0.7569 - val_loss: 1.3870 - val_accuracy: 0.5000\n",
            "Epoch 46/200\n",
            "1152/1152 [==============================] - 2s 1ms/step - loss: 0.7215 - accuracy: 0.7509 - val_loss: 1.4581 - val_accuracy: 0.4653\n",
            "Epoch 47/200\n",
            "1152/1152 [==============================] - 2s 1ms/step - loss: 0.7523 - accuracy: 0.7552 - val_loss: 1.6237 - val_accuracy: 0.4410\n",
            "Epoch 48/200\n",
            "1152/1152 [==============================] - 2s 1ms/step - loss: 0.7409 - accuracy: 0.7639 - val_loss: 1.4323 - val_accuracy: 0.5000\n",
            "Epoch 49/200\n",
            "1152/1152 [==============================] - 2s 1ms/step - loss: 0.6980 - accuracy: 0.7691 - val_loss: 1.2752 - val_accuracy: 0.5590\n",
            "Epoch 50/200\n",
            "1152/1152 [==============================] - 2s 1ms/step - loss: 0.6837 - accuracy: 0.7847 - val_loss: 1.3836 - val_accuracy: 0.5243\n",
            "Epoch 51/200\n",
            "1152/1152 [==============================] - 2s 1ms/step - loss: 0.6565 - accuracy: 0.7960 - val_loss: 1.4057 - val_accuracy: 0.5104\n",
            "Epoch 52/200\n",
            "1152/1152 [==============================] - 2s 1ms/step - loss: 0.6220 - accuracy: 0.7960 - val_loss: 2.3164 - val_accuracy: 0.3438\n",
            "Epoch 53/200\n",
            "1152/1152 [==============================] - 2s 1ms/step - loss: 0.6924 - accuracy: 0.7795 - val_loss: 1.4972 - val_accuracy: 0.4792\n",
            "Epoch 54/200\n",
            "1152/1152 [==============================] - 2s 1ms/step - loss: 0.5314 - accuracy: 0.8507 - val_loss: 1.2745 - val_accuracy: 0.5625\n",
            "Epoch 55/200\n",
            "1152/1152 [==============================] - 2s 1ms/step - loss: 0.6568 - accuracy: 0.7830 - val_loss: 1.4521 - val_accuracy: 0.5278\n",
            "Epoch 56/200\n",
            "1152/1152 [==============================] - 2s 1ms/step - loss: 0.5736 - accuracy: 0.8299 - val_loss: 1.4068 - val_accuracy: 0.5382\n",
            "Epoch 57/200\n",
            "1152/1152 [==============================] - 2s 1ms/step - loss: 0.6363 - accuracy: 0.8168 - val_loss: 1.5822 - val_accuracy: 0.5035\n",
            "Epoch 58/200\n",
            "1152/1152 [==============================] - 2s 1ms/step - loss: 0.4764 - accuracy: 0.8715 - val_loss: 1.3754 - val_accuracy: 0.5139\n",
            "Epoch 59/200\n",
            "1152/1152 [==============================] - 2s 1ms/step - loss: 0.6004 - accuracy: 0.7908 - val_loss: 1.4625 - val_accuracy: 0.5590\n",
            "Epoch 60/200\n",
            "1152/1152 [==============================] - 2s 1ms/step - loss: 0.4733 - accuracy: 0.8655 - val_loss: 1.4288 - val_accuracy: 0.5174\n",
            "Epoch 61/200\n",
            "1152/1152 [==============================] - 2s 1ms/step - loss: 0.5527 - accuracy: 0.8220 - val_loss: 1.3948 - val_accuracy: 0.5069\n",
            "Epoch 62/200\n",
            "1152/1152 [==============================] - 2s 1ms/step - loss: 0.4504 - accuracy: 0.8802 - val_loss: 1.6114 - val_accuracy: 0.4757\n",
            "Epoch 63/200\n",
            "1152/1152 [==============================] - 2s 1ms/step - loss: 0.6136 - accuracy: 0.7995 - val_loss: 1.2935 - val_accuracy: 0.5451\n",
            "Epoch 64/200\n",
            "1152/1152 [==============================] - 2s 1ms/step - loss: 0.5408 - accuracy: 0.8420 - val_loss: 1.3105 - val_accuracy: 0.5660\n",
            "Epoch 65/200\n",
            "1152/1152 [==============================] - 2s 1ms/step - loss: 0.3815 - accuracy: 0.9010 - val_loss: 1.7423 - val_accuracy: 0.5208\n",
            "Epoch 66/200\n",
            "1152/1152 [==============================] - 2s 1ms/step - loss: 0.5464 - accuracy: 0.8142 - val_loss: 1.3802 - val_accuracy: 0.5451\n",
            "Epoch 67/200\n",
            "1152/1152 [==============================] - 2s 1ms/step - loss: 0.3475 - accuracy: 0.9219 - val_loss: 1.3238 - val_accuracy: 0.5938\n",
            "Epoch 68/200\n",
            "1152/1152 [==============================] - 2s 1ms/step - loss: 0.5374 - accuracy: 0.8151 - val_loss: 1.4543 - val_accuracy: 0.5208\n",
            "Epoch 69/200\n",
            "1152/1152 [==============================] - 2s 1ms/step - loss: 0.3891 - accuracy: 0.8854 - val_loss: 1.8986 - val_accuracy: 0.4688\n",
            "Epoch 70/200\n",
            "1152/1152 [==============================] - 2s 1ms/step - loss: 0.3724 - accuracy: 0.8950 - val_loss: 1.4870 - val_accuracy: 0.4931\n",
            "Epoch 71/200\n",
            "1152/1152 [==============================] - 2s 1ms/step - loss: 0.4543 - accuracy: 0.8646 - val_loss: 1.2209 - val_accuracy: 0.5972\n",
            "Epoch 72/200\n",
            "1152/1152 [==============================] - 2s 1ms/step - loss: 0.3750 - accuracy: 0.8984 - val_loss: 2.0065 - val_accuracy: 0.4549\n",
            "Epoch 73/200\n",
            "1152/1152 [==============================] - 2s 1ms/step - loss: 0.3774 - accuracy: 0.8941 - val_loss: 1.6231 - val_accuracy: 0.5174\n",
            "Epoch 74/200\n",
            "1152/1152 [==============================] - 2s 1ms/step - loss: 0.4035 - accuracy: 0.8932 - val_loss: 1.3706 - val_accuracy: 0.5764\n",
            "Epoch 75/200\n",
            "1152/1152 [==============================] - 2s 1ms/step - loss: 0.3291 - accuracy: 0.9045 - val_loss: 1.6586 - val_accuracy: 0.5243\n",
            "Epoch 76/200\n",
            "1152/1152 [==============================] - 2s 1ms/step - loss: 0.4765 - accuracy: 0.8472 - val_loss: 1.4073 - val_accuracy: 0.5382\n",
            "Epoch 77/200\n",
            "1152/1152 [==============================] - 2s 1ms/step - loss: 0.3113 - accuracy: 0.9193 - val_loss: 1.7322 - val_accuracy: 0.4896\n",
            "Epoch 78/200\n",
            "1152/1152 [==============================] - 2s 1ms/step - loss: 0.3436 - accuracy: 0.8950 - val_loss: 1.9746 - val_accuracy: 0.4688\n",
            "Epoch 79/200\n",
            "1152/1152 [==============================] - 2s 1ms/step - loss: 0.3159 - accuracy: 0.9297 - val_loss: 1.3457 - val_accuracy: 0.5868\n",
            "Epoch 80/200\n",
            "1152/1152 [==============================] - 2s 1ms/step - loss: 0.2899 - accuracy: 0.9262 - val_loss: 1.5708 - val_accuracy: 0.5347\n",
            "Epoch 81/200\n",
            "1152/1152 [==============================] - 2s 1ms/step - loss: 0.3558 - accuracy: 0.8993 - val_loss: 1.7374 - val_accuracy: 0.4896\n",
            "Epoch 82/200\n",
            "1152/1152 [==============================] - 2s 1ms/step - loss: 0.3520 - accuracy: 0.8845 - val_loss: 1.4675 - val_accuracy: 0.5312\n",
            "Epoch 83/200\n",
            "1152/1152 [==============================] - 2s 1ms/step - loss: 0.3591 - accuracy: 0.9010 - val_loss: 1.2223 - val_accuracy: 0.6146\n",
            "Epoch 84/200\n",
            "1152/1152 [==============================] - 2s 1ms/step - loss: 0.2539 - accuracy: 0.9418 - val_loss: 1.5747 - val_accuracy: 0.5347\n",
            "Epoch 85/200\n",
            "1152/1152 [==============================] - 2s 1ms/step - loss: 0.3618 - accuracy: 0.9071 - val_loss: 1.1993 - val_accuracy: 0.6146\n",
            "Epoch 86/200\n",
            "1152/1152 [==============================] - 2s 1ms/step - loss: 0.1814 - accuracy: 0.9679 - val_loss: 1.4099 - val_accuracy: 0.5764\n",
            "Epoch 87/200\n",
            "1152/1152 [==============================] - 2s 1ms/step - loss: 0.3703 - accuracy: 0.8828 - val_loss: 1.2290 - val_accuracy: 0.6042\n",
            "Epoch 88/200\n",
            "1152/1152 [==============================] - 2s 1ms/step - loss: 0.1740 - accuracy: 0.9679 - val_loss: 1.4540 - val_accuracy: 0.5799\n",
            "Epoch 89/200\n",
            "1152/1152 [==============================] - 2s 1ms/step - loss: 0.3994 - accuracy: 0.9123 - val_loss: 1.2297 - val_accuracy: 0.5868\n",
            "Epoch 90/200\n",
            "1152/1152 [==============================] - 2s 1ms/step - loss: 0.2449 - accuracy: 0.9314 - val_loss: 1.5327 - val_accuracy: 0.5625\n",
            "Epoch 91/200\n",
            "1152/1152 [==============================] - 2s 1ms/step - loss: 0.1945 - accuracy: 0.9557 - val_loss: 1.2328 - val_accuracy: 0.6285\n",
            "Epoch 92/200\n",
            "1152/1152 [==============================] - 2s 1ms/step - loss: 0.3447 - accuracy: 0.9080 - val_loss: 1.3938 - val_accuracy: 0.6042\n",
            "Epoch 93/200\n",
            "1152/1152 [==============================] - 2s 1ms/step - loss: 0.1361 - accuracy: 0.9818 - val_loss: 1.6155 - val_accuracy: 0.5312\n",
            "Epoch 94/200\n",
            "1152/1152 [==============================] - 2s 1ms/step - loss: 0.2294 - accuracy: 0.9444 - val_loss: 1.7851 - val_accuracy: 0.4618\n",
            "Epoch 95/200\n",
            "1152/1152 [==============================] - 2s 1ms/step - loss: 0.3157 - accuracy: 0.9002 - val_loss: 1.4463 - val_accuracy: 0.6007\n",
            "Epoch 96/200\n",
            "1152/1152 [==============================] - 2s 1ms/step - loss: 0.1919 - accuracy: 0.9523 - val_loss: 1.2734 - val_accuracy: 0.5972\n",
            "Epoch 97/200\n",
            "1152/1152 [==============================] - 2s 1ms/step - loss: 0.0900 - accuracy: 0.9965 - val_loss: 1.3183 - val_accuracy: 0.5833\n",
            "Epoch 98/200\n",
            "1152/1152 [==============================] - 2s 1ms/step - loss: 0.4902 - accuracy: 0.8750 - val_loss: 1.2624 - val_accuracy: 0.6215\n",
            "Epoch 99/200\n",
            "1152/1152 [==============================] - 2s 1ms/step - loss: 0.0796 - accuracy: 0.9974 - val_loss: 1.2644 - val_accuracy: 0.6111\n",
            "Epoch 100/200\n",
            "1152/1152 [==============================] - 2s 1ms/step - loss: 0.2673 - accuracy: 0.9193 - val_loss: 1.3647 - val_accuracy: 0.5868\n",
            "Epoch 101/200\n",
            "1152/1152 [==============================] - 2s 1ms/step - loss: 0.0897 - accuracy: 0.9913 - val_loss: 1.6175 - val_accuracy: 0.5069\n",
            "Epoch 102/200\n",
            "1152/1152 [==============================] - 2s 1ms/step - loss: 0.4237 - accuracy: 0.8967 - val_loss: 1.2494 - val_accuracy: 0.6319\n",
            "Epoch 103/200\n",
            "1152/1152 [==============================] - 2s 1ms/step - loss: 0.0686 - accuracy: 0.9983 - val_loss: 1.3069 - val_accuracy: 0.5972\n",
            "Epoch 104/200\n",
            "1152/1152 [==============================] - 2s 1ms/step - loss: 0.2360 - accuracy: 0.9306 - val_loss: 1.2882 - val_accuracy: 0.6181\n",
            "Epoch 105/200\n",
            "1152/1152 [==============================] - 2s 1ms/step - loss: 0.0697 - accuracy: 0.9957 - val_loss: 1.3053 - val_accuracy: 0.6285\n",
            "Epoch 106/200\n",
            "1152/1152 [==============================] - 2s 1ms/step - loss: 0.3867 - accuracy: 0.9106 - val_loss: 1.2577 - val_accuracy: 0.6493\n",
            "Epoch 107/200\n",
            "1152/1152 [==============================] - 2s 1ms/step - loss: 0.0601 - accuracy: 0.9974 - val_loss: 1.2949 - val_accuracy: 0.6181\n",
            "Epoch 108/200\n",
            "1152/1152 [==============================] - 2s 1ms/step - loss: 0.3192 - accuracy: 0.9262 - val_loss: 1.6127 - val_accuracy: 0.5590\n",
            "Epoch 109/200\n",
            "1152/1152 [==============================] - 2s 1ms/step - loss: 0.0960 - accuracy: 0.9835 - val_loss: 1.2651 - val_accuracy: 0.6389\n",
            "Epoch 110/200\n",
            "1152/1152 [==============================] - 2s 1ms/step - loss: 0.0603 - accuracy: 0.9948 - val_loss: 1.5104 - val_accuracy: 0.6007\n",
            "Epoch 111/200\n",
            "1152/1152 [==============================] - 2s 1ms/step - loss: 0.2849 - accuracy: 0.9167 - val_loss: 1.2755 - val_accuracy: 0.6354\n",
            "Epoch 112/200\n",
            "1152/1152 [==============================] - 2s 1ms/step - loss: 0.0525 - accuracy: 0.9983 - val_loss: 1.3193 - val_accuracy: 0.6389\n",
            "Epoch 113/200\n",
            "1152/1152 [==============================] - 2s 1ms/step - loss: 0.3915 - accuracy: 0.9219 - val_loss: 2.3759 - val_accuracy: 0.5486\n",
            "Epoch 114/200\n",
            "1152/1152 [==============================] - 2s 1ms/step - loss: 0.1606 - accuracy: 0.9757 - val_loss: 1.2643 - val_accuracy: 0.6458\n",
            "Epoch 115/200\n",
            "1152/1152 [==============================] - 2s 1ms/step - loss: 0.0465 - accuracy: 0.9974 - val_loss: 1.6505 - val_accuracy: 0.5764\n",
            "Epoch 116/200\n",
            "1152/1152 [==============================] - 2s 1ms/step - loss: 0.3286 - accuracy: 0.9002 - val_loss: 1.2439 - val_accuracy: 0.6528\n",
            "Epoch 117/200\n",
            "1152/1152 [==============================] - 2s 1ms/step - loss: 0.0402 - accuracy: 0.9983 - val_loss: 1.2579 - val_accuracy: 0.6354\n",
            "Epoch 118/200\n",
            "1152/1152 [==============================] - 2s 1ms/step - loss: 0.0348 - accuracy: 1.0000 - val_loss: 1.3543 - val_accuracy: 0.6354\n",
            "Epoch 119/200\n",
            "1152/1152 [==============================] - 2s 1ms/step - loss: 0.6344 - accuracy: 0.8498 - val_loss: 1.3973 - val_accuracy: 0.5938\n",
            "Epoch 120/200\n",
            "1152/1152 [==============================] - 2s 1ms/step - loss: 0.0429 - accuracy: 0.9983 - val_loss: 1.2921 - val_accuracy: 0.6250\n",
            "Epoch 121/200\n",
            "1152/1152 [==============================] - 2s 1ms/step - loss: 0.0351 - accuracy: 1.0000 - val_loss: 1.2945 - val_accuracy: 0.6493\n",
            "Epoch 122/200\n",
            "1152/1152 [==============================] - 2s 1ms/step - loss: 0.1599 - accuracy: 0.9592 - val_loss: 3.2553 - val_accuracy: 0.4201\n",
            "Epoch 123/200\n",
            "1152/1152 [==============================] - 2s 1ms/step - loss: 0.2180 - accuracy: 0.9306 - val_loss: 1.2693 - val_accuracy: 0.6285\n",
            "Epoch 124/200\n",
            "1152/1152 [==============================] - 2s 1ms/step - loss: 0.0307 - accuracy: 1.0000 - val_loss: 1.3151 - val_accuracy: 0.6285\n",
            "Epoch 125/200\n",
            "1152/1152 [==============================] - 2s 1ms/step - loss: 0.0330 - accuracy: 0.9983 - val_loss: 1.3407 - val_accuracy: 0.6389\n",
            "Epoch 126/200\n",
            "1152/1152 [==============================] - 2s 1ms/step - loss: 0.5785 - accuracy: 0.8837 - val_loss: 1.3021 - val_accuracy: 0.6701\n",
            "Epoch 127/200\n",
            "1152/1152 [==============================] - 2s 1ms/step - loss: 0.0299 - accuracy: 1.0000 - val_loss: 1.2940 - val_accuracy: 0.6528\n",
            "Epoch 128/200\n",
            "1152/1152 [==============================] - 2s 1ms/step - loss: 0.0267 - accuracy: 1.0000 - val_loss: 1.2929 - val_accuracy: 0.6597\n",
            "Epoch 129/200\n",
            "1152/1152 [==============================] - 2s 1ms/step - loss: 0.0233 - accuracy: 1.0000 - val_loss: 1.3222 - val_accuracy: 0.6493\n",
            "Epoch 130/200\n",
            "1152/1152 [==============================] - 2s 1ms/step - loss: 0.8098 - accuracy: 0.8689 - val_loss: 1.5474 - val_accuracy: 0.6007\n",
            "Epoch 131/200\n",
            "1152/1152 [==============================] - 2s 1ms/step - loss: 0.0319 - accuracy: 1.0000 - val_loss: 1.3168 - val_accuracy: 0.6389\n",
            "Epoch 132/200\n",
            "1152/1152 [==============================] - 2s 1ms/step - loss: 0.0226 - accuracy: 1.0000 - val_loss: 1.3136 - val_accuracy: 0.6389\n",
            "Epoch 133/200\n",
            "1152/1152 [==============================] - 2s 1ms/step - loss: 0.0207 - accuracy: 1.0000 - val_loss: 1.3111 - val_accuracy: 0.6597\n",
            "Epoch 134/200\n",
            "1152/1152 [==============================] - 2s 1ms/step - loss: 0.2225 - accuracy: 0.9479 - val_loss: 1.5545 - val_accuracy: 0.5938\n",
            "Epoch 135/200\n",
            "1152/1152 [==============================] - 2s 1ms/step - loss: 0.0359 - accuracy: 0.9965 - val_loss: 1.3141 - val_accuracy: 0.6632\n",
            "Epoch 136/200\n",
            "1152/1152 [==============================] - 2s 1ms/step - loss: 0.0195 - accuracy: 1.0000 - val_loss: 1.3228 - val_accuracy: 0.6528\n",
            "Epoch 137/200\n",
            "1152/1152 [==============================] - 2s 1ms/step - loss: 0.0176 - accuracy: 1.0000 - val_loss: 1.7512 - val_accuracy: 0.5521\n",
            "Epoch 138/200\n",
            "1152/1152 [==============================] - 2s 1ms/step - loss: 0.4764 - accuracy: 0.8932 - val_loss: 1.3365 - val_accuracy: 0.6597\n",
            "Epoch 139/200\n",
            "1152/1152 [==============================] - 2s 1ms/step - loss: 0.0180 - accuracy: 1.0000 - val_loss: 1.3187 - val_accuracy: 0.6771\n",
            "Epoch 140/200\n",
            "1152/1152 [==============================] - 2s 1ms/step - loss: 0.0158 - accuracy: 1.0000 - val_loss: 1.3532 - val_accuracy: 0.6458\n",
            "Epoch 141/200\n",
            "1152/1152 [==============================] - 2s 1ms/step - loss: 0.1230 - accuracy: 0.9705 - val_loss: 3.6127 - val_accuracy: 0.4826\n",
            "Epoch 142/200\n",
            "1152/1152 [==============================] - 2s 1ms/step - loss: 0.3178 - accuracy: 0.9436 - val_loss: 1.3479 - val_accuracy: 0.6493\n",
            "Epoch 143/200\n",
            "1152/1152 [==============================] - 2s 1ms/step - loss: 0.0157 - accuracy: 1.0000 - val_loss: 1.3504 - val_accuracy: 0.6528\n",
            "Epoch 144/200\n",
            "1152/1152 [==============================] - 2s 1ms/step - loss: 0.0143 - accuracy: 1.0000 - val_loss: 1.3528 - val_accuracy: 0.6632\n",
            "Epoch 145/200\n",
            "1152/1152 [==============================] - 2s 1ms/step - loss: 0.2871 - accuracy: 0.9332 - val_loss: 2.8817 - val_accuracy: 0.5799\n",
            "Epoch 146/200\n",
            "1152/1152 [==============================] - 2s 1ms/step - loss: 0.2228 - accuracy: 0.9661 - val_loss: 1.3561 - val_accuracy: 0.6736\n",
            "Epoch 147/200\n",
            "1152/1152 [==============================] - 2s 1ms/step - loss: 0.0141 - accuracy: 1.0000 - val_loss: 1.3398 - val_accuracy: 0.6771\n",
            "Epoch 148/200\n",
            "1152/1152 [==============================] - 2s 1ms/step - loss: 0.0130 - accuracy: 1.0000 - val_loss: 1.3711 - val_accuracy: 0.6840\n",
            "Epoch 149/200\n",
            "1152/1152 [==============================] - 2s 1ms/step - loss: 0.0112 - accuracy: 1.0000 - val_loss: 1.3793 - val_accuracy: 0.6493\n",
            "Epoch 150/200\n",
            "1152/1152 [==============================] - 2s 1ms/step - loss: 0.4202 - accuracy: 0.9141 - val_loss: 1.3457 - val_accuracy: 0.6701\n",
            "Epoch 151/200\n",
            "1152/1152 [==============================] - 2s 1ms/step - loss: 0.0136 - accuracy: 1.0000 - val_loss: 1.3214 - val_accuracy: 0.6632\n",
            "Epoch 152/200\n",
            "1152/1152 [==============================] - 2s 1ms/step - loss: 0.0112 - accuracy: 1.0000 - val_loss: 1.3485 - val_accuracy: 0.6528\n",
            "Epoch 153/200\n",
            "1152/1152 [==============================] - 2s 1ms/step - loss: 0.0112 - accuracy: 1.0000 - val_loss: 1.6295 - val_accuracy: 0.6146\n",
            "Epoch 154/200\n",
            "1152/1152 [==============================] - 2s 1ms/step - loss: 0.5232 - accuracy: 0.9062 - val_loss: 1.3606 - val_accuracy: 0.6632\n",
            "Epoch 155/200\n",
            "1152/1152 [==============================] - 2s 1ms/step - loss: 0.0136 - accuracy: 1.0000 - val_loss: 1.3412 - val_accuracy: 0.6667\n",
            "Epoch 156/200\n",
            "1152/1152 [==============================] - 2s 1ms/step - loss: 0.0115 - accuracy: 1.0000 - val_loss: 1.3385 - val_accuracy: 0.6771\n",
            "Epoch 157/200\n",
            "1152/1152 [==============================] - 2s 1ms/step - loss: 0.0103 - accuracy: 1.0000 - val_loss: 1.3584 - val_accuracy: 0.6597\n",
            "Epoch 158/200\n",
            "1152/1152 [==============================] - 2s 1ms/step - loss: 0.0105 - accuracy: 1.0000 - val_loss: 1.7612 - val_accuracy: 0.5972\n",
            "Epoch 159/200\n",
            "1152/1152 [==============================] - 2s 1ms/step - loss: 0.4556 - accuracy: 0.9210 - val_loss: 1.3838 - val_accuracy: 0.6458\n",
            "Epoch 160/200\n",
            "1152/1152 [==============================] - 2s 1ms/step - loss: 0.0107 - accuracy: 1.0000 - val_loss: 1.3732 - val_accuracy: 0.6493\n",
            "Epoch 161/200\n",
            "1152/1152 [==============================] - 2s 1ms/step - loss: 0.0090 - accuracy: 1.0000 - val_loss: 1.3798 - val_accuracy: 0.6493\n",
            "Epoch 162/200\n",
            "1152/1152 [==============================] - 2s 1ms/step - loss: 0.0077 - accuracy: 1.0000 - val_loss: 1.3903 - val_accuracy: 0.6493\n",
            "Epoch 163/200\n",
            "1152/1152 [==============================] - 2s 1ms/step - loss: 0.2409 - accuracy: 0.9644 - val_loss: 3.4711 - val_accuracy: 0.4722\n",
            "Epoch 164/200\n",
            "1152/1152 [==============================] - 2s 1ms/step - loss: 0.2052 - accuracy: 0.9627 - val_loss: 1.3997 - val_accuracy: 0.6528\n",
            "Epoch 165/200\n",
            "1152/1152 [==============================] - 2s 1ms/step - loss: 0.0084 - accuracy: 1.0000 - val_loss: 1.3831 - val_accuracy: 0.6632\n",
            "Epoch 166/200\n",
            "1152/1152 [==============================] - 2s 1ms/step - loss: 0.0073 - accuracy: 1.0000 - val_loss: 1.3952 - val_accuracy: 0.6771\n",
            "Epoch 167/200\n",
            "1152/1152 [==============================] - 2s 1ms/step - loss: 0.0065 - accuracy: 1.0000 - val_loss: 1.4167 - val_accuracy: 0.6632\n",
            "Epoch 168/200\n",
            "1152/1152 [==============================] - 2s 1ms/step - loss: 0.5913 - accuracy: 0.8906 - val_loss: 1.5293 - val_accuracy: 0.6215\n",
            "Epoch 169/200\n",
            "1152/1152 [==============================] - 2s 1ms/step - loss: 0.0101 - accuracy: 1.0000 - val_loss: 1.4071 - val_accuracy: 0.6701\n",
            "Epoch 170/200\n",
            "1152/1152 [==============================] - 2s 1ms/step - loss: 0.0075 - accuracy: 1.0000 - val_loss: 1.4033 - val_accuracy: 0.6701\n",
            "Epoch 171/200\n",
            "1152/1152 [==============================] - 2s 1ms/step - loss: 0.0067 - accuracy: 1.0000 - val_loss: 1.3918 - val_accuracy: 0.6736\n",
            "Epoch 172/200\n",
            "1152/1152 [==============================] - 2s 1ms/step - loss: 0.0059 - accuracy: 1.0000 - val_loss: 1.4070 - val_accuracy: 0.6597\n",
            "Epoch 173/200\n",
            "1152/1152 [==============================] - 2s 1ms/step - loss: 0.0053 - accuracy: 1.0000 - val_loss: 1.4431 - val_accuracy: 0.6632\n",
            "Epoch 174/200\n",
            "1152/1152 [==============================] - 2s 1ms/step - loss: 0.5117 - accuracy: 0.8976 - val_loss: 1.5724 - val_accuracy: 0.6111\n",
            "Epoch 175/200\n",
            "1152/1152 [==============================] - 2s 1ms/step - loss: 0.0101 - accuracy: 1.0000 - val_loss: 1.4046 - val_accuracy: 0.6701\n",
            "Epoch 176/200\n",
            "1152/1152 [==============================] - 2s 1ms/step - loss: 0.0071 - accuracy: 1.0000 - val_loss: 1.3981 - val_accuracy: 0.6667\n",
            "Epoch 177/200\n",
            "1152/1152 [==============================] - 2s 1ms/step - loss: 0.0061 - accuracy: 1.0000 - val_loss: 1.3933 - val_accuracy: 0.6771\n",
            "Epoch 178/200\n",
            "1152/1152 [==============================] - 2s 1ms/step - loss: 0.0055 - accuracy: 1.0000 - val_loss: 1.4258 - val_accuracy: 0.6597\n",
            "Epoch 179/200\n",
            "1152/1152 [==============================] - 2s 1ms/step - loss: 0.0045 - accuracy: 1.0000 - val_loss: 1.4353 - val_accuracy: 0.6806\n",
            "Epoch 180/200\n",
            "1152/1152 [==============================] - 2s 1ms/step - loss: 0.0038 - accuracy: 1.0000 - val_loss: 1.5221 - val_accuracy: 0.6632\n",
            "Epoch 181/200\n",
            "1152/1152 [==============================] - 2s 1ms/step - loss: 0.5665 - accuracy: 0.8880 - val_loss: 1.5165 - val_accuracy: 0.6250\n",
            "Epoch 182/200\n",
            "1152/1152 [==============================] - 2s 1ms/step - loss: 0.0083 - accuracy: 1.0000 - val_loss: 1.4731 - val_accuracy: 0.6458\n",
            "Epoch 183/200\n",
            "1152/1152 [==============================] - 2s 1ms/step - loss: 0.0057 - accuracy: 1.0000 - val_loss: 1.4549 - val_accuracy: 0.6528\n",
            "Epoch 184/200\n",
            "1152/1152 [==============================] - 2s 1ms/step - loss: 0.0047 - accuracy: 1.0000 - val_loss: 1.4545 - val_accuracy: 0.6632\n",
            "Epoch 185/200\n",
            "1152/1152 [==============================] - 2s 1ms/step - loss: 0.0042 - accuracy: 1.0000 - val_loss: 1.4510 - val_accuracy: 0.6736\n",
            "Epoch 186/200\n",
            "1152/1152 [==============================] - 2s 1ms/step - loss: 0.0036 - accuracy: 1.0000 - val_loss: 1.4807 - val_accuracy: 0.6701\n",
            "Epoch 187/200\n",
            "1152/1152 [==============================] - 2s 1ms/step - loss: 0.0088 - accuracy: 0.9983 - val_loss: 9.7526 - val_accuracy: 0.1771\n",
            "Epoch 188/200\n",
            "1152/1152 [==============================] - 2s 1ms/step - loss: 0.9217 - accuracy: 0.8585 - val_loss: 1.4897 - val_accuracy: 0.6424\n",
            "Epoch 189/200\n",
            "1152/1152 [==============================] - 2s 1ms/step - loss: 0.0051 - accuracy: 1.0000 - val_loss: 1.4668 - val_accuracy: 0.6562\n",
            "Epoch 190/200\n",
            "1152/1152 [==============================] - 2s 1ms/step - loss: 0.0044 - accuracy: 1.0000 - val_loss: 1.4631 - val_accuracy: 0.6701\n",
            "Epoch 191/200\n",
            "1152/1152 [==============================] - 2s 1ms/step - loss: 0.0040 - accuracy: 1.0000 - val_loss: 1.4615 - val_accuracy: 0.6597\n",
            "Epoch 192/200\n",
            "1152/1152 [==============================] - 2s 1ms/step - loss: 0.0035 - accuracy: 1.0000 - val_loss: 1.4672 - val_accuracy: 0.6528\n",
            "Epoch 193/200\n",
            "1152/1152 [==============================] - 2s 1ms/step - loss: 0.0032 - accuracy: 1.0000 - val_loss: 1.4878 - val_accuracy: 0.6562\n",
            "Epoch 194/200\n",
            "1152/1152 [==============================] - 2s 1ms/step - loss: 0.0036 - accuracy: 1.0000 - val_loss: 2.1620 - val_accuracy: 0.5764\n",
            "Epoch 195/200\n",
            "1152/1152 [==============================] - 2s 1ms/step - loss: 0.5555 - accuracy: 0.9071 - val_loss: 1.4937 - val_accuracy: 0.6632\n",
            "Epoch 196/200\n",
            "1152/1152 [==============================] - 2s 1ms/step - loss: 0.0051 - accuracy: 1.0000 - val_loss: 1.4630 - val_accuracy: 0.6701\n",
            "Epoch 197/200\n",
            "1152/1152 [==============================] - 2s 1ms/step - loss: 0.0044 - accuracy: 1.0000 - val_loss: 1.4561 - val_accuracy: 0.6701\n",
            "Epoch 198/200\n",
            "1152/1152 [==============================] - 2s 1ms/step - loss: 0.0039 - accuracy: 1.0000 - val_loss: 1.4550 - val_accuracy: 0.6701\n",
            "Epoch 199/200\n",
            "1152/1152 [==============================] - 2s 1ms/step - loss: 0.0034 - accuracy: 1.0000 - val_loss: 1.4665 - val_accuracy: 0.6875\n",
            "Epoch 200/200\n",
            "1152/1152 [==============================] - 2s 1ms/step - loss: 0.0030 - accuracy: 1.0000 - val_loss: 1.5145 - val_accuracy: 0.6493\n"
          ],
          "name": "stdout"
        }
      ]
    },
    {
      "cell_type": "code",
      "metadata": {
        "id": "h5gnE8eJBG6O",
        "colab_type": "code",
        "colab": {}
      },
      "source": [
        "Y_pred_cnn = model.predict(X_expanded_scaled_test_cnn)"
      ],
      "execution_count": null,
      "outputs": []
    },
    {
      "cell_type": "code",
      "metadata": {
        "id": "QPdlM3aMBGy9",
        "colab_type": "code",
        "colab": {}
      },
      "source": [
        "Y_pred_cnn = np.argmax(Y_pred_cnn,axis=1)"
      ],
      "execution_count": null,
      "outputs": []
    },
    {
      "cell_type": "code",
      "metadata": {
        "id": "fmJPl6JcBxfX",
        "colab_type": "code",
        "colab": {
          "base_uri": "https://localhost:8080/",
          "height": 255
        },
        "outputId": "5ada3bfb-ce88-40c2-8d4f-d1265fe69d30"
      },
      "source": [
        "Y_pred_cnn"
      ],
      "execution_count": null,
      "outputs": [
        {
          "output_type": "execute_result",
          "data": {
            "text/plain": [
              "array([6, 1, 1, 3, 4, 0, 5, 7, 4, 5, 5, 4, 1, 1, 1, 2, 2, 0, 1, 3, 6, 4,\n",
              "       2, 2, 5, 7, 7, 3, 3, 6, 1, 3, 7, 6, 0, 3, 3, 1, 3, 5, 3, 4, 1, 7,\n",
              "       6, 5, 1, 4, 1, 4, 5, 7, 5, 1, 1, 7, 5, 3, 1, 6, 1, 5, 4, 4, 6, 7,\n",
              "       2, 5, 1, 1, 1, 4, 4, 2, 6, 1, 2, 1, 1, 7, 6, 5, 2, 2, 0, 3, 1, 5,\n",
              "       1, 6, 6, 6, 3, 2, 3, 1, 2, 2, 7, 3, 4, 5, 2, 6, 4, 1, 3, 6, 1, 2,\n",
              "       1, 6, 0, 3, 5, 4, 1, 6, 5, 7, 5, 4, 3, 7, 6, 3, 5, 1, 3, 4, 5, 7,\n",
              "       1, 0, 4, 4, 2, 3, 2, 2, 1, 5, 0, 7, 7, 2, 6, 1, 1, 0, 7, 4, 5, 1,\n",
              "       4, 3, 6, 3, 6, 7, 1, 2, 5, 5, 6, 3, 2, 4, 1, 5, 1, 2, 5, 2, 7, 4,\n",
              "       4, 7, 7, 5, 6, 7, 1, 4, 7, 2, 5, 6, 6, 5, 4, 4, 2, 7, 2, 7, 2, 3,\n",
              "       6, 3, 7, 3, 4, 4, 3, 5, 1, 1, 7, 2, 1, 1, 5, 1, 6, 7, 3, 4, 1, 1,\n",
              "       4, 3, 3, 3, 0, 4, 2, 7, 4, 3, 5, 7, 3, 6, 6, 7, 2, 3, 3, 5, 1, 1,\n",
              "       1, 1, 0, 4, 5, 4, 7, 3, 3, 3, 3, 4, 4, 4, 3, 4, 6, 1, 1, 5, 2, 5,\n",
              "       3, 7, 7, 2, 3, 4, 6, 5, 1, 2, 5, 2, 4, 3, 3, 1, 7, 2, 1, 1, 3, 5,\n",
              "       4, 4])"
            ]
          },
          "metadata": {
            "tags": []
          },
          "execution_count": 35
        }
      ]
    },
    {
      "cell_type": "code",
      "metadata": {
        "id": "VzTyrev0GjVA",
        "colab_type": "code",
        "colab": {
          "base_uri": "https://localhost:8080/",
          "height": 255
        },
        "outputId": "60c43afd-7bad-428e-f5ef-56b2ce146286"
      },
      "source": [
        "Y_test_cnn"
      ],
      "execution_count": null,
      "outputs": [
        {
          "output_type": "execute_result",
          "data": {
            "text/plain": [
              "array([6, 3, 1, 3, 4, 5, 3, 3, 4, 7, 7, 6, 1, 1, 1, 2, 2, 0, 5, 6, 6, 4,\n",
              "       2, 6, 5, 6, 7, 6, 3, 6, 1, 3, 7, 6, 0, 2, 3, 1, 0, 6, 3, 4, 1, 7,\n",
              "       3, 5, 1, 5, 0, 4, 5, 2, 5, 0, 1, 3, 5, 3, 1, 6, 6, 2, 2, 4, 6, 7,\n",
              "       3, 5, 3, 4, 1, 4, 4, 6, 6, 5, 2, 1, 1, 7, 6, 5, 2, 5, 5, 3, 0, 3,\n",
              "       1, 4, 4, 6, 4, 7, 3, 1, 2, 2, 7, 0, 6, 5, 0, 6, 4, 3, 3, 7, 0, 2,\n",
              "       1, 6, 6, 2, 7, 4, 1, 6, 5, 7, 6, 4, 3, 7, 6, 1, 7, 4, 3, 2, 5, 7,\n",
              "       1, 0, 4, 4, 6, 3, 2, 2, 1, 5, 0, 7, 7, 0, 6, 1, 1, 0, 7, 5, 5, 1,\n",
              "       4, 3, 6, 2, 2, 7, 0, 2, 5, 5, 6, 3, 7, 4, 1, 5, 1, 5, 5, 5, 2, 2,\n",
              "       4, 7, 7, 5, 6, 2, 1, 6, 7, 6, 5, 6, 4, 5, 4, 4, 2, 7, 6, 7, 5, 5,\n",
              "       6, 6, 7, 3, 4, 4, 6, 3, 1, 1, 5, 2, 4, 7, 5, 1, 6, 4, 4, 2, 1, 3,\n",
              "       7, 3, 3, 3, 0, 4, 2, 7, 4, 3, 2, 7, 0, 2, 1, 7, 2, 3, 0, 5, 1, 1,\n",
              "       0, 6, 7, 7, 5, 4, 7, 3, 3, 3, 5, 4, 4, 4, 2, 2, 4, 1, 1, 5, 2, 4,\n",
              "       7, 7, 0, 2, 2, 6, 7, 5, 1, 2, 5, 2, 2, 3, 3, 1, 7, 2, 1, 3, 3, 5,\n",
              "       4, 4])"
            ]
          },
          "metadata": {
            "tags": []
          },
          "execution_count": 43
        }
      ]
    },
    {
      "cell_type": "code",
      "metadata": {
        "id": "NOujrUbbsFw7",
        "colab_type": "code",
        "colab": {
          "base_uri": "https://localhost:8080/",
          "height": 953
        },
        "outputId": "5312c577-032d-4da1-e0ba-657c41d78b1e"
      },
      "source": [
        "keras.utils.plot_model(model)"
      ],
      "execution_count": null,
      "outputs": [
        {
          "output_type": "execute_result",
          "data": {
            "image/png": "[encoded data removed]",
            "text/plain": [
              "<IPython.core.display.Image object>"
            ]
          },
          "metadata": {
            "tags": []
          },
          "execution_count": 37
        }
      ]
    },
    {
      "cell_type": "markdown",
      "metadata": {
        "id": "rvFUT5MZK-Yg",
        "colab_type": "text"
      },
      "source": [
        "# Classification Report"
      ]
    },
    {
      "cell_type": "code",
      "metadata": {
        "id": "b7rm1DGRGplO",
        "colab_type": "code",
        "colab": {
          "base_uri": "https://localhost:8080/",
          "height": 272
        },
        "outputId": "7240a7cd-7015-4f0c-c8a6-4702e1dd3359"
      },
      "source": [
        "print(classification_report(Y_test_cnn,Y_pred_cnn))"
      ],
      "execution_count": null,
      "outputs": [
        {
          "output_type": "stream",
          "text": [
            "              precision    recall  f1-score   support\n",
            "\n",
            "           0       0.60      0.32      0.41        19\n",
            "           1       0.65      0.95      0.77        38\n",
            "           2       0.59      0.53      0.56        38\n",
            "           3       0.58      0.68      0.63        38\n",
            "           4       0.67      0.72      0.69        39\n",
            "           5       0.68      0.67      0.68        39\n",
            "           6       0.67      0.51      0.58        39\n",
            "           7       0.74      0.66      0.69        38\n",
            "\n",
            "    accuracy                           0.65       288\n",
            "   macro avg       0.65      0.63      0.63       288\n",
            "weighted avg       0.65      0.65      0.64       288\n",
            "\n"
          ],
          "name": "stdout"
        }
      ]
    },
    {
      "cell_type": "markdown",
      "metadata": {
        "id": "LaDYbWR4KqDY",
        "colab_type": "text"
      },
      "source": [
        "# ROC-AUC Curve"
      ]
    },
    {
      "cell_type": "code",
      "metadata": {
        "id": "Kw0OuEZpIcQB",
        "colab_type": "code",
        "colab": {
          "base_uri": "https://localhost:8080/",
          "height": 136
        },
        "outputId": "bf423731-7dc1-4ee3-9ca4-91df11962e91"
      },
      "source": [
        "from sklearn.preprocessing import OneHotEncoder\n",
        "enc = OneHotEncoder()\n",
        "Y_test_one_hot_cnn = enc.fit_transform(np.expand_dims(Y_test_cnn,1)).toarray()\n",
        "Y_test_one_hot_cnn"
      ],
      "execution_count": null,
      "outputs": [
        {
          "output_type": "execute_result",
          "data": {
            "text/plain": [
              "array([[0., 0., 0., ..., 0., 1., 0.],\n",
              "       [0., 0., 0., ..., 0., 0., 0.],\n",
              "       [0., 1., 0., ..., 0., 0., 0.],\n",
              "       ...,\n",
              "       [0., 0., 0., ..., 1., 0., 0.],\n",
              "       [0., 0., 0., ..., 0., 0., 0.],\n",
              "       [0., 0., 0., ..., 0., 0., 0.]])"
            ]
          },
          "metadata": {
            "tags": []
          },
          "execution_count": 44
        }
      ]
    },
    {
      "cell_type": "code",
      "metadata": {
        "id": "OW2RlmuiJ2gJ",
        "colab_type": "code",
        "colab": {
          "base_uri": "https://localhost:8080/",
          "height": 51
        },
        "outputId": "7c80c0ab-2864-4297-bd40-f11ffa0bfd29"
      },
      "source": [
        "Y_pred_cnn = model.predict(X_expanded_scaled_test_cnn)\n",
        "print(Y_pred_cnn.shape)\n",
        "print(Y_test_one_hot_cnn.shape)"
      ],
      "execution_count": null,
      "outputs": [
        {
          "output_type": "stream",
          "text": [
            "(288, 8)\n",
            "(288, 8)\n"
          ],
          "name": "stdout"
        }
      ]
    },
    {
      "cell_type": "code",
      "metadata": {
        "id": "NbCxlCMBHt5x",
        "colab_type": "code",
        "colab": {
          "base_uri": "https://localhost:8080/",
          "height": 658
        },
        "outputId": "0b5735f3-ac9c-45bb-fe55-c273bbddbfbd"
      },
      "source": [
        "import numpy as np\n",
        "from scipy import interp\n",
        "import matplotlib.pyplot as plt\n",
        "from itertools import cycle\n",
        "from sklearn.metrics import roc_curve, auc\n",
        "\n",
        "# Plot linewidth.\n",
        "lw = 2\n",
        "n_classes=8\n",
        "# Compute ROC curve and ROC area for each class\n",
        "fpr = dict()\n",
        "tpr = dict()\n",
        "roc_auc = dict()\n",
        "for i in range(n_classes):\n",
        "    fpr[i], tpr[i], _ = roc_curve(Y_test_one_hot_cnn[:, i], Y_pred_cnn[:, i])\n",
        "    roc_auc[i] = auc(fpr[i], tpr[i])\n",
        "\n",
        "# Compute micro-average ROC curve and ROC area\n",
        "fpr[\"micro\"], tpr[\"micro\"], _ = roc_curve(Y_test_one_hot_cnn.ravel(), Y_pred_cnn.ravel())\n",
        "roc_auc[\"micro\"] = auc(fpr[\"micro\"], tpr[\"micro\"])\n",
        "\n",
        "# Compute macro-average ROC curve and ROC area\n",
        "\n",
        "# First aggregate all false positive rates\n",
        "all_fpr = np.unique(np.concatenate([fpr[i] for i in range(n_classes)]))\n",
        "\n",
        "# Then interpolate all ROC curves at this points\n",
        "mean_tpr = np.zeros_like(all_fpr)\n",
        "for i in range(n_classes):\n",
        "    mean_tpr += interp(all_fpr, fpr[i], tpr[i])\n",
        "\n",
        "# Finally average it and compute AUC\n",
        "mean_tpr /= n_classes\n",
        "\n",
        "fpr[\"macro\"] = all_fpr\n",
        "tpr[\"macro\"] = mean_tpr\n",
        "roc_auc[\"macro\"] = auc(fpr[\"macro\"], tpr[\"macro\"])\n",
        "\n",
        "# Plot all ROC curves\n",
        "plt.figure(1,figsize=(10,10))\n",
        "plt.plot(fpr[\"micro\"], tpr[\"micro\"],\n",
        "         label='micro-average ROC curve (area = {0:0.2f})'\n",
        "               ''.format(roc_auc[\"micro\"]),\n",
        "         color='deeppink', linestyle=':', linewidth=4)\n",
        "\n",
        "plt.plot(fpr[\"macro\"], tpr[\"macro\"],\n",
        "         label='macro-average ROC curve (area = {0:0.2f})'\n",
        "               ''.format(roc_auc[\"macro\"]),\n",
        "         color='navy', linestyle=':', linewidth=4)\n",
        "\n",
        "colors = cycle(['aqua', 'darkorange', 'cornflowerblue'])\n",
        "for i, color in zip(range(n_classes), colors):\n",
        "    plt.plot(fpr[i], tpr[i], color=color, lw=lw,\n",
        "             label='ROC curve of class {0} (area = {1:0.2f})'\n",
        "             ''.format(i, roc_auc[i]))\n",
        "\n",
        "plt.plot([0, 1], [0, 1], 'k--', lw=lw)\n",
        "plt.xlim([0.0, 1.0])\n",
        "plt.ylim([0.0, 1.05])\n",
        "plt.xlabel('False Positive Rate')\n",
        "plt.ylabel('True Positive Rate')\n",
        "plt.title('Some extension of Receiver operating characteristic to multi-class')\n",
        "plt.legend(loc=\"lower right\")\n",
        "plt.show()"
      ],
      "execution_count": null,
      "outputs": [
        {
          "output_type": "stream",
          "text": [
            "/usr/local/lib/python3.6/dist-packages/ipykernel_launcher.py:30: DeprecationWarning: scipy.interp is deprecated and will be removed in SciPy 2.0.0, use numpy.interp instead\n"
          ],
          "name": "stderr"
        },
        {
          "output_type": "display_data",
          "data": {
            "image/png": "[encoded data removed]",
            "text/plain": [
              "<Figure size 720x720 with 1 Axes>"
            ]
          },
          "metadata": {
            "tags": [],
            "needs_background": "light"
          }
        }
      ]
    },
    {
      "cell_type": "code",
      "metadata": {
        "id": "HQWolaPsqo4G",
        "colab_type": "code",
        "colab": {}
      },
      "source": [
        "\n",
        "\n",
        "# model = Sequential()\n",
        "\n",
        "# model.add(Conv1D(64, 8,padding='same',   \n",
        "#                  input_shape=(40,1)))\n",
        "# model.add(Activation('relu'))\n",
        "# model.add(MaxPooling1D(pool_size=(2)))\n",
        "# model.add(Conv1D(128, 8,padding='same',))\n",
        "# model.add(Activation('relu'))\n",
        "# model.add(MaxPooling1D(pool_size=(5)))\n"
      ],
      "execution_count": null,
      "outputs": []
    },
    {
      "cell_type": "code",
      "metadata": {
        "id": "DCwttVv4hAnV",
        "colab_type": "code",
        "colab": {}
      },
      "source": [
        ""
      ],
      "execution_count": null,
      "outputs": []
    }
  ]
}