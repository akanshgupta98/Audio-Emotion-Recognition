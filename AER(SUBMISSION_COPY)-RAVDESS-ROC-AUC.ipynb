{
 "cells": [
  {
   "cell_type": "markdown",
   "metadata": {},
   "source": [
    "# Importing all the required libraries."
   ]
  },
  {
   "cell_type": "code",
   "execution_count": 38,
   "metadata": {},
   "outputs": [],
   "source": [
    "import csv\n",
    "import librosa\n",
    "import os\n",
    "import pandas as pd\n",
    "from sklearn.model_selection import train_test_split\n",
    "import numpy as np\n",
    "from sklearn.preprocessing import StandardScaler\n",
    "from sklearn.linear_model import LogisticRegression\n",
    "from sklearn.ensemble import RandomForestClassifier\n",
    "from sklearn.metrics import accuracy_score\n",
    "from sklearn.neural_network import MLPClassifier\n",
    "from sklearn.svm import SVC\n",
    "from sklearn.neighbors import KNeighborsClassifier\n",
    "from sklearn.preprocessing import LabelEncoder\n",
    "from sklearn.naive_bayes import GaussianNB\n",
    "from sklearn.metrics import roc_curve"
   ]
  },
  {
   "cell_type": "code",
   "execution_count": 2,
   "metadata": {},
   "outputs": [],
   "source": [
    "file_ravdess_mfcc_40_chroma_def=pd.read_csv('audio.csv')"
   ]
  },
  {
   "cell_type": "code",
   "execution_count": 3,
   "metadata": {},
   "outputs": [
    {
     "data": {
      "text/html": [
       "<div>\n",
       "<style scoped>\n",
       "    .dataframe tbody tr th:only-of-type {\n",
       "        vertical-align: middle;\n",
       "    }\n",
       "\n",
       "    .dataframe tbody tr th {\n",
       "        vertical-align: top;\n",
       "    }\n",
       "\n",
       "    .dataframe thead th {\n",
       "        text-align: right;\n",
       "    }\n",
       "</style>\n",
       "<table border=\"1\" class=\"dataframe\">\n",
       "  <thead>\n",
       "    <tr style=\"text-align: right;\">\n",
       "      <th></th>\n",
       "      <th>name</th>\n",
       "      <th>label</th>\n",
       "      <th>emotion</th>\n",
       "      <th>chroma_stft_mean</th>\n",
       "      <th>rmse_mean</th>\n",
       "      <th>spec_cent_mean</th>\n",
       "      <th>spec_bw_mean</th>\n",
       "      <th>rolloff_mean</th>\n",
       "      <th>zcr_mean</th>\n",
       "      <th>mfcc1</th>\n",
       "      <th>...</th>\n",
       "      <th>chroma3</th>\n",
       "      <th>chroma4</th>\n",
       "      <th>chroma5</th>\n",
       "      <th>chroma6</th>\n",
       "      <th>chroma7</th>\n",
       "      <th>chroma8</th>\n",
       "      <th>chroma9</th>\n",
       "      <th>chroma10</th>\n",
       "      <th>chroma11</th>\n",
       "      <th>chroma12</th>\n",
       "    </tr>\n",
       "  </thead>\n",
       "  <tbody>\n",
       "    <tr>\n",
       "      <td>0</td>\n",
       "      <td>03-01-01-01-01-01-01.wav</td>\n",
       "      <td>1</td>\n",
       "      <td>neutral</td>\n",
       "      <td>0.598800</td>\n",
       "      <td>0.002257</td>\n",
       "      <td>3435.943088</td>\n",
       "      <td>2600.929791</td>\n",
       "      <td>6264.656291</td>\n",
       "      <td>0.326237</td>\n",
       "      <td>-697.984245</td>\n",
       "      <td>...</td>\n",
       "      <td>0.570387</td>\n",
       "      <td>0.562410</td>\n",
       "      <td>0.551299</td>\n",
       "      <td>0.531241</td>\n",
       "      <td>0.589565</td>\n",
       "      <td>0.640624</td>\n",
       "      <td>0.644353</td>\n",
       "      <td>0.608717</td>\n",
       "      <td>0.611980</td>\n",
       "      <td>0.606167</td>\n",
       "    </tr>\n",
       "    <tr>\n",
       "      <td>1</td>\n",
       "      <td>03-01-01-01-01-02-01.wav</td>\n",
       "      <td>1</td>\n",
       "      <td>neutral</td>\n",
       "      <td>0.578452</td>\n",
       "      <td>0.002420</td>\n",
       "      <td>3231.037280</td>\n",
       "      <td>2646.981271</td>\n",
       "      <td>6162.832642</td>\n",
       "      <td>0.340786</td>\n",
       "      <td>-693.069755</td>\n",
       "      <td>...</td>\n",
       "      <td>0.586752</td>\n",
       "      <td>0.530952</td>\n",
       "      <td>0.529118</td>\n",
       "      <td>0.552281</td>\n",
       "      <td>0.497320</td>\n",
       "      <td>0.549519</td>\n",
       "      <td>0.584854</td>\n",
       "      <td>0.633122</td>\n",
       "      <td>0.632074</td>\n",
       "      <td>0.617527</td>\n",
       "    </tr>\n",
       "    <tr>\n",
       "      <td>2</td>\n",
       "      <td>03-01-01-01-02-01-01.wav</td>\n",
       "      <td>1</td>\n",
       "      <td>neutral</td>\n",
       "      <td>0.587585</td>\n",
       "      <td>0.002810</td>\n",
       "      <td>3203.154528</td>\n",
       "      <td>2605.181241</td>\n",
       "      <td>6117.338659</td>\n",
       "      <td>0.356861</td>\n",
       "      <td>-691.770194</td>\n",
       "      <td>...</td>\n",
       "      <td>0.579290</td>\n",
       "      <td>0.590824</td>\n",
       "      <td>0.573292</td>\n",
       "      <td>0.528130</td>\n",
       "      <td>0.516716</td>\n",
       "      <td>0.578961</td>\n",
       "      <td>0.639646</td>\n",
       "      <td>0.640274</td>\n",
       "      <td>0.563098</td>\n",
       "      <td>0.562465</td>\n",
       "    </tr>\n",
       "    <tr>\n",
       "      <td>3</td>\n",
       "      <td>03-01-01-01-02-02-01.wav</td>\n",
       "      <td>1</td>\n",
       "      <td>neutral</td>\n",
       "      <td>0.573247</td>\n",
       "      <td>0.002618</td>\n",
       "      <td>3080.483081</td>\n",
       "      <td>2644.191743</td>\n",
       "      <td>6094.210838</td>\n",
       "      <td>0.366200</td>\n",
       "      <td>-685.237871</td>\n",
       "      <td>...</td>\n",
       "      <td>0.518804</td>\n",
       "      <td>0.521994</td>\n",
       "      <td>0.584694</td>\n",
       "      <td>0.590593</td>\n",
       "      <td>0.537656</td>\n",
       "      <td>0.589734</td>\n",
       "      <td>0.611182</td>\n",
       "      <td>0.560056</td>\n",
       "      <td>0.568192</td>\n",
       "      <td>0.592452</td>\n",
       "    </tr>\n",
       "    <tr>\n",
       "      <td>4</td>\n",
       "      <td>03-01-02-01-01-01-01.wav</td>\n",
       "      <td>2</td>\n",
       "      <td>calm</td>\n",
       "      <td>0.561084</td>\n",
       "      <td>0.001654</td>\n",
       "      <td>3192.620354</td>\n",
       "      <td>2601.322629</td>\n",
       "      <td>6003.471105</td>\n",
       "      <td>0.313122</td>\n",
       "      <td>-727.317945</td>\n",
       "      <td>...</td>\n",
       "      <td>0.586327</td>\n",
       "      <td>0.547133</td>\n",
       "      <td>0.522434</td>\n",
       "      <td>0.539025</td>\n",
       "      <td>0.501785</td>\n",
       "      <td>0.554183</td>\n",
       "      <td>0.575118</td>\n",
       "      <td>0.618561</td>\n",
       "      <td>0.654716</td>\n",
       "      <td>0.552219</td>\n",
       "    </tr>\n",
       "  </tbody>\n",
       "</table>\n",
       "<p>5 rows × 61 columns</p>\n",
       "</div>"
      ],
      "text/plain": [
       "                       name  label  emotion  chroma_stft_mean  rmse_mean  \\\n",
       "0  03-01-01-01-01-01-01.wav      1  neutral          0.598800   0.002257   \n",
       "1  03-01-01-01-01-02-01.wav      1  neutral          0.578452   0.002420   \n",
       "2  03-01-01-01-02-01-01.wav      1  neutral          0.587585   0.002810   \n",
       "3  03-01-01-01-02-02-01.wav      1  neutral          0.573247   0.002618   \n",
       "4  03-01-02-01-01-01-01.wav      2     calm          0.561084   0.001654   \n",
       "\n",
       "   spec_cent_mean  spec_bw_mean  rolloff_mean  zcr_mean       mfcc1  ...  \\\n",
       "0     3435.943088   2600.929791   6264.656291  0.326237 -697.984245  ...   \n",
       "1     3231.037280   2646.981271   6162.832642  0.340786 -693.069755  ...   \n",
       "2     3203.154528   2605.181241   6117.338659  0.356861 -691.770194  ...   \n",
       "3     3080.483081   2644.191743   6094.210838  0.366200 -685.237871  ...   \n",
       "4     3192.620354   2601.322629   6003.471105  0.313122 -727.317945  ...   \n",
       "\n",
       "    chroma3   chroma4   chroma5   chroma6   chroma7   chroma8   chroma9  \\\n",
       "0  0.570387  0.562410  0.551299  0.531241  0.589565  0.640624  0.644353   \n",
       "1  0.586752  0.530952  0.529118  0.552281  0.497320  0.549519  0.584854   \n",
       "2  0.579290  0.590824  0.573292  0.528130  0.516716  0.578961  0.639646   \n",
       "3  0.518804  0.521994  0.584694  0.590593  0.537656  0.589734  0.611182   \n",
       "4  0.586327  0.547133  0.522434  0.539025  0.501785  0.554183  0.575118   \n",
       "\n",
       "   chroma10  chroma11  chroma12  \n",
       "0  0.608717  0.611980  0.606167  \n",
       "1  0.633122  0.632074  0.617527  \n",
       "2  0.640274  0.563098  0.562465  \n",
       "3  0.560056  0.568192  0.592452  \n",
       "4  0.618561  0.654716  0.552219  \n",
       "\n",
       "[5 rows x 61 columns]"
      ]
     },
     "execution_count": 3,
     "metadata": {},
     "output_type": "execute_result"
    }
   ],
   "source": [
    "file_ravdess_mfcc_40_chroma_def.head()"
   ]
  },
  {
   "cell_type": "code",
   "execution_count": 19,
   "metadata": {},
   "outputs": [
    {
     "data": {
      "text/plain": [
       "(1440, 61)"
      ]
     },
     "execution_count": 19,
     "metadata": {},
     "output_type": "execute_result"
    }
   ],
   "source": [
    "file_ravdess_mfcc_40_chroma_def.shape"
   ]
  },
  {
   "cell_type": "code",
   "execution_count": 20,
   "metadata": {},
   "outputs": [],
   "source": [
    "file_ravdess_mfcc_chroma_40=pd.read_csv('myexp.csv')"
   ]
  },
  {
   "cell_type": "code",
   "execution_count": 21,
   "metadata": {},
   "outputs": [
    {
     "data": {
      "text/plain": [
       "(1440, 89)"
      ]
     },
     "execution_count": 21,
     "metadata": {},
     "output_type": "execute_result"
    }
   ],
   "source": [
    "file_ravdess_mfcc_chroma_40.shape"
   ]
  },
  {
   "cell_type": "code",
   "execution_count": 22,
   "metadata": {},
   "outputs": [
    {
     "data": {
      "text/html": [
       "<div>\n",
       "<style scoped>\n",
       "    .dataframe tbody tr th:only-of-type {\n",
       "        vertical-align: middle;\n",
       "    }\n",
       "\n",
       "    .dataframe tbody tr th {\n",
       "        vertical-align: top;\n",
       "    }\n",
       "\n",
       "    .dataframe thead th {\n",
       "        text-align: right;\n",
       "    }\n",
       "</style>\n",
       "<table border=\"1\" class=\"dataframe\">\n",
       "  <thead>\n",
       "    <tr style=\"text-align: right;\">\n",
       "      <th></th>\n",
       "      <th>name</th>\n",
       "      <th>label</th>\n",
       "      <th>emotion</th>\n",
       "      <th>chroma_stft_mean</th>\n",
       "      <th>rmse_mean</th>\n",
       "      <th>spec_cent_mean</th>\n",
       "      <th>spec_bw_mean</th>\n",
       "      <th>rolloff_mean</th>\n",
       "      <th>zcr_mean</th>\n",
       "      <th>mfcc1</th>\n",
       "      <th>...</th>\n",
       "      <th>chroma31</th>\n",
       "      <th>chroma32</th>\n",
       "      <th>chroma33</th>\n",
       "      <th>chroma34</th>\n",
       "      <th>chroma35</th>\n",
       "      <th>chroma36</th>\n",
       "      <th>chroma37</th>\n",
       "      <th>chroma38</th>\n",
       "      <th>chroma39</th>\n",
       "      <th>chroma40</th>\n",
       "    </tr>\n",
       "  </thead>\n",
       "  <tbody>\n",
       "    <tr>\n",
       "      <td>0</td>\n",
       "      <td>03-01-03-02-01-02-01.wav</td>\n",
       "      <td>3</td>\n",
       "      <td>happy</td>\n",
       "      <td>0.385386</td>\n",
       "      <td>0.008209</td>\n",
       "      <td>2592.308325</td>\n",
       "      <td>2360.097245</td>\n",
       "      <td>4995.771702</td>\n",
       "      <td>0.246548</td>\n",
       "      <td>-560.09265</td>\n",
       "      <td>...</td>\n",
       "      <td>0.464910</td>\n",
       "      <td>0.475772</td>\n",
       "      <td>0.437146</td>\n",
       "      <td>0.477294</td>\n",
       "      <td>0.468137</td>\n",
       "      <td>0.397129</td>\n",
       "      <td>0.374605</td>\n",
       "      <td>0.363818</td>\n",
       "      <td>0.353714</td>\n",
       "      <td>0.350808</td>\n",
       "    </tr>\n",
       "    <tr>\n",
       "      <td>1</td>\n",
       "      <td>03-01-03-02-02-02-01.wav</td>\n",
       "      <td>3</td>\n",
       "      <td>happy</td>\n",
       "      <td>0.399802</td>\n",
       "      <td>0.010222</td>\n",
       "      <td>3158.102896</td>\n",
       "      <td>2509.477352</td>\n",
       "      <td>5908.204274</td>\n",
       "      <td>0.304351</td>\n",
       "      <td>-539.44464</td>\n",
       "      <td>...</td>\n",
       "      <td>0.421390</td>\n",
       "      <td>0.443214</td>\n",
       "      <td>0.441170</td>\n",
       "      <td>0.453948</td>\n",
       "      <td>0.446627</td>\n",
       "      <td>0.423123</td>\n",
       "      <td>0.409154</td>\n",
       "      <td>0.380438</td>\n",
       "      <td>0.364385</td>\n",
       "      <td>0.329913</td>\n",
       "    </tr>\n",
       "    <tr>\n",
       "      <td>2</td>\n",
       "      <td>03-01-03-01-02-02-01.wav</td>\n",
       "      <td>3</td>\n",
       "      <td>happy</td>\n",
       "      <td>0.432610</td>\n",
       "      <td>0.003754</td>\n",
       "      <td>3155.010040</td>\n",
       "      <td>2500.076212</td>\n",
       "      <td>5856.358337</td>\n",
       "      <td>0.369135</td>\n",
       "      <td>-652.92870</td>\n",
       "      <td>...</td>\n",
       "      <td>0.398528</td>\n",
       "      <td>0.452733</td>\n",
       "      <td>0.453803</td>\n",
       "      <td>0.451015</td>\n",
       "      <td>0.450011</td>\n",
       "      <td>0.447997</td>\n",
       "      <td>0.456473</td>\n",
       "      <td>0.446581</td>\n",
       "      <td>0.428503</td>\n",
       "      <td>0.459803</td>\n",
       "    </tr>\n",
       "    <tr>\n",
       "      <td>3</td>\n",
       "      <td>03-01-05-01-01-02-01.wav</td>\n",
       "      <td>5</td>\n",
       "      <td>angry</td>\n",
       "      <td>0.389468</td>\n",
       "      <td>0.009704</td>\n",
       "      <td>3435.518747</td>\n",
       "      <td>2619.287507</td>\n",
       "      <td>6348.558278</td>\n",
       "      <td>0.303829</td>\n",
       "      <td>-526.54034</td>\n",
       "      <td>...</td>\n",
       "      <td>0.422416</td>\n",
       "      <td>0.412361</td>\n",
       "      <td>0.386799</td>\n",
       "      <td>0.383563</td>\n",
       "      <td>0.390801</td>\n",
       "      <td>0.372256</td>\n",
       "      <td>0.367946</td>\n",
       "      <td>0.360153</td>\n",
       "      <td>0.373736</td>\n",
       "      <td>0.369871</td>\n",
       "    </tr>\n",
       "    <tr>\n",
       "      <td>4</td>\n",
       "      <td>03-01-08-01-02-02-01.wav</td>\n",
       "      <td>8</td>\n",
       "      <td>surprised</td>\n",
       "      <td>0.491953</td>\n",
       "      <td>0.003929</td>\n",
       "      <td>3524.545799</td>\n",
       "      <td>2647.952102</td>\n",
       "      <td>6432.624460</td>\n",
       "      <td>0.284329</td>\n",
       "      <td>-666.63245</td>\n",
       "      <td>...</td>\n",
       "      <td>0.530399</td>\n",
       "      <td>0.520594</td>\n",
       "      <td>0.468319</td>\n",
       "      <td>0.440439</td>\n",
       "      <td>0.431363</td>\n",
       "      <td>0.439305</td>\n",
       "      <td>0.463814</td>\n",
       "      <td>0.481968</td>\n",
       "      <td>0.456423</td>\n",
       "      <td>0.451458</td>\n",
       "    </tr>\n",
       "  </tbody>\n",
       "</table>\n",
       "<p>5 rows × 89 columns</p>\n",
       "</div>"
      ],
      "text/plain": [
       "                       name  label    emotion  chroma_stft_mean  rmse_mean  \\\n",
       "0  03-01-03-02-01-02-01.wav      3      happy          0.385386   0.008209   \n",
       "1  03-01-03-02-02-02-01.wav      3      happy          0.399802   0.010222   \n",
       "2  03-01-03-01-02-02-01.wav      3      happy          0.432610   0.003754   \n",
       "3  03-01-05-01-01-02-01.wav      5      angry          0.389468   0.009704   \n",
       "4  03-01-08-01-02-02-01.wav      8  surprised          0.491953   0.003929   \n",
       "\n",
       "   spec_cent_mean  spec_bw_mean  rolloff_mean  zcr_mean      mfcc1  ...  \\\n",
       "0     2592.308325   2360.097245   4995.771702  0.246548 -560.09265  ...   \n",
       "1     3158.102896   2509.477352   5908.204274  0.304351 -539.44464  ...   \n",
       "2     3155.010040   2500.076212   5856.358337  0.369135 -652.92870  ...   \n",
       "3     3435.518747   2619.287507   6348.558278  0.303829 -526.54034  ...   \n",
       "4     3524.545799   2647.952102   6432.624460  0.284329 -666.63245  ...   \n",
       "\n",
       "   chroma31  chroma32  chroma33  chroma34  chroma35  chroma36  chroma37  \\\n",
       "0  0.464910  0.475772  0.437146  0.477294  0.468137  0.397129  0.374605   \n",
       "1  0.421390  0.443214  0.441170  0.453948  0.446627  0.423123  0.409154   \n",
       "2  0.398528  0.452733  0.453803  0.451015  0.450011  0.447997  0.456473   \n",
       "3  0.422416  0.412361  0.386799  0.383563  0.390801  0.372256  0.367946   \n",
       "4  0.530399  0.520594  0.468319  0.440439  0.431363  0.439305  0.463814   \n",
       "\n",
       "   chroma38  chroma39  chroma40  \n",
       "0  0.363818  0.353714  0.350808  \n",
       "1  0.380438  0.364385  0.329913  \n",
       "2  0.446581  0.428503  0.459803  \n",
       "3  0.360153  0.373736  0.369871  \n",
       "4  0.481968  0.456423  0.451458  \n",
       "\n",
       "[5 rows x 89 columns]"
      ]
     },
     "execution_count": 22,
     "metadata": {},
     "output_type": "execute_result"
    }
   ],
   "source": [
    "file_ravdess_mfcc_chroma_40.head()"
   ]
  },
  {
   "cell_type": "code",
   "execution_count": 26,
   "metadata": {},
   "outputs": [],
   "source": [
    "file_rav_sav_mfcc_chroma_40=pd.read_csv('myexpfinal.csv')"
   ]
  },
  {
   "cell_type": "code",
   "execution_count": 27,
   "metadata": {},
   "outputs": [
    {
     "data": {
      "text/plain": [
       "(1920, 89)"
      ]
     },
     "execution_count": 27,
     "metadata": {},
     "output_type": "execute_result"
    }
   ],
   "source": [
    "file_rav_sav_mfcc_chroma_40.shape"
   ]
  },
  {
   "cell_type": "code",
   "execution_count": 28,
   "metadata": {},
   "outputs": [
    {
     "data": {
      "text/html": [
       "<div>\n",
       "<style scoped>\n",
       "    .dataframe tbody tr th:only-of-type {\n",
       "        vertical-align: middle;\n",
       "    }\n",
       "\n",
       "    .dataframe tbody tr th {\n",
       "        vertical-align: top;\n",
       "    }\n",
       "\n",
       "    .dataframe thead th {\n",
       "        text-align: right;\n",
       "    }\n",
       "</style>\n",
       "<table border=\"1\" class=\"dataframe\">\n",
       "  <thead>\n",
       "    <tr style=\"text-align: right;\">\n",
       "      <th></th>\n",
       "      <th>name</th>\n",
       "      <th>label</th>\n",
       "      <th>emotion</th>\n",
       "      <th>chroma_stft_mean</th>\n",
       "      <th>rmse_mean</th>\n",
       "      <th>spec_cent_mean</th>\n",
       "      <th>spec_bw_mean</th>\n",
       "      <th>rolloff_mean</th>\n",
       "      <th>zcr_mean</th>\n",
       "      <th>mfcc1</th>\n",
       "      <th>...</th>\n",
       "      <th>chroma31</th>\n",
       "      <th>chroma32</th>\n",
       "      <th>chroma33</th>\n",
       "      <th>chroma34</th>\n",
       "      <th>chroma35</th>\n",
       "      <th>chroma36</th>\n",
       "      <th>chroma37</th>\n",
       "      <th>chroma38</th>\n",
       "      <th>chroma39</th>\n",
       "      <th>chroma40</th>\n",
       "    </tr>\n",
       "  </thead>\n",
       "  <tbody>\n",
       "    <tr>\n",
       "      <td>0</td>\n",
       "      <td>03-01-03-02-01-02-01.wav</td>\n",
       "      <td>3</td>\n",
       "      <td>happy</td>\n",
       "      <td>0.385386</td>\n",
       "      <td>0.008209</td>\n",
       "      <td>2592.308325</td>\n",
       "      <td>2360.097245</td>\n",
       "      <td>4995.771702</td>\n",
       "      <td>0.246548</td>\n",
       "      <td>-560.09265</td>\n",
       "      <td>...</td>\n",
       "      <td>0.464910</td>\n",
       "      <td>0.475772</td>\n",
       "      <td>0.437146</td>\n",
       "      <td>0.477294</td>\n",
       "      <td>0.468137</td>\n",
       "      <td>0.397129</td>\n",
       "      <td>0.374605</td>\n",
       "      <td>0.363818</td>\n",
       "      <td>0.353714</td>\n",
       "      <td>0.350808</td>\n",
       "    </tr>\n",
       "    <tr>\n",
       "      <td>1</td>\n",
       "      <td>03-01-03-02-02-02-01.wav</td>\n",
       "      <td>3</td>\n",
       "      <td>happy</td>\n",
       "      <td>0.399802</td>\n",
       "      <td>0.010222</td>\n",
       "      <td>3158.102896</td>\n",
       "      <td>2509.477352</td>\n",
       "      <td>5908.204274</td>\n",
       "      <td>0.304351</td>\n",
       "      <td>-539.44464</td>\n",
       "      <td>...</td>\n",
       "      <td>0.421389</td>\n",
       "      <td>0.443214</td>\n",
       "      <td>0.441170</td>\n",
       "      <td>0.453948</td>\n",
       "      <td>0.446627</td>\n",
       "      <td>0.423123</td>\n",
       "      <td>0.409154</td>\n",
       "      <td>0.380438</td>\n",
       "      <td>0.364385</td>\n",
       "      <td>0.329913</td>\n",
       "    </tr>\n",
       "    <tr>\n",
       "      <td>2</td>\n",
       "      <td>03-01-03-01-02-02-01.wav</td>\n",
       "      <td>3</td>\n",
       "      <td>happy</td>\n",
       "      <td>0.432610</td>\n",
       "      <td>0.003754</td>\n",
       "      <td>3155.010040</td>\n",
       "      <td>2500.076212</td>\n",
       "      <td>5856.358337</td>\n",
       "      <td>0.369135</td>\n",
       "      <td>-652.92870</td>\n",
       "      <td>...</td>\n",
       "      <td>0.398528</td>\n",
       "      <td>0.452733</td>\n",
       "      <td>0.453803</td>\n",
       "      <td>0.451015</td>\n",
       "      <td>0.450011</td>\n",
       "      <td>0.447997</td>\n",
       "      <td>0.456473</td>\n",
       "      <td>0.446582</td>\n",
       "      <td>0.428503</td>\n",
       "      <td>0.459803</td>\n",
       "    </tr>\n",
       "    <tr>\n",
       "      <td>3</td>\n",
       "      <td>03-01-05-01-01-02-01.wav</td>\n",
       "      <td>5</td>\n",
       "      <td>angry</td>\n",
       "      <td>0.389468</td>\n",
       "      <td>0.009704</td>\n",
       "      <td>3435.518747</td>\n",
       "      <td>2619.287507</td>\n",
       "      <td>6348.558278</td>\n",
       "      <td>0.303829</td>\n",
       "      <td>-526.54034</td>\n",
       "      <td>...</td>\n",
       "      <td>0.422416</td>\n",
       "      <td>0.412361</td>\n",
       "      <td>0.386799</td>\n",
       "      <td>0.383563</td>\n",
       "      <td>0.390801</td>\n",
       "      <td>0.372256</td>\n",
       "      <td>0.367946</td>\n",
       "      <td>0.360153</td>\n",
       "      <td>0.373736</td>\n",
       "      <td>0.369871</td>\n",
       "    </tr>\n",
       "    <tr>\n",
       "      <td>4</td>\n",
       "      <td>03-01-08-01-02-02-01.wav</td>\n",
       "      <td>8</td>\n",
       "      <td>surprised</td>\n",
       "      <td>0.491953</td>\n",
       "      <td>0.003929</td>\n",
       "      <td>3524.545799</td>\n",
       "      <td>2647.952102</td>\n",
       "      <td>6432.624460</td>\n",
       "      <td>0.284329</td>\n",
       "      <td>-666.63245</td>\n",
       "      <td>...</td>\n",
       "      <td>0.530399</td>\n",
       "      <td>0.520594</td>\n",
       "      <td>0.468319</td>\n",
       "      <td>0.440439</td>\n",
       "      <td>0.431363</td>\n",
       "      <td>0.439305</td>\n",
       "      <td>0.463814</td>\n",
       "      <td>0.481968</td>\n",
       "      <td>0.456423</td>\n",
       "      <td>0.451458</td>\n",
       "    </tr>\n",
       "  </tbody>\n",
       "</table>\n",
       "<p>5 rows × 89 columns</p>\n",
       "</div>"
      ],
      "text/plain": [
       "                       name  label    emotion  chroma_stft_mean  rmse_mean  \\\n",
       "0  03-01-03-02-01-02-01.wav      3      happy          0.385386   0.008209   \n",
       "1  03-01-03-02-02-02-01.wav      3      happy          0.399802   0.010222   \n",
       "2  03-01-03-01-02-02-01.wav      3      happy          0.432610   0.003754   \n",
       "3  03-01-05-01-01-02-01.wav      5      angry          0.389468   0.009704   \n",
       "4  03-01-08-01-02-02-01.wav      8  surprised          0.491953   0.003929   \n",
       "\n",
       "   spec_cent_mean  spec_bw_mean  rolloff_mean  zcr_mean      mfcc1  ...  \\\n",
       "0     2592.308325   2360.097245   4995.771702  0.246548 -560.09265  ...   \n",
       "1     3158.102896   2509.477352   5908.204274  0.304351 -539.44464  ...   \n",
       "2     3155.010040   2500.076212   5856.358337  0.369135 -652.92870  ...   \n",
       "3     3435.518747   2619.287507   6348.558278  0.303829 -526.54034  ...   \n",
       "4     3524.545799   2647.952102   6432.624460  0.284329 -666.63245  ...   \n",
       "\n",
       "   chroma31  chroma32  chroma33  chroma34  chroma35  chroma36  chroma37  \\\n",
       "0  0.464910  0.475772  0.437146  0.477294  0.468137  0.397129  0.374605   \n",
       "1  0.421389  0.443214  0.441170  0.453948  0.446627  0.423123  0.409154   \n",
       "2  0.398528  0.452733  0.453803  0.451015  0.450011  0.447997  0.456473   \n",
       "3  0.422416  0.412361  0.386799  0.383563  0.390801  0.372256  0.367946   \n",
       "4  0.530399  0.520594  0.468319  0.440439  0.431363  0.439305  0.463814   \n",
       "\n",
       "   chroma38  chroma39  chroma40  \n",
       "0  0.363818  0.353714  0.350808  \n",
       "1  0.380438  0.364385  0.329913  \n",
       "2  0.446582  0.428503  0.459803  \n",
       "3  0.360153  0.373736  0.369871  \n",
       "4  0.481968  0.456423  0.451458  \n",
       "\n",
       "[5 rows x 89 columns]"
      ]
     },
     "execution_count": 28,
     "metadata": {},
     "output_type": "execute_result"
    }
   ],
   "source": [
    "file_rav_sav_mfcc_chroma_40.head()"
   ]
  },
  {
   "cell_type": "code",
   "execution_count": 34,
   "metadata": {},
   "outputs": [],
   "source": [
    "file_sav_mfcc_40_chroma_def=pd.read_csv('save.csv')"
   ]
  },
  {
   "cell_type": "code",
   "execution_count": 35,
   "metadata": {},
   "outputs": [
    {
     "data": {
      "text/plain": [
       "(480, 61)"
      ]
     },
     "execution_count": 35,
     "metadata": {},
     "output_type": "execute_result"
    }
   ],
   "source": [
    "file_sav_mfcc_40_chroma_def.shape"
   ]
  },
  {
   "cell_type": "code",
   "execution_count": 36,
   "metadata": {},
   "outputs": [
    {
     "data": {
      "text/html": [
       "<div>\n",
       "<style scoped>\n",
       "    .dataframe tbody tr th:only-of-type {\n",
       "        vertical-align: middle;\n",
       "    }\n",
       "\n",
       "    .dataframe tbody tr th {\n",
       "        vertical-align: top;\n",
       "    }\n",
       "\n",
       "    .dataframe thead th {\n",
       "        text-align: right;\n",
       "    }\n",
       "</style>\n",
       "<table border=\"1\" class=\"dataframe\">\n",
       "  <thead>\n",
       "    <tr style=\"text-align: right;\">\n",
       "      <th></th>\n",
       "      <th>name</th>\n",
       "      <th>label</th>\n",
       "      <th>emotion</th>\n",
       "      <th>chroma_stft_mean</th>\n",
       "      <th>rmse_mean</th>\n",
       "      <th>spec_cent_mean</th>\n",
       "      <th>spec_bw_mean</th>\n",
       "      <th>rolloff_mean</th>\n",
       "      <th>zcr_mean</th>\n",
       "      <th>mfcc1</th>\n",
       "      <th>...</th>\n",
       "      <th>chroma3</th>\n",
       "      <th>chroma4</th>\n",
       "      <th>chroma5</th>\n",
       "      <th>chroma6</th>\n",
       "      <th>chroma7</th>\n",
       "      <th>chroma8</th>\n",
       "      <th>chroma9</th>\n",
       "      <th>chroma10</th>\n",
       "      <th>chroma11</th>\n",
       "      <th>chroma12</th>\n",
       "    </tr>\n",
       "  </thead>\n",
       "  <tbody>\n",
       "    <tr>\n",
       "      <td>0</td>\n",
       "      <td>a07.wav</td>\n",
       "      <td>5</td>\n",
       "      <td>angry</td>\n",
       "      <td>0.454161</td>\n",
       "      <td>0.219577</td>\n",
       "      <td>770.225570</td>\n",
       "      <td>1245.288464</td>\n",
       "      <td>1289.599609</td>\n",
       "      <td>0.014129</td>\n",
       "      <td>-310.76282</td>\n",
       "      <td>...</td>\n",
       "      <td>0.451283</td>\n",
       "      <td>0.532295</td>\n",
       "      <td>0.595957</td>\n",
       "      <td>0.585469</td>\n",
       "      <td>0.516790</td>\n",
       "      <td>0.472828</td>\n",
       "      <td>0.439147</td>\n",
       "      <td>0.379205</td>\n",
       "      <td>0.334979</td>\n",
       "      <td>0.369499</td>\n",
       "    </tr>\n",
       "    <tr>\n",
       "      <td>1</td>\n",
       "      <td>su11.wav</td>\n",
       "      <td>8</td>\n",
       "      <td>surprised</td>\n",
       "      <td>0.538299</td>\n",
       "      <td>0.124430</td>\n",
       "      <td>825.633466</td>\n",
       "      <td>1250.196555</td>\n",
       "      <td>1387.058989</td>\n",
       "      <td>0.013365</td>\n",
       "      <td>-374.00827</td>\n",
       "      <td>...</td>\n",
       "      <td>0.564124</td>\n",
       "      <td>0.609270</td>\n",
       "      <td>0.538288</td>\n",
       "      <td>0.526328</td>\n",
       "      <td>0.543785</td>\n",
       "      <td>0.556579</td>\n",
       "      <td>0.567067</td>\n",
       "      <td>0.560961</td>\n",
       "      <td>0.510373</td>\n",
       "      <td>0.461372</td>\n",
       "    </tr>\n",
       "    <tr>\n",
       "      <td>2</td>\n",
       "      <td>h04.wav</td>\n",
       "      <td>3</td>\n",
       "      <td>happy</td>\n",
       "      <td>0.337713</td>\n",
       "      <td>0.199768</td>\n",
       "      <td>960.704483</td>\n",
       "      <td>1194.943258</td>\n",
       "      <td>1768.713379</td>\n",
       "      <td>0.020119</td>\n",
       "      <td>-283.00680</td>\n",
       "      <td>...</td>\n",
       "      <td>0.206731</td>\n",
       "      <td>0.241154</td>\n",
       "      <td>0.295855</td>\n",
       "      <td>0.345946</td>\n",
       "      <td>0.383043</td>\n",
       "      <td>0.354404</td>\n",
       "      <td>0.354393</td>\n",
       "      <td>0.401778</td>\n",
       "      <td>0.450322</td>\n",
       "      <td>0.436226</td>\n",
       "    </tr>\n",
       "    <tr>\n",
       "      <td>3</td>\n",
       "      <td>d15.wav</td>\n",
       "      <td>7</td>\n",
       "      <td>disgust</td>\n",
       "      <td>0.392497</td>\n",
       "      <td>0.094476</td>\n",
       "      <td>915.547283</td>\n",
       "      <td>1299.673530</td>\n",
       "      <td>1818.558757</td>\n",
       "      <td>0.011486</td>\n",
       "      <td>-402.85272</td>\n",
       "      <td>...</td>\n",
       "      <td>0.475527</td>\n",
       "      <td>0.512193</td>\n",
       "      <td>0.450575</td>\n",
       "      <td>0.375740</td>\n",
       "      <td>0.357397</td>\n",
       "      <td>0.337109</td>\n",
       "      <td>0.310256</td>\n",
       "      <td>0.309857</td>\n",
       "      <td>0.310629</td>\n",
       "      <td>0.341707</td>\n",
       "    </tr>\n",
       "    <tr>\n",
       "      <td>4</td>\n",
       "      <td>f15.wav</td>\n",
       "      <td>6</td>\n",
       "      <td>fearful</td>\n",
       "      <td>0.349216</td>\n",
       "      <td>0.180558</td>\n",
       "      <td>945.162458</td>\n",
       "      <td>1198.264363</td>\n",
       "      <td>1706.207275</td>\n",
       "      <td>0.014992</td>\n",
       "      <td>-317.88593</td>\n",
       "      <td>...</td>\n",
       "      <td>0.247705</td>\n",
       "      <td>0.278932</td>\n",
       "      <td>0.365006</td>\n",
       "      <td>0.551702</td>\n",
       "      <td>0.657871</td>\n",
       "      <td>0.574245</td>\n",
       "      <td>0.423041</td>\n",
       "      <td>0.272397</td>\n",
       "      <td>0.187965</td>\n",
       "      <td>0.183048</td>\n",
       "    </tr>\n",
       "  </tbody>\n",
       "</table>\n",
       "<p>5 rows × 61 columns</p>\n",
       "</div>"
      ],
      "text/plain": [
       "       name  label    emotion  chroma_stft_mean  rmse_mean  spec_cent_mean  \\\n",
       "0   a07.wav      5      angry          0.454161   0.219577      770.225570   \n",
       "1  su11.wav      8  surprised          0.538299   0.124430      825.633466   \n",
       "2   h04.wav      3      happy          0.337713   0.199768      960.704483   \n",
       "3   d15.wav      7    disgust          0.392497   0.094476      915.547283   \n",
       "4   f15.wav      6    fearful          0.349216   0.180558      945.162458   \n",
       "\n",
       "   spec_bw_mean  rolloff_mean  zcr_mean      mfcc1  ...   chroma3   chroma4  \\\n",
       "0   1245.288464   1289.599609  0.014129 -310.76282  ...  0.451283  0.532295   \n",
       "1   1250.196555   1387.058989  0.013365 -374.00827  ...  0.564124  0.609270   \n",
       "2   1194.943258   1768.713379  0.020119 -283.00680  ...  0.206731  0.241154   \n",
       "3   1299.673530   1818.558757  0.011486 -402.85272  ...  0.475527  0.512193   \n",
       "4   1198.264363   1706.207275  0.014992 -317.88593  ...  0.247705  0.278932   \n",
       "\n",
       "    chroma5   chroma6   chroma7   chroma8   chroma9  chroma10  chroma11  \\\n",
       "0  0.595957  0.585469  0.516790  0.472828  0.439147  0.379205  0.334979   \n",
       "1  0.538288  0.526328  0.543785  0.556579  0.567067  0.560961  0.510373   \n",
       "2  0.295855  0.345946  0.383043  0.354404  0.354393  0.401778  0.450322   \n",
       "3  0.450575  0.375740  0.357397  0.337109  0.310256  0.309857  0.310629   \n",
       "4  0.365006  0.551702  0.657871  0.574245  0.423041  0.272397  0.187965   \n",
       "\n",
       "   chroma12  \n",
       "0  0.369499  \n",
       "1  0.461372  \n",
       "2  0.436226  \n",
       "3  0.341707  \n",
       "4  0.183048  \n",
       "\n",
       "[5 rows x 61 columns]"
      ]
     },
     "execution_count": 36,
     "metadata": {},
     "output_type": "execute_result"
    }
   ],
   "source": [
    "file_sav_mfcc_40_chroma_def.head()"
   ]
  },
  {
   "cell_type": "code",
   "execution_count": 39,
   "metadata": {},
   "outputs": [],
   "source": [
    "file_rav_sav_mfcc_40_chroma_def=pd.read_csv('rav_sav.csv')"
   ]
  },
  {
   "cell_type": "code",
   "execution_count": 40,
   "metadata": {},
   "outputs": [
    {
     "data": {
      "text/plain": [
       "(1920, 61)"
      ]
     },
     "execution_count": 40,
     "metadata": {},
     "output_type": "execute_result"
    }
   ],
   "source": [
    "file_rav_sav_mfcc_40_chroma_def.shape"
   ]
  },
  {
   "cell_type": "code",
   "execution_count": 42,
   "metadata": {},
   "outputs": [
    {
     "data": {
      "text/html": [
       "<div>\n",
       "<style scoped>\n",
       "    .dataframe tbody tr th:only-of-type {\n",
       "        vertical-align: middle;\n",
       "    }\n",
       "\n",
       "    .dataframe tbody tr th {\n",
       "        vertical-align: top;\n",
       "    }\n",
       "\n",
       "    .dataframe thead th {\n",
       "        text-align: right;\n",
       "    }\n",
       "</style>\n",
       "<table border=\"1\" class=\"dataframe\">\n",
       "  <thead>\n",
       "    <tr style=\"text-align: right;\">\n",
       "      <th></th>\n",
       "      <th>name</th>\n",
       "      <th>label</th>\n",
       "      <th>emotion</th>\n",
       "      <th>chroma_stft_mean</th>\n",
       "      <th>rmse_mean</th>\n",
       "      <th>spec_cent_mean</th>\n",
       "      <th>spec_bw_mean</th>\n",
       "      <th>rolloff_mean</th>\n",
       "      <th>zcr_mean</th>\n",
       "      <th>mfcc1</th>\n",
       "      <th>...</th>\n",
       "      <th>chroma3</th>\n",
       "      <th>chroma4</th>\n",
       "      <th>chroma5</th>\n",
       "      <th>chroma6</th>\n",
       "      <th>chroma7</th>\n",
       "      <th>chroma8</th>\n",
       "      <th>chroma9</th>\n",
       "      <th>chroma10</th>\n",
       "      <th>chroma11</th>\n",
       "      <th>chroma12</th>\n",
       "    </tr>\n",
       "  </thead>\n",
       "  <tbody>\n",
       "    <tr>\n",
       "      <td>0</td>\n",
       "      <td>03-01-01-01-01-01-01.wav</td>\n",
       "      <td>1</td>\n",
       "      <td>neutral</td>\n",
       "      <td>0.598800</td>\n",
       "      <td>0.002257</td>\n",
       "      <td>3435.943088</td>\n",
       "      <td>2600.929791</td>\n",
       "      <td>6264.656291</td>\n",
       "      <td>0.326237</td>\n",
       "      <td>-697.984245</td>\n",
       "      <td>...</td>\n",
       "      <td>0.570387</td>\n",
       "      <td>0.562410</td>\n",
       "      <td>0.551299</td>\n",
       "      <td>0.531241</td>\n",
       "      <td>0.589565</td>\n",
       "      <td>0.640624</td>\n",
       "      <td>0.644353</td>\n",
       "      <td>0.608717</td>\n",
       "      <td>0.611980</td>\n",
       "      <td>0.606167</td>\n",
       "    </tr>\n",
       "    <tr>\n",
       "      <td>1</td>\n",
       "      <td>03-01-01-01-01-02-01.wav</td>\n",
       "      <td>1</td>\n",
       "      <td>neutral</td>\n",
       "      <td>0.578452</td>\n",
       "      <td>0.002420</td>\n",
       "      <td>3231.037280</td>\n",
       "      <td>2646.981271</td>\n",
       "      <td>6162.832642</td>\n",
       "      <td>0.340786</td>\n",
       "      <td>-693.069755</td>\n",
       "      <td>...</td>\n",
       "      <td>0.586752</td>\n",
       "      <td>0.530952</td>\n",
       "      <td>0.529118</td>\n",
       "      <td>0.552281</td>\n",
       "      <td>0.497320</td>\n",
       "      <td>0.549519</td>\n",
       "      <td>0.584854</td>\n",
       "      <td>0.633122</td>\n",
       "      <td>0.632074</td>\n",
       "      <td>0.617527</td>\n",
       "    </tr>\n",
       "    <tr>\n",
       "      <td>2</td>\n",
       "      <td>03-01-01-01-02-01-01.wav</td>\n",
       "      <td>1</td>\n",
       "      <td>neutral</td>\n",
       "      <td>0.587585</td>\n",
       "      <td>0.002810</td>\n",
       "      <td>3203.154528</td>\n",
       "      <td>2605.181241</td>\n",
       "      <td>6117.338659</td>\n",
       "      <td>0.356861</td>\n",
       "      <td>-691.770194</td>\n",
       "      <td>...</td>\n",
       "      <td>0.579290</td>\n",
       "      <td>0.590824</td>\n",
       "      <td>0.573292</td>\n",
       "      <td>0.528130</td>\n",
       "      <td>0.516716</td>\n",
       "      <td>0.578961</td>\n",
       "      <td>0.639646</td>\n",
       "      <td>0.640274</td>\n",
       "      <td>0.563098</td>\n",
       "      <td>0.562465</td>\n",
       "    </tr>\n",
       "    <tr>\n",
       "      <td>3</td>\n",
       "      <td>03-01-01-01-02-02-01.wav</td>\n",
       "      <td>1</td>\n",
       "      <td>neutral</td>\n",
       "      <td>0.573247</td>\n",
       "      <td>0.002618</td>\n",
       "      <td>3080.483081</td>\n",
       "      <td>2644.191743</td>\n",
       "      <td>6094.210838</td>\n",
       "      <td>0.366200</td>\n",
       "      <td>-685.237871</td>\n",
       "      <td>...</td>\n",
       "      <td>0.518804</td>\n",
       "      <td>0.521994</td>\n",
       "      <td>0.584694</td>\n",
       "      <td>0.590593</td>\n",
       "      <td>0.537656</td>\n",
       "      <td>0.589734</td>\n",
       "      <td>0.611182</td>\n",
       "      <td>0.560056</td>\n",
       "      <td>0.568192</td>\n",
       "      <td>0.592452</td>\n",
       "    </tr>\n",
       "    <tr>\n",
       "      <td>4</td>\n",
       "      <td>03-01-02-01-01-01-01.wav</td>\n",
       "      <td>2</td>\n",
       "      <td>calm</td>\n",
       "      <td>0.561084</td>\n",
       "      <td>0.001654</td>\n",
       "      <td>3192.620354</td>\n",
       "      <td>2601.322629</td>\n",
       "      <td>6003.471105</td>\n",
       "      <td>0.313122</td>\n",
       "      <td>-727.317945</td>\n",
       "      <td>...</td>\n",
       "      <td>0.586327</td>\n",
       "      <td>0.547133</td>\n",
       "      <td>0.522434</td>\n",
       "      <td>0.539025</td>\n",
       "      <td>0.501785</td>\n",
       "      <td>0.554183</td>\n",
       "      <td>0.575118</td>\n",
       "      <td>0.618561</td>\n",
       "      <td>0.654716</td>\n",
       "      <td>0.552219</td>\n",
       "    </tr>\n",
       "  </tbody>\n",
       "</table>\n",
       "<p>5 rows × 61 columns</p>\n",
       "</div>"
      ],
      "text/plain": [
       "                       name  label  emotion  chroma_stft_mean  rmse_mean  \\\n",
       "0  03-01-01-01-01-01-01.wav      1  neutral          0.598800   0.002257   \n",
       "1  03-01-01-01-01-02-01.wav      1  neutral          0.578452   0.002420   \n",
       "2  03-01-01-01-02-01-01.wav      1  neutral          0.587585   0.002810   \n",
       "3  03-01-01-01-02-02-01.wav      1  neutral          0.573247   0.002618   \n",
       "4  03-01-02-01-01-01-01.wav      2     calm          0.561084   0.001654   \n",
       "\n",
       "   spec_cent_mean  spec_bw_mean  rolloff_mean  zcr_mean       mfcc1  ...  \\\n",
       "0     3435.943088   2600.929791   6264.656291  0.326237 -697.984245  ...   \n",
       "1     3231.037280   2646.981271   6162.832642  0.340786 -693.069755  ...   \n",
       "2     3203.154528   2605.181241   6117.338659  0.356861 -691.770194  ...   \n",
       "3     3080.483081   2644.191743   6094.210838  0.366200 -685.237871  ...   \n",
       "4     3192.620354   2601.322629   6003.471105  0.313122 -727.317945  ...   \n",
       "\n",
       "    chroma3   chroma4   chroma5   chroma6   chroma7   chroma8   chroma9  \\\n",
       "0  0.570387  0.562410  0.551299  0.531241  0.589565  0.640624  0.644353   \n",
       "1  0.586752  0.530952  0.529118  0.552281  0.497320  0.549519  0.584854   \n",
       "2  0.579290  0.590824  0.573292  0.528130  0.516716  0.578961  0.639646   \n",
       "3  0.518804  0.521994  0.584694  0.590593  0.537656  0.589734  0.611182   \n",
       "4  0.586327  0.547133  0.522434  0.539025  0.501785  0.554183  0.575118   \n",
       "\n",
       "   chroma10  chroma11  chroma12  \n",
       "0  0.608717  0.611980  0.606167  \n",
       "1  0.633122  0.632074  0.617527  \n",
       "2  0.640274  0.563098  0.562465  \n",
       "3  0.560056  0.568192  0.592452  \n",
       "4  0.618561  0.654716  0.552219  \n",
       "\n",
       "[5 rows x 61 columns]"
      ]
     },
     "execution_count": 42,
     "metadata": {},
     "output_type": "execute_result"
    }
   ],
   "source": [
    "file_rav_sav_mfcc_40_chroma_def.head()"
   ]
  },
  {
   "cell_type": "markdown",
   "metadata": {},
   "source": [
    "# RAVDESS DATASET"
   ]
  },
  {
   "cell_type": "code",
   "execution_count": 4,
   "metadata": {},
   "outputs": [],
   "source": [
    "# file with mfcc 40 features and chroma 12.\n",
    "data=file_ravdess_mfcc_40_chroma_def"
   ]
  },
  {
   "cell_type": "code",
   "execution_count": 5,
   "metadata": {},
   "outputs": [
    {
     "data": {
      "text/plain": [
       "(1440, 61)"
      ]
     },
     "execution_count": 5,
     "metadata": {},
     "output_type": "execute_result"
    }
   ],
   "source": [
    "data.shape"
   ]
  },
  {
   "cell_type": "code",
   "execution_count": 6,
   "metadata": {},
   "outputs": [
    {
     "data": {
      "text/html": [
       "<div>\n",
       "<style scoped>\n",
       "    .dataframe tbody tr th:only-of-type {\n",
       "        vertical-align: middle;\n",
       "    }\n",
       "\n",
       "    .dataframe tbody tr th {\n",
       "        vertical-align: top;\n",
       "    }\n",
       "\n",
       "    .dataframe thead th {\n",
       "        text-align: right;\n",
       "    }\n",
       "</style>\n",
       "<table border=\"1\" class=\"dataframe\">\n",
       "  <thead>\n",
       "    <tr style=\"text-align: right;\">\n",
       "      <th></th>\n",
       "      <th>name</th>\n",
       "      <th>label</th>\n",
       "      <th>emotion</th>\n",
       "      <th>chroma_stft_mean</th>\n",
       "      <th>rmse_mean</th>\n",
       "      <th>spec_cent_mean</th>\n",
       "      <th>spec_bw_mean</th>\n",
       "      <th>rolloff_mean</th>\n",
       "      <th>zcr_mean</th>\n",
       "      <th>mfcc1</th>\n",
       "      <th>...</th>\n",
       "      <th>chroma3</th>\n",
       "      <th>chroma4</th>\n",
       "      <th>chroma5</th>\n",
       "      <th>chroma6</th>\n",
       "      <th>chroma7</th>\n",
       "      <th>chroma8</th>\n",
       "      <th>chroma9</th>\n",
       "      <th>chroma10</th>\n",
       "      <th>chroma11</th>\n",
       "      <th>chroma12</th>\n",
       "    </tr>\n",
       "  </thead>\n",
       "  <tbody>\n",
       "    <tr>\n",
       "      <td>0</td>\n",
       "      <td>03-01-01-01-01-01-01.wav</td>\n",
       "      <td>1</td>\n",
       "      <td>neutral</td>\n",
       "      <td>0.598800</td>\n",
       "      <td>0.002257</td>\n",
       "      <td>3435.943088</td>\n",
       "      <td>2600.929791</td>\n",
       "      <td>6264.656291</td>\n",
       "      <td>0.326237</td>\n",
       "      <td>-697.984245</td>\n",
       "      <td>...</td>\n",
       "      <td>0.570387</td>\n",
       "      <td>0.562410</td>\n",
       "      <td>0.551299</td>\n",
       "      <td>0.531241</td>\n",
       "      <td>0.589565</td>\n",
       "      <td>0.640624</td>\n",
       "      <td>0.644353</td>\n",
       "      <td>0.608717</td>\n",
       "      <td>0.611980</td>\n",
       "      <td>0.606167</td>\n",
       "    </tr>\n",
       "    <tr>\n",
       "      <td>1</td>\n",
       "      <td>03-01-01-01-01-02-01.wav</td>\n",
       "      <td>1</td>\n",
       "      <td>neutral</td>\n",
       "      <td>0.578452</td>\n",
       "      <td>0.002420</td>\n",
       "      <td>3231.037280</td>\n",
       "      <td>2646.981271</td>\n",
       "      <td>6162.832642</td>\n",
       "      <td>0.340786</td>\n",
       "      <td>-693.069755</td>\n",
       "      <td>...</td>\n",
       "      <td>0.586752</td>\n",
       "      <td>0.530952</td>\n",
       "      <td>0.529118</td>\n",
       "      <td>0.552281</td>\n",
       "      <td>0.497320</td>\n",
       "      <td>0.549519</td>\n",
       "      <td>0.584854</td>\n",
       "      <td>0.633122</td>\n",
       "      <td>0.632074</td>\n",
       "      <td>0.617527</td>\n",
       "    </tr>\n",
       "    <tr>\n",
       "      <td>2</td>\n",
       "      <td>03-01-01-01-02-01-01.wav</td>\n",
       "      <td>1</td>\n",
       "      <td>neutral</td>\n",
       "      <td>0.587585</td>\n",
       "      <td>0.002810</td>\n",
       "      <td>3203.154528</td>\n",
       "      <td>2605.181241</td>\n",
       "      <td>6117.338659</td>\n",
       "      <td>0.356861</td>\n",
       "      <td>-691.770194</td>\n",
       "      <td>...</td>\n",
       "      <td>0.579290</td>\n",
       "      <td>0.590824</td>\n",
       "      <td>0.573292</td>\n",
       "      <td>0.528130</td>\n",
       "      <td>0.516716</td>\n",
       "      <td>0.578961</td>\n",
       "      <td>0.639646</td>\n",
       "      <td>0.640274</td>\n",
       "      <td>0.563098</td>\n",
       "      <td>0.562465</td>\n",
       "    </tr>\n",
       "    <tr>\n",
       "      <td>3</td>\n",
       "      <td>03-01-01-01-02-02-01.wav</td>\n",
       "      <td>1</td>\n",
       "      <td>neutral</td>\n",
       "      <td>0.573247</td>\n",
       "      <td>0.002618</td>\n",
       "      <td>3080.483081</td>\n",
       "      <td>2644.191743</td>\n",
       "      <td>6094.210838</td>\n",
       "      <td>0.366200</td>\n",
       "      <td>-685.237871</td>\n",
       "      <td>...</td>\n",
       "      <td>0.518804</td>\n",
       "      <td>0.521994</td>\n",
       "      <td>0.584694</td>\n",
       "      <td>0.590593</td>\n",
       "      <td>0.537656</td>\n",
       "      <td>0.589734</td>\n",
       "      <td>0.611182</td>\n",
       "      <td>0.560056</td>\n",
       "      <td>0.568192</td>\n",
       "      <td>0.592452</td>\n",
       "    </tr>\n",
       "    <tr>\n",
       "      <td>4</td>\n",
       "      <td>03-01-02-01-01-01-01.wav</td>\n",
       "      <td>2</td>\n",
       "      <td>calm</td>\n",
       "      <td>0.561084</td>\n",
       "      <td>0.001654</td>\n",
       "      <td>3192.620354</td>\n",
       "      <td>2601.322629</td>\n",
       "      <td>6003.471105</td>\n",
       "      <td>0.313122</td>\n",
       "      <td>-727.317945</td>\n",
       "      <td>...</td>\n",
       "      <td>0.586327</td>\n",
       "      <td>0.547133</td>\n",
       "      <td>0.522434</td>\n",
       "      <td>0.539025</td>\n",
       "      <td>0.501785</td>\n",
       "      <td>0.554183</td>\n",
       "      <td>0.575118</td>\n",
       "      <td>0.618561</td>\n",
       "      <td>0.654716</td>\n",
       "      <td>0.552219</td>\n",
       "    </tr>\n",
       "  </tbody>\n",
       "</table>\n",
       "<p>5 rows × 61 columns</p>\n",
       "</div>"
      ],
      "text/plain": [
       "                       name  label  emotion  chroma_stft_mean  rmse_mean  \\\n",
       "0  03-01-01-01-01-01-01.wav      1  neutral          0.598800   0.002257   \n",
       "1  03-01-01-01-01-02-01.wav      1  neutral          0.578452   0.002420   \n",
       "2  03-01-01-01-02-01-01.wav      1  neutral          0.587585   0.002810   \n",
       "3  03-01-01-01-02-02-01.wav      1  neutral          0.573247   0.002618   \n",
       "4  03-01-02-01-01-01-01.wav      2     calm          0.561084   0.001654   \n",
       "\n",
       "   spec_cent_mean  spec_bw_mean  rolloff_mean  zcr_mean       mfcc1  ...  \\\n",
       "0     3435.943088   2600.929791   6264.656291  0.326237 -697.984245  ...   \n",
       "1     3231.037280   2646.981271   6162.832642  0.340786 -693.069755  ...   \n",
       "2     3203.154528   2605.181241   6117.338659  0.356861 -691.770194  ...   \n",
       "3     3080.483081   2644.191743   6094.210838  0.366200 -685.237871  ...   \n",
       "4     3192.620354   2601.322629   6003.471105  0.313122 -727.317945  ...   \n",
       "\n",
       "    chroma3   chroma4   chroma5   chroma6   chroma7   chroma8   chroma9  \\\n",
       "0  0.570387  0.562410  0.551299  0.531241  0.589565  0.640624  0.644353   \n",
       "1  0.586752  0.530952  0.529118  0.552281  0.497320  0.549519  0.584854   \n",
       "2  0.579290  0.590824  0.573292  0.528130  0.516716  0.578961  0.639646   \n",
       "3  0.518804  0.521994  0.584694  0.590593  0.537656  0.589734  0.611182   \n",
       "4  0.586327  0.547133  0.522434  0.539025  0.501785  0.554183  0.575118   \n",
       "\n",
       "   chroma10  chroma11  chroma12  \n",
       "0  0.608717  0.611980  0.606167  \n",
       "1  0.633122  0.632074  0.617527  \n",
       "2  0.640274  0.563098  0.562465  \n",
       "3  0.560056  0.568192  0.592452  \n",
       "4  0.618561  0.654716  0.552219  \n",
       "\n",
       "[5 rows x 61 columns]"
      ]
     },
     "execution_count": 6,
     "metadata": {},
     "output_type": "execute_result"
    }
   ],
   "source": [
    "data.head()"
   ]
  },
  {
   "cell_type": "markdown",
   "metadata": {},
   "source": [
    "# Data-Copy"
   ]
  },
  {
   "cell_type": "code",
   "execution_count": 7,
   "metadata": {},
   "outputs": [],
   "source": [
    "data_copy=data.copy()"
   ]
  },
  {
   "cell_type": "code",
   "execution_count": 8,
   "metadata": {},
   "outputs": [
    {
     "data": {
      "text/plain": [
       "(1440, 61)"
      ]
     },
     "execution_count": 8,
     "metadata": {},
     "output_type": "execute_result"
    }
   ],
   "source": [
    "data_copy.shape"
   ]
  },
  {
   "cell_type": "markdown",
   "metadata": {},
   "source": [
    "# Splitting into X and Y"
   ]
  },
  {
   "cell_type": "code",
   "execution_count": 9,
   "metadata": {},
   "outputs": [],
   "source": [
    "X=data_copy.drop('name label emotion chroma_stft_mean'.split(),axis=1)"
   ]
  },
  {
   "cell_type": "code",
   "execution_count": 10,
   "metadata": {},
   "outputs": [
    {
     "data": {
      "text/plain": [
       "(1440, 57)"
      ]
     },
     "execution_count": 10,
     "metadata": {},
     "output_type": "execute_result"
    }
   ],
   "source": [
    "X.shape"
   ]
  },
  {
   "cell_type": "code",
   "execution_count": 11,
   "metadata": {},
   "outputs": [
    {
     "data": {
      "text/html": [
       "<div>\n",
       "<style scoped>\n",
       "    .dataframe tbody tr th:only-of-type {\n",
       "        vertical-align: middle;\n",
       "    }\n",
       "\n",
       "    .dataframe tbody tr th {\n",
       "        vertical-align: top;\n",
       "    }\n",
       "\n",
       "    .dataframe thead th {\n",
       "        text-align: right;\n",
       "    }\n",
       "</style>\n",
       "<table border=\"1\" class=\"dataframe\">\n",
       "  <thead>\n",
       "    <tr style=\"text-align: right;\">\n",
       "      <th></th>\n",
       "      <th>rmse_mean</th>\n",
       "      <th>spec_cent_mean</th>\n",
       "      <th>spec_bw_mean</th>\n",
       "      <th>rolloff_mean</th>\n",
       "      <th>zcr_mean</th>\n",
       "      <th>mfcc1</th>\n",
       "      <th>mfcc2</th>\n",
       "      <th>mfcc3</th>\n",
       "      <th>mfcc4</th>\n",
       "      <th>mfcc5</th>\n",
       "      <th>...</th>\n",
       "      <th>chroma3</th>\n",
       "      <th>chroma4</th>\n",
       "      <th>chroma5</th>\n",
       "      <th>chroma6</th>\n",
       "      <th>chroma7</th>\n",
       "      <th>chroma8</th>\n",
       "      <th>chroma9</th>\n",
       "      <th>chroma10</th>\n",
       "      <th>chroma11</th>\n",
       "      <th>chroma12</th>\n",
       "    </tr>\n",
       "  </thead>\n",
       "  <tbody>\n",
       "    <tr>\n",
       "      <td>0</td>\n",
       "      <td>0.002257</td>\n",
       "      <td>3435.943088</td>\n",
       "      <td>2600.929791</td>\n",
       "      <td>6264.656291</td>\n",
       "      <td>0.326237</td>\n",
       "      <td>-697.984245</td>\n",
       "      <td>55.228483</td>\n",
       "      <td>0.323863</td>\n",
       "      <td>12.775377</td>\n",
       "      <td>7.396147</td>\n",
       "      <td>...</td>\n",
       "      <td>0.570387</td>\n",
       "      <td>0.562410</td>\n",
       "      <td>0.551299</td>\n",
       "      <td>0.531241</td>\n",
       "      <td>0.589565</td>\n",
       "      <td>0.640624</td>\n",
       "      <td>0.644353</td>\n",
       "      <td>0.608717</td>\n",
       "      <td>0.611980</td>\n",
       "      <td>0.606167</td>\n",
       "    </tr>\n",
       "    <tr>\n",
       "      <td>1</td>\n",
       "      <td>0.002420</td>\n",
       "      <td>3231.037280</td>\n",
       "      <td>2646.981271</td>\n",
       "      <td>6162.832642</td>\n",
       "      <td>0.340786</td>\n",
       "      <td>-693.069755</td>\n",
       "      <td>55.734569</td>\n",
       "      <td>-1.919739</td>\n",
       "      <td>16.408997</td>\n",
       "      <td>8.449357</td>\n",
       "      <td>...</td>\n",
       "      <td>0.586752</td>\n",
       "      <td>0.530952</td>\n",
       "      <td>0.529118</td>\n",
       "      <td>0.552281</td>\n",
       "      <td>0.497320</td>\n",
       "      <td>0.549519</td>\n",
       "      <td>0.584854</td>\n",
       "      <td>0.633122</td>\n",
       "      <td>0.632074</td>\n",
       "      <td>0.617527</td>\n",
       "    </tr>\n",
       "    <tr>\n",
       "      <td>2</td>\n",
       "      <td>0.002810</td>\n",
       "      <td>3203.154528</td>\n",
       "      <td>2605.181241</td>\n",
       "      <td>6117.338659</td>\n",
       "      <td>0.356861</td>\n",
       "      <td>-691.770194</td>\n",
       "      <td>58.350647</td>\n",
       "      <td>-0.165160</td>\n",
       "      <td>13.952124</td>\n",
       "      <td>5.053322</td>\n",
       "      <td>...</td>\n",
       "      <td>0.579290</td>\n",
       "      <td>0.590824</td>\n",
       "      <td>0.573292</td>\n",
       "      <td>0.528130</td>\n",
       "      <td>0.516716</td>\n",
       "      <td>0.578961</td>\n",
       "      <td>0.639646</td>\n",
       "      <td>0.640274</td>\n",
       "      <td>0.563098</td>\n",
       "      <td>0.562465</td>\n",
       "    </tr>\n",
       "    <tr>\n",
       "      <td>3</td>\n",
       "      <td>0.002618</td>\n",
       "      <td>3080.483081</td>\n",
       "      <td>2644.191743</td>\n",
       "      <td>6094.210838</td>\n",
       "      <td>0.366200</td>\n",
       "      <td>-685.237871</td>\n",
       "      <td>56.236698</td>\n",
       "      <td>2.453112</td>\n",
       "      <td>13.566656</td>\n",
       "      <td>6.701948</td>\n",
       "      <td>...</td>\n",
       "      <td>0.518804</td>\n",
       "      <td>0.521994</td>\n",
       "      <td>0.584694</td>\n",
       "      <td>0.590593</td>\n",
       "      <td>0.537656</td>\n",
       "      <td>0.589734</td>\n",
       "      <td>0.611182</td>\n",
       "      <td>0.560056</td>\n",
       "      <td>0.568192</td>\n",
       "      <td>0.592452</td>\n",
       "    </tr>\n",
       "    <tr>\n",
       "      <td>4</td>\n",
       "      <td>0.001654</td>\n",
       "      <td>3192.620354</td>\n",
       "      <td>2601.322629</td>\n",
       "      <td>6003.471105</td>\n",
       "      <td>0.313122</td>\n",
       "      <td>-727.317945</td>\n",
       "      <td>62.764397</td>\n",
       "      <td>2.751275</td>\n",
       "      <td>15.473257</td>\n",
       "      <td>7.763116</td>\n",
       "      <td>...</td>\n",
       "      <td>0.586327</td>\n",
       "      <td>0.547133</td>\n",
       "      <td>0.522434</td>\n",
       "      <td>0.539025</td>\n",
       "      <td>0.501785</td>\n",
       "      <td>0.554183</td>\n",
       "      <td>0.575118</td>\n",
       "      <td>0.618561</td>\n",
       "      <td>0.654716</td>\n",
       "      <td>0.552219</td>\n",
       "    </tr>\n",
       "  </tbody>\n",
       "</table>\n",
       "<p>5 rows × 57 columns</p>\n",
       "</div>"
      ],
      "text/plain": [
       "   rmse_mean  spec_cent_mean  spec_bw_mean  rolloff_mean  zcr_mean  \\\n",
       "0   0.002257     3435.943088   2600.929791   6264.656291  0.326237   \n",
       "1   0.002420     3231.037280   2646.981271   6162.832642  0.340786   \n",
       "2   0.002810     3203.154528   2605.181241   6117.338659  0.356861   \n",
       "3   0.002618     3080.483081   2644.191743   6094.210838  0.366200   \n",
       "4   0.001654     3192.620354   2601.322629   6003.471105  0.313122   \n",
       "\n",
       "        mfcc1      mfcc2     mfcc3      mfcc4     mfcc5  ...   chroma3  \\\n",
       "0 -697.984245  55.228483  0.323863  12.775377  7.396147  ...  0.570387   \n",
       "1 -693.069755  55.734569 -1.919739  16.408997  8.449357  ...  0.586752   \n",
       "2 -691.770194  58.350647 -0.165160  13.952124  5.053322  ...  0.579290   \n",
       "3 -685.237871  56.236698  2.453112  13.566656  6.701948  ...  0.518804   \n",
       "4 -727.317945  62.764397  2.751275  15.473257  7.763116  ...  0.586327   \n",
       "\n",
       "    chroma4   chroma5   chroma6   chroma7   chroma8   chroma9  chroma10  \\\n",
       "0  0.562410  0.551299  0.531241  0.589565  0.640624  0.644353  0.608717   \n",
       "1  0.530952  0.529118  0.552281  0.497320  0.549519  0.584854  0.633122   \n",
       "2  0.590824  0.573292  0.528130  0.516716  0.578961  0.639646  0.640274   \n",
       "3  0.521994  0.584694  0.590593  0.537656  0.589734  0.611182  0.560056   \n",
       "4  0.547133  0.522434  0.539025  0.501785  0.554183  0.575118  0.618561   \n",
       "\n",
       "   chroma11  chroma12  \n",
       "0  0.611980  0.606167  \n",
       "1  0.632074  0.617527  \n",
       "2  0.563098  0.562465  \n",
       "3  0.568192  0.592452  \n",
       "4  0.654716  0.552219  \n",
       "\n",
       "[5 rows x 57 columns]"
      ]
     },
     "execution_count": 11,
     "metadata": {},
     "output_type": "execute_result"
    }
   ],
   "source": [
    "X.head()"
   ]
  },
  {
   "cell_type": "code",
   "execution_count": 12,
   "metadata": {},
   "outputs": [],
   "source": [
    "Y=data['label']"
   ]
  },
  {
   "cell_type": "code",
   "execution_count": 13,
   "metadata": {},
   "outputs": [
    {
     "data": {
      "text/plain": [
       "(1440,)"
      ]
     },
     "execution_count": 13,
     "metadata": {},
     "output_type": "execute_result"
    }
   ],
   "source": [
    "Y.shape"
   ]
  },
  {
   "cell_type": "code",
   "execution_count": 14,
   "metadata": {},
   "outputs": [
    {
     "data": {
      "text/plain": [
       "0       1\n",
       "1       1\n",
       "2       1\n",
       "3       1\n",
       "4       2\n",
       "       ..\n",
       "1435    8\n",
       "1436    8\n",
       "1437    8\n",
       "1438    8\n",
       "1439    8\n",
       "Name: label, Length: 1440, dtype: int64"
      ]
     },
     "execution_count": 14,
     "metadata": {},
     "output_type": "execute_result"
    }
   ],
   "source": [
    "Y"
   ]
  },
  {
   "cell_type": "code",
   "execution_count": null,
   "metadata": {},
   "outputs": [],
   "source": []
  },
  {
   "cell_type": "code",
   "execution_count": null,
   "metadata": {},
   "outputs": [],
   "source": []
  },
  {
   "cell_type": "markdown",
   "metadata": {},
   "source": [
    "# Train-Test-Split"
   ]
  },
  {
   "cell_type": "code",
   "execution_count": null,
   "metadata": {},
   "outputs": [],
   "source": []
  },
  {
   "cell_type": "code",
   "execution_count": 230,
   "metadata": {},
   "outputs": [],
   "source": [
    "X_train,X_test,Y_train,Y_test=train_test_split(X,Y,random_state=2,test_size=0.20)"
   ]
  },
  {
   "cell_type": "code",
   "execution_count": 231,
   "metadata": {},
   "outputs": [
    {
     "name": "stdout",
     "output_type": "stream",
     "text": [
      "(1152, 57)\n",
      "(288, 57)\n",
      "(1152,)\n",
      "(288,)\n"
     ]
    }
   ],
   "source": [
    "print(X_train.shape)\n",
    "print(X_test.shape)\n",
    "print(Y_train.shape)\n",
    "print(Y_test.shape)"
   ]
  },
  {
   "cell_type": "markdown",
   "metadata": {},
   "source": [
    "# Standarization"
   ]
  },
  {
   "cell_type": "code",
   "execution_count": 232,
   "metadata": {},
   "outputs": [],
   "source": [
    "scaler=StandardScaler()"
   ]
  },
  {
   "cell_type": "code",
   "execution_count": 233,
   "metadata": {},
   "outputs": [],
   "source": [
    "X_scaled_train=scaler.fit_transform(X_train)"
   ]
  },
  {
   "cell_type": "code",
   "execution_count": 234,
   "metadata": {},
   "outputs": [],
   "source": [
    "X_scaled_test=scaler.transform(X_test)"
   ]
  },
  {
   "cell_type": "markdown",
   "metadata": {},
   "source": [
    "# Logistic Regression"
   ]
  },
  {
   "cell_type": "code",
   "execution_count": 235,
   "metadata": {},
   "outputs": [],
   "source": [
    "logistic=LogisticRegression()"
   ]
  },
  {
   "cell_type": "code",
   "execution_count": 236,
   "metadata": {},
   "outputs": [
    {
     "name": "stderr",
     "output_type": "stream",
     "text": [
      "/home/akansh/anaconda3/lib/python3.7/site-packages/sklearn/linear_model/logistic.py:432: FutureWarning: Default solver will be changed to 'lbfgs' in 0.22. Specify a solver to silence this warning.\n",
      "  FutureWarning)\n",
      "/home/akansh/anaconda3/lib/python3.7/site-packages/sklearn/linear_model/logistic.py:469: FutureWarning: Default multi_class will be changed to 'auto' in 0.22. Specify the multi_class option to silence this warning.\n",
      "  \"this warning.\", FutureWarning)\n"
     ]
    },
    {
     "data": {
      "text/plain": [
       "LogisticRegression(C=1.0, class_weight=None, dual=False, fit_intercept=True,\n",
       "                   intercept_scaling=1, l1_ratio=None, max_iter=100,\n",
       "                   multi_class='warn', n_jobs=None, penalty='l2',\n",
       "                   random_state=None, solver='warn', tol=0.0001, verbose=0,\n",
       "                   warm_start=False)"
      ]
     },
     "execution_count": 236,
     "metadata": {},
     "output_type": "execute_result"
    }
   ],
   "source": [
    "logistic.fit(X_scaled_train,Y_train)"
   ]
  },
  {
   "cell_type": "code",
   "execution_count": 237,
   "metadata": {},
   "outputs": [],
   "source": [
    "Y_pred=logistic.predict(X_scaled_test)"
   ]
  },
  {
   "cell_type": "code",
   "execution_count": null,
   "metadata": {},
   "outputs": [],
   "source": []
  },
  {
   "cell_type": "code",
   "execution_count": 238,
   "metadata": {},
   "outputs": [
    {
     "name": "stdout",
     "output_type": "stream",
     "text": [
      "Logistic Regression Test Accuracy 52.78%\n"
     ]
    }
   ],
   "source": [
    "print(\"Logistic Regression Test Accuracy {:.2f}%\".format(logistic.score(X_scaled_test, Y_test)*100))"
   ]
  },
  {
   "cell_type": "code",
   "execution_count": 252,
   "metadata": {},
   "outputs": [],
   "source": [
    "Y_pred_prob=logistic.predict_proba(X_scaled_test)"
   ]
  },
  {
   "cell_type": "code",
   "execution_count": 247,
   "metadata": {},
   "outputs": [],
   "source": [
    "Y_test_lr=Y_test"
   ]
  },
  {
   "cell_type": "code",
   "execution_count": 248,
   "metadata": {},
   "outputs": [
    {
     "data": {
      "text/plain": [
       "array([4, 2, 2, 6, 3, 1, 7, 7, 1, 3, 4, 1, 1, 3, 4, 4, 7, 1, 1, 2, 7, 1,\n",
       "       6, 5, 1, 2, 0, 3, 3, 5, 1, 3, 6, 1, 4, 4, 5, 5, 0, 0, 4, 3, 2, 5,\n",
       "       7, 5, 2, 7, 3, 2, 4, 5, 2, 5, 6, 2, 3, 5, 5, 1, 4, 7, 2, 6, 6, 5,\n",
       "       2, 2, 4, 1, 3, 3, 3, 7, 4, 3, 1, 2, 6, 1, 1, 4, 6, 6, 6, 5, 1, 0,\n",
       "       4, 5, 4, 5, 7, 2, 2, 1, 3, 5, 3, 5, 5, 3, 0, 0, 6, 7, 4, 2, 6, 6,\n",
       "       2, 0, 3, 6, 5, 7, 4, 1, 5, 5, 6, 3, 5, 2, 4, 4, 1, 1, 4, 3, 4, 3,\n",
       "       2, 6, 2, 4, 7, 3, 5, 4, 5, 2, 7, 0, 1, 7, 6, 7, 1, 4, 2, 0, 6, 0,\n",
       "       1, 4, 1, 4, 1, 6, 0, 4, 3, 7, 6, 6, 5, 1, 4, 6, 0, 6, 2, 1, 4, 5,\n",
       "       2, 5, 1, 1, 0, 0, 5, 2, 6, 0, 6, 2, 6, 0, 6, 5, 7, 2, 4, 4, 7, 4,\n",
       "       1, 6, 7, 4, 7, 6, 0, 6, 6, 1, 1, 6, 0, 5, 3, 1, 4, 4, 2, 7, 7, 3,\n",
       "       4, 5, 1, 5, 7, 1, 4, 3, 3, 1, 4, 5, 4, 6, 0, 7, 7, 0, 0, 7, 6, 3,\n",
       "       1, 2, 1, 3, 7, 2, 5, 1, 2, 6, 2, 6, 4, 2, 1, 7, 1, 2, 3, 7, 7, 4,\n",
       "       5, 6, 1, 6, 5, 1, 6, 1, 3, 1, 0, 6, 2, 2, 3, 2, 7, 2, 4, 7, 5, 5,\n",
       "       2, 1])"
      ]
     },
     "execution_count": 248,
     "metadata": {},
     "output_type": "execute_result"
    }
   ],
   "source": [
    "\n",
    "encoder = LabelEncoder()\n",
    "Y_test_lr =  encoder.fit_transform(Y_test_lr)\n",
    "Y_test_lr"
   ]
  },
  {
   "cell_type": "code",
   "execution_count": 249,
   "metadata": {},
   "outputs": [
    {
     "name": "stdout",
     "output_type": "stream",
     "text": [
      "[4 2 2 6 3 1 7 7 1 3 4 1 1 3 4 4 7 1 1 2 7 1 6 5 1 2 0 3 3 5 1 3 6 1 4 4 5\n",
      " 5 0 0 4 3 2 5 7 5 2 7 3 2 4 5 2 5 6 2 3 5 5 1 4 7 2 6 6 5 2 2 4 1 3 3 3 7\n",
      " 4 3 1 2 6 1 1 4 6 6 6 5 1 0 4 5 4 5 7 2 2 1 3 5 3 5 5 3 0 0 6 7 4 2 6 6 2\n",
      " 0 3 6 5 7 4 1 5 5 6 3 5 2 4 4 1 1 4 3 4 3 2 6 2 4 7 3 5 4 5 2 7 0 1 7 6 7\n",
      " 1 4 2 0 6 0 1 4 1 4 1 6 0 4 3 7 6 6 5 1 4 6 0 6 2 1 4 5 2 5 1 1 0 0 5 2 6\n",
      " 0 6 2 6 0 6 5 7 2 4 4 7 4 1 6 7 4 7 6 0 6 6 1 1 6 0 5 3 1 4 4 2 7 7 3 4 5\n",
      " 1 5 7 1 4 3 3 1 4 5 4 6 0 7 7 0 0 7 6 3 1 2 1 3 7 2 5 1 2 6 2 6 4 2 1 7 1\n",
      " 2 3 7 7 4 5 6 1 6 5 1 6 1 3 1 0 6 2 2 3 2 7 2 4 7 5 5 2 1]\n",
      "[[0. 0. 0. ... 0. 0. 0.]\n",
      " [0. 0. 1. ... 0. 0. 0.]\n",
      " [0. 0. 1. ... 0. 0. 0.]\n",
      " ...\n",
      " [0. 0. 0. ... 1. 0. 0.]\n",
      " [0. 0. 1. ... 0. 0. 0.]\n",
      " [0. 1. 0. ... 0. 0. 0.]]\n"
     ]
    }
   ],
   "source": [
    "data = Y_test_lr\n",
    "data = array(data)\n",
    "print(data)\n",
    "# one hot encode\n",
    "encoded = to_categorical(data)\n",
    "print(encoded)"
   ]
  },
  {
   "cell_type": "code",
   "execution_count": 250,
   "metadata": {},
   "outputs": [],
   "source": [
    "Y_test_one_hot_lr=encoded"
   ]
  },
  {
   "cell_type": "code",
   "execution_count": 255,
   "metadata": {},
   "outputs": [
    {
     "name": "stderr",
     "output_type": "stream",
     "text": [
      "/home/akansh/anaconda3/lib/python3.7/site-packages/ipykernel_launcher.py:30: DeprecationWarning: scipy.interp is deprecated and will be removed in SciPy 2.0.0, use numpy.interp instead\n"
     ]
    },
    {
     "data": {
      "image/png": "[encoded data removed]",
      "text/plain": [
       "<Figure size 720x720 with 1 Axes>"
      ]
     },
     "metadata": {
      "needs_background": "light"
     },
     "output_type": "display_data"
    }
   ],
   "source": [
    "import numpy as np\n",
    "from scipy import interp\n",
    "import matplotlib.pyplot as plt\n",
    "from itertools import cycle\n",
    "from sklearn.metrics import roc_curve, auc\n",
    "\n",
    "# Plot linewidth.\n",
    "lw = 2\n",
    "n_classes=8\n",
    "# Compute ROC curve and ROC area for each class\n",
    "fpr = dict()\n",
    "tpr = dict()\n",
    "roc_auc = dict()\n",
    "for i in range(n_classes):\n",
    "    fpr[i], tpr[i], _ = roc_curve(Y_test_one_hot_lr[:, i], Y_pred_prob[:, i])\n",
    "    roc_auc[i] = auc(fpr[i], tpr[i])\n",
    "\n",
    "# Compute micro-average ROC curve and ROC area\n",
    "fpr[\"micro\"], tpr[\"micro\"], _ = roc_curve(Y_test_one_hot.ravel(), Y_pred_prob.ravel())\n",
    "roc_auc[\"micro\"] = auc(fpr[\"micro\"], tpr[\"micro\"])\n",
    "\n",
    "# Compute macro-average ROC curve and ROC area\n",
    "\n",
    "# First aggregate all false positive rates\n",
    "all_fpr = np.unique(np.concatenate([fpr[i] for i in range(n_classes)]))\n",
    "\n",
    "# Then interpolate all ROC curves at this points\n",
    "mean_tpr = np.zeros_like(all_fpr)\n",
    "for i in range(n_classes):\n",
    "    mean_tpr += interp(all_fpr, fpr[i], tpr[i])\n",
    "\n",
    "# Finally average it and compute AUC\n",
    "mean_tpr /= n_classes\n",
    "\n",
    "fpr[\"macro\"] = all_fpr\n",
    "tpr[\"macro\"] = mean_tpr\n",
    "roc_auc[\"macro\"] = auc(fpr[\"macro\"], tpr[\"macro\"])\n",
    "\n",
    "# Plot all ROC curves\n",
    "plt.figure(1,figsize=(10,10))\n",
    "plt.plot(fpr[\"micro\"], tpr[\"micro\"],\n",
    "         label='micro-average ROC curve (area = {0:0.2f})'\n",
    "               ''.format(roc_auc[\"micro\"]),\n",
    "         color='deeppink', linestyle=':', linewidth=4)\n",
    "\n",
    "plt.plot(fpr[\"macro\"], tpr[\"macro\"],\n",
    "         label='macro-average ROC curve (area = {0:0.2f})'\n",
    "               ''.format(roc_auc[\"macro\"]),\n",
    "         color='navy', linestyle=':', linewidth=4)\n",
    "\n",
    "colors = cycle(['aqua', 'darkorange', 'cornflowerblue'])\n",
    "for i, color in zip(range(n_classes), colors):\n",
    "    plt.plot(fpr[i], tpr[i], color=color, lw=lw,\n",
    "             label='ROC curve of class {0} (area = {1:0.2f})'\n",
    "             ''.format(i, roc_auc[i]))\n",
    "\n",
    "plt.plot([0, 1], [0, 1], 'k--', lw=lw)\n",
    "plt.xlim([0.0, 1.0])\n",
    "plt.ylim([0.0, 1.05])\n",
    "plt.xlabel('False Positive Rate')\n",
    "plt.ylabel('True Positive Rate')\n",
    "plt.title('Some extension of Receiver operating characteristic to multi-class')\n",
    "plt.legend(loc=\"lower right\")\n",
    "plt.show()\n",
    "\n",
    "\n"
   ]
  },
  {
   "cell_type": "markdown",
   "metadata": {},
   "source": [
    "# Random Forest"
   ]
  },
  {
   "cell_type": "code",
   "execution_count": 169,
   "metadata": {},
   "outputs": [],
   "source": [
    "forest = RandomForestClassifier(criterion= 'entropy', n_estimators= 800, max_depth= 20, min_samples_split= 5, random_state=101)"
   ]
  },
  {
   "cell_type": "code",
   "execution_count": 170,
   "metadata": {},
   "outputs": [
    {
     "data": {
      "text/plain": [
       "RandomForestClassifier(bootstrap=True, class_weight=None, criterion='entropy',\n",
       "                       max_depth=20, max_features='auto', max_leaf_nodes=None,\n",
       "                       min_impurity_decrease=0.0, min_impurity_split=None,\n",
       "                       min_samples_leaf=1, min_samples_split=5,\n",
       "                       min_weight_fraction_leaf=0.0, n_estimators=800,\n",
       "                       n_jobs=None, oob_score=False, random_state=101,\n",
       "                       verbose=0, warm_start=False)"
      ]
     },
     "execution_count": 170,
     "metadata": {},
     "output_type": "execute_result"
    }
   ],
   "source": [
    "forest.fit(X_scaled_train, Y_train)"
   ]
  },
  {
   "cell_type": "code",
   "execution_count": 171,
   "metadata": {},
   "outputs": [],
   "source": [
    "forest_pred = forest.predict(X_scaled_test)"
   ]
  },
  {
   "cell_type": "code",
   "execution_count": 172,
   "metadata": {},
   "outputs": [
    {
     "name": "stdout",
     "output_type": "stream",
     "text": [
      "Random Forest Test Accuracy 61.81%\n"
     ]
    }
   ],
   "source": [
    "print(\"Random Forest Test Accuracy {:.2f}%\".format(forest.score(X_scaled_test, Y_test)*100))"
   ]
  },
  {
   "cell_type": "markdown",
   "metadata": {},
   "source": [
    "# MLP Classifier"
   ]
  },
  {
   "cell_type": "code",
   "execution_count": 318,
   "metadata": {},
   "outputs": [],
   "source": [
    "model=MLPClassifier(alpha=0.01, batch_size=16, epsilon=1e-08, hidden_layer_sizes=(600,), learning_rate='constant', max_iter=500)"
   ]
  },
  {
   "cell_type": "code",
   "execution_count": 319,
   "metadata": {},
   "outputs": [
    {
     "data": {
      "text/plain": [
       "MLPClassifier(activation='relu', alpha=0.01, batch_size=16, beta_1=0.9,\n",
       "              beta_2=0.999, early_stopping=False, epsilon=1e-08,\n",
       "              hidden_layer_sizes=(600,), learning_rate='constant',\n",
       "              learning_rate_init=0.001, max_iter=500, momentum=0.9,\n",
       "              n_iter_no_change=10, nesterovs_momentum=True, power_t=0.5,\n",
       "              random_state=None, shuffle=True, solver='adam', tol=0.0001,\n",
       "              validation_fraction=0.1, verbose=False, warm_start=False)"
      ]
     },
     "execution_count": 319,
     "metadata": {},
     "output_type": "execute_result"
    }
   ],
   "source": [
    "model.fit(X_scaled_train,Y_train)"
   ]
  },
  {
   "cell_type": "code",
   "execution_count": 320,
   "metadata": {},
   "outputs": [],
   "source": [
    "Y_pred=model.predict(X_scaled_test)"
   ]
  },
  {
   "cell_type": "code",
   "execution_count": 321,
   "metadata": {},
   "outputs": [],
   "source": [
    "accuracy=accuracy_score(y_true=Y_test,y_pred=Y_pred)"
   ]
  },
  {
   "cell_type": "code",
   "execution_count": 322,
   "metadata": {},
   "outputs": [
    {
     "data": {
      "text/plain": [
       "0.6875"
      ]
     },
     "execution_count": 322,
     "metadata": {},
     "output_type": "execute_result"
    }
   ],
   "source": [
    "accuracy"
   ]
  },
  {
   "cell_type": "markdown",
   "metadata": {},
   "source": [
    "# CNN"
   ]
  },
  {
   "cell_type": "code",
   "execution_count": null,
   "metadata": {},
   "outputs": [],
   "source": []
  },
  {
   "cell_type": "code",
   "execution_count": 20,
   "metadata": {},
   "outputs": [
    {
     "data": {
      "text/plain": [
       "array([0, 0, 0, ..., 7, 7, 7])"
      ]
     },
     "execution_count": 20,
     "metadata": {},
     "output_type": "execute_result"
    }
   ],
   "source": [
    "#tried the encoder of sklearn and compared with manual encoding. results had no huge difference.\n",
    "encoder = LabelEncoder()\n",
    "Y =  encoder.fit_transform(Y)\n",
    "Y"
   ]
  },
  {
   "cell_type": "code",
   "execution_count": 176,
   "metadata": {},
   "outputs": [],
   "source": [
    "X_cnn=data_copy.drop('name label emotion chroma_stft_mean rmse_mean spec_cent_mean spec_bw_mean rolloff_mean zcr_mean chroma1 chroma2 chroma3 chroma4 chroma5 chroma6 chroma7 chroma8 chroma9 chroma10 chroma11 chroma12'.split(),axis=1)"
   ]
  },
  {
   "cell_type": "code",
   "execution_count": null,
   "metadata": {},
   "outputs": [],
   "source": [
    "chroma_stft_mean rmse_mean spec_cent_mean spec_bw_mean rolloff_mean zcr_mean chroma1 chroma2 chroma3 chroma4 chroma5 chroma6 chroma7 chroma8 chroma9 chroma10 chroma11 chroma12"
   ]
  },
  {
   "cell_type": "code",
   "execution_count": null,
   "metadata": {},
   "outputs": [],
   "source": []
  },
  {
   "cell_type": "code",
   "execution_count": 177,
   "metadata": {},
   "outputs": [
    {
     "data": {
      "text/plain": [
       "(1440, 40)"
      ]
     },
     "execution_count": 177,
     "metadata": {},
     "output_type": "execute_result"
    }
   ],
   "source": [
    "X_cnn.shape"
   ]
  },
  {
   "cell_type": "code",
   "execution_count": 178,
   "metadata": {},
   "outputs": [
    {
     "data": {
      "text/plain": [
       "(1440,)"
      ]
     },
     "execution_count": 178,
     "metadata": {},
     "output_type": "execute_result"
    }
   ],
   "source": [
    "Y.shape"
   ]
  },
  {
   "cell_type": "code",
   "execution_count": null,
   "metadata": {},
   "outputs": [],
   "source": []
  },
  {
   "cell_type": "code",
   "execution_count": 179,
   "metadata": {},
   "outputs": [],
   "source": [
    "X_train_cnn,X_test_cnn,Y_train_cnn,Y_test_cnn=train_test_split(X_cnn,Y,random_state=1,stratify=Y,test_size=0.20)"
   ]
  },
  {
   "cell_type": "code",
   "execution_count": 180,
   "metadata": {},
   "outputs": [],
   "source": [
    "scaler=StandardScaler()"
   ]
  },
  {
   "cell_type": "code",
   "execution_count": 181,
   "metadata": {},
   "outputs": [],
   "source": [
    "X_scaled_train_cnn=scaler.fit_transform(X_train_cnn)"
   ]
  },
  {
   "cell_type": "code",
   "execution_count": 182,
   "metadata": {},
   "outputs": [],
   "source": [
    "X_scaled_test_cnn=scaler.transform(X_test_cnn)"
   ]
  },
  {
   "cell_type": "code",
   "execution_count": 183,
   "metadata": {},
   "outputs": [],
   "source": [
    "X_expanded_scaled_train_cnn = np.expand_dims(X_scaled_train_cnn, axis=2)\n",
    "X_expanded_scaled_test_cnn = np.expand_dims(X_scaled_test_cnn, axis=2)"
   ]
  },
  {
   "cell_type": "code",
   "execution_count": 184,
   "metadata": {},
   "outputs": [
    {
     "data": {
      "text/plain": [
       "((1152, 40, 1), (288, 40, 1))"
      ]
     },
     "execution_count": 184,
     "metadata": {},
     "output_type": "execute_result"
    }
   ],
   "source": [
    "X_expanded_scaled_train_cnn.shape, X_expanded_scaled_test_cnn.shape"
   ]
  },
  {
   "cell_type": "code",
   "execution_count": 262,
   "metadata": {},
   "outputs": [],
   "source": [
    "import keras\n",
    "import numpy as np\n",
    "import matplotlib.pyplot as plt\n",
    "import tensorflow as tf\n",
    "from keras.preprocessing import sequence\n",
    "from keras.models import Sequential\n",
    "from keras.layers import Dense, Embedding\n",
    "from keras.utils import to_categorical\n",
    "from keras.layers import Input, Flatten, Dropout, Activation\n",
    "from keras.layers import Conv1D, MaxPooling1D\n",
    "from keras.models import Model\n",
    "from keras.callbacks import ModelCheckpoint\n",
    "\n",
    "model = Sequential()\n",
    "\n",
    "model.add(Conv1D(128, 8,padding='same',\n",
    "                 input_shape=(40,1)))\n",
    "model.add(Activation('relu'))\n",
    "model.add(MaxPooling1D(pool_size=(5)))\n",
    "model.add(Conv1D(256, 8,padding='same',))\n",
    "model.add(Activation('relu'))\n",
    "model.add(MaxPooling1D(pool_size=(5)))\n",
    "model.add(Flatten())\n",
    "model.add(Dense(256))\n",
    "model.add(Activation('relu'))\n",
    "model.add(Dense(256))\n",
    "model.add(Activation('relu'))\n",
    "model.add(Dropout(0.3))\n",
    "model.add(Dense(8))\n",
    "model.add(Activation('softmax'))\n",
    "opt = keras.optimizers.rmsprop(lr=0.0002, rho=0.9, decay=0.0)"
   ]
  },
  {
   "cell_type": "code",
   "execution_count": 263,
   "metadata": {},
   "outputs": [],
   "source": [
    "model.compile(loss='sparse_categorical_crossentropy',\n",
    "              optimizer=opt,\n",
    "              metrics=['accuracy'])"
   ]
  },
  {
   "cell_type": "code",
   "execution_count": 264,
   "metadata": {
    "scrolled": true
   },
   "outputs": [
    {
     "name": "stdout",
     "output_type": "stream",
     "text": [
      "Train on 1152 samples, validate on 288 samples\n",
      "Epoch 1/300\n",
      "1152/1152 [==============================] - 1s 742us/step - loss: 2.0431 - accuracy: 0.1649 - val_loss: 2.0114 - val_accuracy: 0.2257\n",
      "Epoch 2/300\n",
      "1152/1152 [==============================] - 1s 591us/step - loss: 1.9914 - accuracy: 0.2370 - val_loss: 1.9805 - val_accuracy: 0.2257\n",
      "Epoch 3/300\n",
      "1152/1152 [==============================] - 1s 603us/step - loss: 1.9380 - accuracy: 0.2491 - val_loss: 1.9528 - val_accuracy: 0.2153\n",
      "Epoch 4/300\n",
      "1152/1152 [==============================] - 1s 596us/step - loss: 1.9051 - accuracy: 0.2474 - val_loss: 1.9274 - val_accuracy: 0.2431\n",
      "Epoch 5/300\n",
      "1152/1152 [==============================] - 1s 601us/step - loss: 1.8813 - accuracy: 0.2656 - val_loss: 1.9085 - val_accuracy: 0.2743\n",
      "Epoch 6/300\n",
      "1152/1152 [==============================] - 1s 664us/step - loss: 1.8489 - accuracy: 0.2847 - val_loss: 1.8935 - val_accuracy: 0.2326\n",
      "Epoch 7/300\n",
      "1152/1152 [==============================] - 1s 765us/step - loss: 1.8279 - accuracy: 0.3073 - val_loss: 1.8878 - val_accuracy: 0.2396\n",
      "Epoch 8/300\n",
      "1152/1152 [==============================] - 1s 742us/step - loss: 1.8050 - accuracy: 0.3116 - val_loss: 1.8568 - val_accuracy: 0.2882\n",
      "Epoch 9/300\n",
      "1152/1152 [==============================] - 1s 685us/step - loss: 1.7877 - accuracy: 0.3151 - val_loss: 1.8397 - val_accuracy: 0.2778\n",
      "Epoch 10/300\n",
      "1152/1152 [==============================] - 1s 584us/step - loss: 1.7669 - accuracy: 0.3394 - val_loss: 1.8276 - val_accuracy: 0.3229\n",
      "Epoch 11/300\n",
      "1152/1152 [==============================] - 1s 545us/step - loss: 1.7310 - accuracy: 0.3325 - val_loss: 1.8033 - val_accuracy: 0.3229\n",
      "Epoch 12/300\n",
      "1152/1152 [==============================] - 1s 515us/step - loss: 1.7159 - accuracy: 0.3689 - val_loss: 1.8085 - val_accuracy: 0.2812\n",
      "Epoch 13/300\n",
      "1152/1152 [==============================] - 1s 713us/step - loss: 1.7058 - accuracy: 0.3741 - val_loss: 1.7887 - val_accuracy: 0.3403\n",
      "Epoch 14/300\n",
      "1152/1152 [==============================] - 1s 604us/step - loss: 1.6920 - accuracy: 0.3741 - val_loss: 1.7846 - val_accuracy: 0.2951\n",
      "Epoch 15/300\n",
      "1152/1152 [==============================] - 1s 612us/step - loss: 1.6620 - accuracy: 0.3941 - val_loss: 1.7571 - val_accuracy: 0.3507\n",
      "Epoch 16/300\n",
      "1152/1152 [==============================] - 1s 581us/step - loss: 1.6332 - accuracy: 0.4219 - val_loss: 1.7374 - val_accuracy: 0.3646\n",
      "Epoch 17/300\n",
      "1152/1152 [==============================] - 1s 685us/step - loss: 1.6204 - accuracy: 0.4010 - val_loss: 1.7531 - val_accuracy: 0.3333\n",
      "Epoch 18/300\n",
      "1152/1152 [==============================] - 1s 898us/step - loss: 1.6063 - accuracy: 0.4236 - val_loss: 1.7278 - val_accuracy: 0.3785\n",
      "Epoch 19/300\n",
      "1152/1152 [==============================] - 1s 637us/step - loss: 1.5746 - accuracy: 0.4523 - val_loss: 1.7090 - val_accuracy: 0.3542\n",
      "Epoch 20/300\n",
      "1152/1152 [==============================] - 1s 546us/step - loss: 1.5479 - accuracy: 0.4444 - val_loss: 1.7042 - val_accuracy: 0.3438\n",
      "Epoch 21/300\n",
      "1152/1152 [==============================] - 1s 566us/step - loss: 1.5414 - accuracy: 0.4392 - val_loss: 1.6879 - val_accuracy: 0.3819\n",
      "Epoch 22/300\n",
      "1152/1152 [==============================] - 1s 518us/step - loss: 1.5212 - accuracy: 0.4609 - val_loss: 1.6758 - val_accuracy: 0.4097\n",
      "Epoch 23/300\n",
      "1152/1152 [==============================] - 1s 511us/step - loss: 1.4979 - accuracy: 0.4661 - val_loss: 1.6608 - val_accuracy: 0.3715\n",
      "Epoch 24/300\n",
      "1152/1152 [==============================] - 1s 516us/step - loss: 1.4756 - accuracy: 0.4774 - val_loss: 1.7151 - val_accuracy: 0.3611\n",
      "Epoch 25/300\n",
      "1152/1152 [==============================] - 1s 511us/step - loss: 1.4430 - accuracy: 0.4948 - val_loss: 1.6158 - val_accuracy: 0.4097\n",
      "Epoch 26/300\n",
      "1152/1152 [==============================] - 1s 478us/step - loss: 1.4423 - accuracy: 0.5017 - val_loss: 1.6033 - val_accuracy: 0.4201\n",
      "Epoch 27/300\n",
      "1152/1152 [==============================] - 1s 492us/step - loss: 1.4138 - accuracy: 0.4948 - val_loss: 1.6196 - val_accuracy: 0.4028\n",
      "Epoch 28/300\n",
      "1152/1152 [==============================] - 1s 486us/step - loss: 1.3750 - accuracy: 0.5122 - val_loss: 1.6121 - val_accuracy: 0.4306\n",
      "Epoch 29/300\n",
      "1152/1152 [==============================] - 1s 486us/step - loss: 1.3915 - accuracy: 0.5087 - val_loss: 1.5774 - val_accuracy: 0.4375\n",
      "Epoch 30/300\n",
      "1152/1152 [==============================] - 1s 486us/step - loss: 1.3336 - accuracy: 0.5304 - val_loss: 1.6396 - val_accuracy: 0.3924\n",
      "Epoch 31/300\n",
      "1152/1152 [==============================] - 1s 477us/step - loss: 1.3343 - accuracy: 0.5295 - val_loss: 1.5618 - val_accuracy: 0.4444\n",
      "Epoch 32/300\n",
      "1152/1152 [==============================] - 1s 484us/step - loss: 1.3276 - accuracy: 0.5382 - val_loss: 1.5557 - val_accuracy: 0.4340\n",
      "Epoch 33/300\n",
      "1152/1152 [==============================] - 1s 489us/step - loss: 1.2828 - accuracy: 0.5599 - val_loss: 1.5531 - val_accuracy: 0.4375\n",
      "Epoch 34/300\n",
      "1152/1152 [==============================] - 1s 487us/step - loss: 1.2613 - accuracy: 0.5694 - val_loss: 1.5149 - val_accuracy: 0.4792\n",
      "Epoch 35/300\n",
      "1152/1152 [==============================] - 1s 486us/step - loss: 1.2622 - accuracy: 0.5677 - val_loss: 1.5063 - val_accuracy: 0.4757\n",
      "Epoch 36/300\n",
      "1152/1152 [==============================] - 1s 487us/step - loss: 1.2163 - accuracy: 0.5920 - val_loss: 1.5180 - val_accuracy: 0.4618\n",
      "Epoch 37/300\n",
      "1152/1152 [==============================] - 1s 509us/step - loss: 1.2430 - accuracy: 0.5799 - val_loss: 1.5203 - val_accuracy: 0.4444\n",
      "Epoch 38/300\n",
      "1152/1152 [==============================] - 1s 512us/step - loss: 1.1905 - accuracy: 0.5955 - val_loss: 1.4804 - val_accuracy: 0.4618\n",
      "Epoch 39/300\n",
      "1152/1152 [==============================] - 1s 519us/step - loss: 1.1933 - accuracy: 0.5955 - val_loss: 1.4710 - val_accuracy: 0.4896\n",
      "Epoch 40/300\n",
      "1152/1152 [==============================] - 1s 509us/step - loss: 1.1752 - accuracy: 0.5825 - val_loss: 1.4662 - val_accuracy: 0.4688\n",
      "Epoch 41/300\n",
      "1152/1152 [==============================] - 1s 514us/step - loss: 1.1267 - accuracy: 0.6172 - val_loss: 1.4613 - val_accuracy: 0.4618\n",
      "Epoch 42/300\n",
      "1152/1152 [==============================] - 1s 513us/step - loss: 1.1561 - accuracy: 0.5998 - val_loss: 1.4554 - val_accuracy: 0.4618\n",
      "Epoch 43/300\n",
      "1152/1152 [==============================] - 1s 490us/step - loss: 1.1111 - accuracy: 0.6241 - val_loss: 1.4341 - val_accuracy: 0.4931\n",
      "Epoch 44/300\n",
      "1152/1152 [==============================] - 1s 486us/step - loss: 1.0951 - accuracy: 0.6285 - val_loss: 1.4165 - val_accuracy: 0.4896\n",
      "Epoch 45/300\n",
      "1152/1152 [==============================] - 1s 484us/step - loss: 1.0757 - accuracy: 0.6372 - val_loss: 1.4308 - val_accuracy: 0.5000\n",
      "Epoch 46/300\n",
      "1152/1152 [==============================] - 1s 489us/step - loss: 1.0925 - accuracy: 0.6224 - val_loss: 1.5125 - val_accuracy: 0.4722\n",
      "Epoch 47/300\n",
      "1152/1152 [==============================] - 1s 486us/step - loss: 1.0453 - accuracy: 0.6502 - val_loss: 1.4589 - val_accuracy: 0.4375\n",
      "Epoch 48/300\n",
      "1152/1152 [==============================] - 1s 476us/step - loss: 1.0448 - accuracy: 0.6406 - val_loss: 1.4373 - val_accuracy: 0.4861\n",
      "Epoch 49/300\n",
      "1152/1152 [==============================] - 1s 486us/step - loss: 1.0325 - accuracy: 0.6484 - val_loss: 1.3906 - val_accuracy: 0.5069\n",
      "Epoch 50/300\n",
      "1152/1152 [==============================] - 1s 494us/step - loss: 0.9863 - accuracy: 0.6684 - val_loss: 1.4805 - val_accuracy: 0.4792\n",
      "Epoch 51/300\n",
      "1152/1152 [==============================] - 1s 515us/step - loss: 1.0264 - accuracy: 0.6554 - val_loss: 1.4017 - val_accuracy: 0.5035\n",
      "Epoch 52/300\n",
      "1152/1152 [==============================] - 1s 518us/step - loss: 0.9867 - accuracy: 0.6675 - val_loss: 1.4875 - val_accuracy: 0.4618\n",
      "Epoch 53/300\n",
      "1152/1152 [==============================] - 1s 511us/step - loss: 0.9429 - accuracy: 0.6892 - val_loss: 1.4661 - val_accuracy: 0.4583\n",
      "Epoch 54/300\n",
      "1152/1152 [==============================] - 1s 505us/step - loss: 0.9629 - accuracy: 0.6849 - val_loss: 1.4325 - val_accuracy: 0.4826\n",
      "Epoch 55/300\n",
      "1152/1152 [==============================] - 1s 513us/step - loss: 0.9249 - accuracy: 0.6780 - val_loss: 1.3216 - val_accuracy: 0.5035\n",
      "Epoch 56/300\n"
     ]
    },
    {
     "name": "stdout",
     "output_type": "stream",
     "text": [
      "1152/1152 [==============================] - 1s 511us/step - loss: 0.9213 - accuracy: 0.6901 - val_loss: 1.4714 - val_accuracy: 0.4688\n",
      "Epoch 57/300\n",
      "1152/1152 [==============================] - 1s 492us/step - loss: 0.9630 - accuracy: 0.6667 - val_loss: 1.3319 - val_accuracy: 0.5104\n",
      "Epoch 58/300\n",
      "1152/1152 [==============================] - 1s 483us/step - loss: 0.8967 - accuracy: 0.7014 - val_loss: 1.3840 - val_accuracy: 0.5000\n",
      "Epoch 59/300\n",
      "1152/1152 [==============================] - 1s 507us/step - loss: 0.8747 - accuracy: 0.7135 - val_loss: 1.3205 - val_accuracy: 0.5243\n",
      "Epoch 60/300\n",
      "1152/1152 [==============================] - 1s 494us/step - loss: 0.8400 - accuracy: 0.7300 - val_loss: 1.4048 - val_accuracy: 0.5035\n",
      "Epoch 61/300\n",
      "1152/1152 [==============================] - 1s 487us/step - loss: 0.8876 - accuracy: 0.7161 - val_loss: 1.3402 - val_accuracy: 0.5139\n",
      "Epoch 62/300\n",
      "1152/1152 [==============================] - 1s 491us/step - loss: 0.8568 - accuracy: 0.7057 - val_loss: 1.3699 - val_accuracy: 0.5174\n",
      "Epoch 63/300\n",
      "1152/1152 [==============================] - 1s 484us/step - loss: 0.8029 - accuracy: 0.7552 - val_loss: 1.3195 - val_accuracy: 0.5382\n",
      "Epoch 64/300\n",
      "1152/1152 [==============================] - 1s 477us/step - loss: 0.8419 - accuracy: 0.7118 - val_loss: 1.3408 - val_accuracy: 0.4931\n",
      "Epoch 65/300\n",
      "1152/1152 [==============================] - 1s 483us/step - loss: 0.7791 - accuracy: 0.7431 - val_loss: 1.2996 - val_accuracy: 0.5278\n",
      "Epoch 66/300\n",
      "1152/1152 [==============================] - 1s 490us/step - loss: 0.7873 - accuracy: 0.7448 - val_loss: 1.2939 - val_accuracy: 0.5521\n",
      "Epoch 67/300\n",
      "1152/1152 [==============================] - 1s 486us/step - loss: 0.7719 - accuracy: 0.7552 - val_loss: 1.4424 - val_accuracy: 0.4965\n",
      "Epoch 68/300\n",
      "1152/1152 [==============================] - 1s 493us/step - loss: 0.8252 - accuracy: 0.7248 - val_loss: 1.3481 - val_accuracy: 0.5069\n",
      "Epoch 69/300\n",
      "1152/1152 [==============================] - 1s 482us/step - loss: 0.7887 - accuracy: 0.7318 - val_loss: 1.3117 - val_accuracy: 0.5139\n",
      "Epoch 70/300\n",
      "1152/1152 [==============================] - 1s 485us/step - loss: 0.7268 - accuracy: 0.7682 - val_loss: 1.2687 - val_accuracy: 0.5382\n",
      "Epoch 71/300\n",
      "1152/1152 [==============================] - 1s 484us/step - loss: 0.7044 - accuracy: 0.7691 - val_loss: 1.3541 - val_accuracy: 0.5000\n",
      "Epoch 72/300\n",
      "1152/1152 [==============================] - 1s 481us/step - loss: 0.7628 - accuracy: 0.7474 - val_loss: 1.3519 - val_accuracy: 0.5174\n",
      "Epoch 73/300\n",
      "1152/1152 [==============================] - 1s 487us/step - loss: 0.7190 - accuracy: 0.7639 - val_loss: 1.3605 - val_accuracy: 0.4826\n",
      "Epoch 74/300\n",
      "1152/1152 [==============================] - 1s 475us/step - loss: 0.6915 - accuracy: 0.7804 - val_loss: 1.3515 - val_accuracy: 0.5625\n",
      "Epoch 75/300\n",
      "1152/1152 [==============================] - 1s 514us/step - loss: 0.6973 - accuracy: 0.7665 - val_loss: 1.4326 - val_accuracy: 0.5069\n",
      "Epoch 76/300\n",
      "1152/1152 [==============================] - 1s 487us/step - loss: 0.7128 - accuracy: 0.7648 - val_loss: 1.3333 - val_accuracy: 0.5243\n",
      "Epoch 77/300\n",
      "1152/1152 [==============================] - 1s 486us/step - loss: 0.6492 - accuracy: 0.7925 - val_loss: 1.3131 - val_accuracy: 0.5208\n",
      "Epoch 78/300\n",
      "1152/1152 [==============================] - 1s 492us/step - loss: 0.6735 - accuracy: 0.7595 - val_loss: 1.4237 - val_accuracy: 0.5000\n",
      "Epoch 79/300\n",
      "1152/1152 [==============================] - 1s 506us/step - loss: 0.6452 - accuracy: 0.7986 - val_loss: 1.3769 - val_accuracy: 0.4965\n",
      "Epoch 80/300\n",
      "1152/1152 [==============================] - 1s 506us/step - loss: 0.6195 - accuracy: 0.8108 - val_loss: 1.5336 - val_accuracy: 0.4444\n",
      "Epoch 81/300\n",
      "1152/1152 [==============================] - 1s 521us/step - loss: 0.6369 - accuracy: 0.7995 - val_loss: 1.2918 - val_accuracy: 0.5104\n",
      "Epoch 82/300\n",
      "1152/1152 [==============================] - 1s 509us/step - loss: 0.5781 - accuracy: 0.8385 - val_loss: 1.4085 - val_accuracy: 0.5000\n",
      "Epoch 83/300\n",
      "1152/1152 [==============================] - 1s 512us/step - loss: 0.6480 - accuracy: 0.7899 - val_loss: 1.3391 - val_accuracy: 0.5069\n",
      "Epoch 84/300\n",
      "1152/1152 [==============================] - 1s 515us/step - loss: 0.6518 - accuracy: 0.7769 - val_loss: 1.3761 - val_accuracy: 0.5069\n",
      "Epoch 85/300\n",
      "1152/1152 [==============================] - 1s 500us/step - loss: 0.5452 - accuracy: 0.8394 - val_loss: 1.2481 - val_accuracy: 0.5486\n",
      "Epoch 86/300\n",
      "1152/1152 [==============================] - 1s 476us/step - loss: 0.5600 - accuracy: 0.8290 - val_loss: 1.3568 - val_accuracy: 0.5208\n",
      "Epoch 87/300\n",
      "1152/1152 [==============================] - 1s 491us/step - loss: 0.5716 - accuracy: 0.8108 - val_loss: 1.3324 - val_accuracy: 0.5347\n",
      "Epoch 88/300\n",
      "1152/1152 [==============================] - 1s 487us/step - loss: 0.5710 - accuracy: 0.8194 - val_loss: 1.2550 - val_accuracy: 0.5382\n",
      "Epoch 89/300\n",
      "1152/1152 [==============================] - 1s 487us/step - loss: 0.5804 - accuracy: 0.8125 - val_loss: 1.2592 - val_accuracy: 0.5278\n",
      "Epoch 90/300\n",
      "1152/1152 [==============================] - 1s 492us/step - loss: 0.5478 - accuracy: 0.8264 - val_loss: 1.5338 - val_accuracy: 0.4757\n",
      "Epoch 91/300\n",
      "1152/1152 [==============================] - 1s 475us/step - loss: 0.4952 - accuracy: 0.8533 - val_loss: 1.1987 - val_accuracy: 0.5556\n",
      "Epoch 92/300\n",
      "1152/1152 [==============================] - 1s 505us/step - loss: 0.5491 - accuracy: 0.8290 - val_loss: 1.2991 - val_accuracy: 0.5208\n",
      "Epoch 93/300\n",
      "1152/1152 [==============================] - 1s 514us/step - loss: 0.5261 - accuracy: 0.8394 - val_loss: 1.2696 - val_accuracy: 0.5208\n",
      "Epoch 94/300\n",
      "1152/1152 [==============================] - 1s 512us/step - loss: 0.5098 - accuracy: 0.8316 - val_loss: 1.4130 - val_accuracy: 0.4965\n",
      "Epoch 95/300\n",
      "1152/1152 [==============================] - 1s 513us/step - loss: 0.5184 - accuracy: 0.8403 - val_loss: 1.3090 - val_accuracy: 0.4965\n",
      "Epoch 96/300\n",
      "1152/1152 [==============================] - 1s 512us/step - loss: 0.5171 - accuracy: 0.8255 - val_loss: 1.1726 - val_accuracy: 0.5625\n",
      "Epoch 97/300\n",
      "1152/1152 [==============================] - 1s 504us/step - loss: 0.5164 - accuracy: 0.8385 - val_loss: 1.2248 - val_accuracy: 0.5729\n",
      "Epoch 98/300\n",
      "1152/1152 [==============================] - 1s 524us/step - loss: 0.4842 - accuracy: 0.8646 - val_loss: 1.2310 - val_accuracy: 0.5312\n",
      "Epoch 99/300\n",
      "1152/1152 [==============================] - 1s 514us/step - loss: 0.4437 - accuracy: 0.8854 - val_loss: 1.3136 - val_accuracy: 0.5625\n",
      "Epoch 100/300\n",
      "1152/1152 [==============================] - 1s 509us/step - loss: 0.4558 - accuracy: 0.8611 - val_loss: 1.3998 - val_accuracy: 0.5278\n",
      "Epoch 101/300\n",
      "1152/1152 [==============================] - 1s 516us/step - loss: 0.4889 - accuracy: 0.8411 - val_loss: 1.3621 - val_accuracy: 0.5312\n",
      "Epoch 102/300\n",
      "1152/1152 [==============================] - 1s 520us/step - loss: 0.4360 - accuracy: 0.8863 - val_loss: 1.3138 - val_accuracy: 0.5660\n",
      "Epoch 103/300\n",
      "1152/1152 [==============================] - 1s 516us/step - loss: 0.4152 - accuracy: 0.8872 - val_loss: 1.2710 - val_accuracy: 0.5451\n",
      "Epoch 104/300\n",
      "1152/1152 [==============================] - 1s 504us/step - loss: 0.4487 - accuracy: 0.8516 - val_loss: 1.3213 - val_accuracy: 0.5243\n",
      "Epoch 105/300\n",
      "1152/1152 [==============================] - 1s 509us/step - loss: 0.4006 - accuracy: 0.8785 - val_loss: 1.2821 - val_accuracy: 0.5382\n",
      "Epoch 106/300\n",
      "1152/1152 [==============================] - 1s 524us/step - loss: 0.4551 - accuracy: 0.8507 - val_loss: 1.1709 - val_accuracy: 0.5799\n",
      "Epoch 107/300\n",
      "1152/1152 [==============================] - 1s 529us/step - loss: 0.4691 - accuracy: 0.8403 - val_loss: 1.2550 - val_accuracy: 0.5729\n",
      "Epoch 108/300\n",
      "1152/1152 [==============================] - 1s 522us/step - loss: 0.3809 - accuracy: 0.8837 - val_loss: 1.3220 - val_accuracy: 0.5486\n",
      "Epoch 109/300\n",
      "1152/1152 [==============================] - 1s 536us/step - loss: 0.4329 - accuracy: 0.8620 - val_loss: 1.2888 - val_accuracy: 0.5312\n",
      "Epoch 110/300\n",
      "1152/1152 [==============================] - 1s 532us/step - loss: 0.3995 - accuracy: 0.8837 - val_loss: 1.2093 - val_accuracy: 0.5903\n",
      "Epoch 111/300\n"
     ]
    },
    {
     "name": "stdout",
     "output_type": "stream",
     "text": [
      "1152/1152 [==============================] - 1s 514us/step - loss: 0.4256 - accuracy: 0.8915 - val_loss: 1.1880 - val_accuracy: 0.6007\n",
      "Epoch 112/300\n",
      "1152/1152 [==============================] - 1s 517us/step - loss: 0.3231 - accuracy: 0.9158 - val_loss: 1.5489 - val_accuracy: 0.5347\n",
      "Epoch 113/300\n",
      "1152/1152 [==============================] - 1s 509us/step - loss: 0.3854 - accuracy: 0.8898 - val_loss: 1.3108 - val_accuracy: 0.5521\n",
      "Epoch 114/300\n",
      "1152/1152 [==============================] - 1s 513us/step - loss: 0.4067 - accuracy: 0.8707 - val_loss: 1.2181 - val_accuracy: 0.5729\n",
      "Epoch 115/300\n",
      "1152/1152 [==============================] - 1s 515us/step - loss: 0.3233 - accuracy: 0.9097 - val_loss: 1.3988 - val_accuracy: 0.5417\n",
      "Epoch 116/300\n",
      "1152/1152 [==============================] - 1s 513us/step - loss: 0.3657 - accuracy: 0.9019 - val_loss: 1.4948 - val_accuracy: 0.5382\n",
      "Epoch 117/300\n",
      "1152/1152 [==============================] - 1s 503us/step - loss: 0.4117 - accuracy: 0.8776 - val_loss: 1.2053 - val_accuracy: 0.5521\n",
      "Epoch 118/300\n",
      "1152/1152 [==============================] - 1s 509us/step - loss: 0.3719 - accuracy: 0.8924 - val_loss: 1.4545 - val_accuracy: 0.5278\n",
      "Epoch 119/300\n",
      "1152/1152 [==============================] - 1s 519us/step - loss: 0.3367 - accuracy: 0.9054 - val_loss: 1.4460 - val_accuracy: 0.5625\n",
      "Epoch 120/300\n",
      "1152/1152 [==============================] - 1s 514us/step - loss: 0.3446 - accuracy: 0.9089 - val_loss: 1.2885 - val_accuracy: 0.5729\n",
      "Epoch 121/300\n",
      "1152/1152 [==============================] - 1s 530us/step - loss: 0.3165 - accuracy: 0.9106 - val_loss: 1.4951 - val_accuracy: 0.5312\n",
      "Epoch 122/300\n",
      "1152/1152 [==============================] - 1s 514us/step - loss: 0.3385 - accuracy: 0.8993 - val_loss: 1.2436 - val_accuracy: 0.5694\n",
      "Epoch 123/300\n",
      "1152/1152 [==============================] - 1s 508us/step - loss: 0.3058 - accuracy: 0.9097 - val_loss: 1.5597 - val_accuracy: 0.5174\n",
      "Epoch 124/300\n",
      "1152/1152 [==============================] - 1s 503us/step - loss: 0.3409 - accuracy: 0.9002 - val_loss: 1.1565 - val_accuracy: 0.6042\n",
      "Epoch 125/300\n",
      "1152/1152 [==============================] - 1s 514us/step - loss: 0.3298 - accuracy: 0.8993 - val_loss: 1.2112 - val_accuracy: 0.5903\n",
      "Epoch 126/300\n",
      "1152/1152 [==============================] - 1s 521us/step - loss: 0.2511 - accuracy: 0.9444 - val_loss: 1.2537 - val_accuracy: 0.5903\n",
      "Epoch 127/300\n",
      "1152/1152 [==============================] - 1s 510us/step - loss: 0.3297 - accuracy: 0.9028 - val_loss: 1.2550 - val_accuracy: 0.5938\n",
      "Epoch 128/300\n",
      "1152/1152 [==============================] - 1s 510us/step - loss: 0.2533 - accuracy: 0.9418 - val_loss: 1.6545 - val_accuracy: 0.4722\n",
      "Epoch 129/300\n",
      "1152/1152 [==============================] - 1s 517us/step - loss: 0.3866 - accuracy: 0.8741 - val_loss: 1.3359 - val_accuracy: 0.5521\n",
      "Epoch 130/300\n",
      "1152/1152 [==============================] - 1s 504us/step - loss: 0.2279 - accuracy: 0.9505 - val_loss: 1.4748 - val_accuracy: 0.5312\n",
      "Epoch 131/300\n",
      "1152/1152 [==============================] - 1s 514us/step - loss: 0.3320 - accuracy: 0.8932 - val_loss: 1.1562 - val_accuracy: 0.6076\n",
      "Epoch 132/300\n",
      "1152/1152 [==============================] - 1s 510us/step - loss: 0.2067 - accuracy: 0.9592 - val_loss: 1.1825 - val_accuracy: 0.5868\n",
      "Epoch 133/300\n",
      "1152/1152 [==============================] - 1s 518us/step - loss: 0.3147 - accuracy: 0.9054 - val_loss: 1.1657 - val_accuracy: 0.6250\n",
      "Epoch 134/300\n",
      "1152/1152 [==============================] - 1s 518us/step - loss: 0.2282 - accuracy: 0.9418 - val_loss: 1.1572 - val_accuracy: 0.5868\n",
      "Epoch 135/300\n",
      "1152/1152 [==============================] - 1s 520us/step - loss: 0.3118 - accuracy: 0.9089 - val_loss: 1.2024 - val_accuracy: 0.5903\n",
      "Epoch 136/300\n",
      "1152/1152 [==============================] - 1s 521us/step - loss: 0.2428 - accuracy: 0.9366 - val_loss: 1.2188 - val_accuracy: 0.5833\n",
      "Epoch 137/300\n",
      "1152/1152 [==============================] - 1s 510us/step - loss: 0.2027 - accuracy: 0.9549 - val_loss: 1.5278 - val_accuracy: 0.5382\n",
      "Epoch 138/300\n",
      "1152/1152 [==============================] - 1s 521us/step - loss: 0.3232 - accuracy: 0.8958 - val_loss: 1.2735 - val_accuracy: 0.6111\n",
      "Epoch 139/300\n",
      "1152/1152 [==============================] - 1s 516us/step - loss: 0.1766 - accuracy: 0.9670 - val_loss: 1.2115 - val_accuracy: 0.5833\n",
      "Epoch 140/300\n",
      "1152/1152 [==============================] - 1s 514us/step - loss: 0.2645 - accuracy: 0.9219 - val_loss: 1.4310 - val_accuracy: 0.5521\n",
      "Epoch 141/300\n",
      "1152/1152 [==============================] - 1s 513us/step - loss: 0.2422 - accuracy: 0.9349 - val_loss: 1.3265 - val_accuracy: 0.5694\n",
      "Epoch 142/300\n",
      "1152/1152 [==============================] - 1s 508us/step - loss: 0.2371 - accuracy: 0.9314 - val_loss: 1.6839 - val_accuracy: 0.5590\n",
      "Epoch 143/300\n",
      "1152/1152 [==============================] - 1s 507us/step - loss: 0.2348 - accuracy: 0.9384 - val_loss: 1.2017 - val_accuracy: 0.5868\n",
      "Epoch 144/300\n",
      "1152/1152 [==============================] - 1s 513us/step - loss: 0.2463 - accuracy: 0.9245 - val_loss: 1.2777 - val_accuracy: 0.5729\n",
      "Epoch 145/300\n",
      "1152/1152 [==============================] - 1s 517us/step - loss: 0.1739 - accuracy: 0.9644 - val_loss: 1.5498 - val_accuracy: 0.4861\n",
      "Epoch 146/300\n",
      "1152/1152 [==============================] - 1s 510us/step - loss: 0.2374 - accuracy: 0.9340 - val_loss: 1.2973 - val_accuracy: 0.5833\n",
      "Epoch 147/300\n",
      "1152/1152 [==============================] - 1s 513us/step - loss: 0.2229 - accuracy: 0.9384 - val_loss: 1.4655 - val_accuracy: 0.5660\n",
      "Epoch 148/300\n",
      "1152/1152 [==============================] - 1s 513us/step - loss: 0.2095 - accuracy: 0.9436 - val_loss: 1.3484 - val_accuracy: 0.5938\n",
      "Epoch 149/300\n",
      "1152/1152 [==============================] - 1s 518us/step - loss: 0.2858 - accuracy: 0.9089 - val_loss: 1.1642 - val_accuracy: 0.6493\n",
      "Epoch 150/300\n",
      "1152/1152 [==============================] - 1s 504us/step - loss: 0.1329 - accuracy: 0.9809 - val_loss: 1.1563 - val_accuracy: 0.6007\n",
      "Epoch 151/300\n",
      "1152/1152 [==============================] - 1s 509us/step - loss: 0.2451 - accuracy: 0.9306 - val_loss: 1.4582 - val_accuracy: 0.5868\n",
      "Epoch 152/300\n",
      "1152/1152 [==============================] - 1s 516us/step - loss: 0.1564 - accuracy: 0.9688 - val_loss: 1.2495 - val_accuracy: 0.6111\n",
      "Epoch 153/300\n",
      "1152/1152 [==============================] - 1s 588us/step - loss: 0.2948 - accuracy: 0.9236 - val_loss: 1.7470 - val_accuracy: 0.5486\n",
      "Epoch 154/300\n",
      "1152/1152 [==============================] - 1s 516us/step - loss: 0.1351 - accuracy: 0.9783 - val_loss: 1.1863 - val_accuracy: 0.6215\n",
      "Epoch 155/300\n",
      "1152/1152 [==============================] - 1s 512us/step - loss: 0.2197 - accuracy: 0.9384 - val_loss: 1.1531 - val_accuracy: 0.6285\n",
      "Epoch 156/300\n",
      "1152/1152 [==============================] - 1s 513us/step - loss: 0.1400 - accuracy: 0.9757 - val_loss: 1.5622 - val_accuracy: 0.5174\n",
      "Epoch 157/300\n",
      "1152/1152 [==============================] - 1s 499us/step - loss: 0.2441 - accuracy: 0.9210 - val_loss: 1.2546 - val_accuracy: 0.6007\n",
      "Epoch 158/300\n",
      "1152/1152 [==============================] - 1s 513us/step - loss: 0.1256 - accuracy: 0.9748 - val_loss: 1.2359 - val_accuracy: 0.6215\n",
      "Epoch 159/300\n",
      "1152/1152 [==============================] - 1s 515us/step - loss: 0.2557 - accuracy: 0.9193 - val_loss: 1.4847 - val_accuracy: 0.5625\n",
      "Epoch 160/300\n",
      "1152/1152 [==============================] - 1s 521us/step - loss: 0.1193 - accuracy: 0.9809 - val_loss: 1.1541 - val_accuracy: 0.6285\n",
      "Epoch 161/300\n",
      "1152/1152 [==============================] - 1s 522us/step - loss: 0.2466 - accuracy: 0.9219 - val_loss: 1.1623 - val_accuracy: 0.6285\n",
      "Epoch 162/300\n",
      "1152/1152 [==============================] - 1s 521us/step - loss: 0.0971 - accuracy: 0.9852 - val_loss: 1.1779 - val_accuracy: 0.6146\n",
      "Epoch 163/300\n",
      "1152/1152 [==============================] - 1s 518us/step - loss: 0.2074 - accuracy: 0.9314 - val_loss: 1.4054 - val_accuracy: 0.5903\n",
      "Epoch 164/300\n",
      "1152/1152 [==============================] - 1s 517us/step - loss: 0.1168 - accuracy: 0.9774 - val_loss: 1.9466 - val_accuracy: 0.4826\n",
      "Epoch 165/300\n",
      "1152/1152 [==============================] - 1s 523us/step - loss: 0.1889 - accuracy: 0.9497 - val_loss: 1.2782 - val_accuracy: 0.5764\n",
      "Epoch 166/300\n"
     ]
    },
    {
     "name": "stdout",
     "output_type": "stream",
     "text": [
      "1152/1152 [==============================] - 1s 514us/step - loss: 0.1995 - accuracy: 0.9436 - val_loss: 1.6354 - val_accuracy: 0.5764\n",
      "Epoch 167/300\n",
      "1152/1152 [==============================] - 1s 510us/step - loss: 0.1230 - accuracy: 0.9757 - val_loss: 1.2325 - val_accuracy: 0.6215\n",
      "Epoch 168/300\n",
      "1152/1152 [==============================] - 1s 511us/step - loss: 0.1277 - accuracy: 0.9644 - val_loss: 1.6654 - val_accuracy: 0.5590\n",
      "Epoch 169/300\n",
      "1152/1152 [==============================] - 1s 511us/step - loss: 0.1578 - accuracy: 0.9653 - val_loss: 1.7272 - val_accuracy: 0.5521\n",
      "Epoch 170/300\n",
      "1152/1152 [==============================] - 1s 498us/step - loss: 0.2143 - accuracy: 0.9366 - val_loss: 1.1944 - val_accuracy: 0.6285\n",
      "Epoch 171/300\n",
      "1152/1152 [==============================] - 1s 512us/step - loss: 0.0863 - accuracy: 0.9852 - val_loss: 1.3009 - val_accuracy: 0.6458\n",
      "Epoch 172/300\n",
      "1152/1152 [==============================] - 1s 514us/step - loss: 0.2429 - accuracy: 0.9436 - val_loss: 1.1729 - val_accuracy: 0.6528\n",
      "Epoch 173/300\n",
      "1152/1152 [==============================] - 1s 509us/step - loss: 0.1059 - accuracy: 0.9774 - val_loss: 2.1455 - val_accuracy: 0.4931\n",
      "Epoch 174/300\n",
      "1152/1152 [==============================] - 1s 511us/step - loss: 0.1623 - accuracy: 0.9540 - val_loss: 1.2049 - val_accuracy: 0.6424\n",
      "Epoch 175/300\n",
      "1152/1152 [==============================] - 1s 511us/step - loss: 0.0681 - accuracy: 0.9965 - val_loss: 1.2158 - val_accuracy: 0.6458\n",
      "Epoch 176/300\n",
      "1152/1152 [==============================] - 1s 525us/step - loss: 0.2209 - accuracy: 0.9427 - val_loss: 1.2136 - val_accuracy: 0.6458\n",
      "Epoch 177/300\n",
      "1152/1152 [==============================] - 1s 504us/step - loss: 0.0676 - accuracy: 0.9931 - val_loss: 1.2567 - val_accuracy: 0.6215\n",
      "Epoch 178/300\n",
      "1152/1152 [==============================] - 1s 512us/step - loss: 0.1879 - accuracy: 0.9358 - val_loss: 1.5712 - val_accuracy: 0.5903\n",
      "Epoch 179/300\n",
      "1152/1152 [==============================] - 1s 510us/step - loss: 0.1006 - accuracy: 0.9826 - val_loss: 1.2408 - val_accuracy: 0.6424\n",
      "Epoch 180/300\n",
      "1152/1152 [==============================] - 1s 515us/step - loss: 0.1719 - accuracy: 0.9444 - val_loss: 1.8590 - val_accuracy: 0.5486\n",
      "Epoch 181/300\n",
      "1152/1152 [==============================] - 1s 509us/step - loss: 0.1299 - accuracy: 0.9688 - val_loss: 1.2027 - val_accuracy: 0.6146\n",
      "Epoch 182/300\n",
      "1152/1152 [==============================] - 1s 515us/step - loss: 0.1173 - accuracy: 0.9627 - val_loss: 1.5014 - val_accuracy: 0.5729\n",
      "Epoch 183/300\n",
      "1152/1152 [==============================] - 1s 505us/step - loss: 0.1652 - accuracy: 0.9575 - val_loss: 1.2196 - val_accuracy: 0.6389\n",
      "Epoch 184/300\n",
      "1152/1152 [==============================] - 1s 513us/step - loss: 0.0531 - accuracy: 0.9939 - val_loss: 1.1752 - val_accuracy: 0.6667\n",
      "Epoch 185/300\n",
      "1152/1152 [==============================] - 1s 514us/step - loss: 0.2931 - accuracy: 0.9288 - val_loss: 1.3486 - val_accuracy: 0.6319\n",
      "Epoch 186/300\n",
      "1152/1152 [==============================] - 1s 512us/step - loss: 0.0547 - accuracy: 0.9965 - val_loss: 1.2078 - val_accuracy: 0.6389\n",
      "Epoch 187/300\n",
      "1152/1152 [==============================] - 1s 518us/step - loss: 0.0729 - accuracy: 0.9896 - val_loss: 2.1379 - val_accuracy: 0.4722\n",
      "Epoch 188/300\n",
      "1152/1152 [==============================] - 1s 523us/step - loss: 0.1852 - accuracy: 0.9549 - val_loss: 1.2278 - val_accuracy: 0.6285\n",
      "Epoch 189/300\n",
      "1152/1152 [==============================] - 1s 514us/step - loss: 0.0535 - accuracy: 0.9957 - val_loss: 1.3159 - val_accuracy: 0.6285\n",
      "Epoch 190/300\n",
      "1152/1152 [==============================] - 1s 520us/step - loss: 0.2421 - accuracy: 0.9306 - val_loss: 1.3579 - val_accuracy: 0.6042\n",
      "Epoch 191/300\n",
      "1152/1152 [==============================] - 1s 524us/step - loss: 0.0483 - accuracy: 0.9983 - val_loss: 1.2173 - val_accuracy: 0.6493\n",
      "Epoch 192/300\n",
      "1152/1152 [==============================] - 1s 520us/step - loss: 0.0545 - accuracy: 0.9931 - val_loss: 1.4215 - val_accuracy: 0.6007\n",
      "Epoch 193/300\n",
      "1152/1152 [==============================] - 1s 515us/step - loss: 0.2049 - accuracy: 0.9514 - val_loss: 1.2540 - val_accuracy: 0.6424\n",
      "Epoch 194/300\n",
      "1152/1152 [==============================] - 1s 510us/step - loss: 0.0415 - accuracy: 0.9957 - val_loss: 1.2443 - val_accuracy: 0.6389\n",
      "Epoch 195/300\n",
      "1152/1152 [==============================] - 1s 515us/step - loss: 0.0644 - accuracy: 0.9861 - val_loss: 1.9781 - val_accuracy: 0.5625\n",
      "Epoch 196/300\n",
      "1152/1152 [==============================] - 1s 500us/step - loss: 0.2150 - accuracy: 0.9392 - val_loss: 1.2176 - val_accuracy: 0.6597\n",
      "Epoch 197/300\n",
      "1152/1152 [==============================] - 1s 509us/step - loss: 0.0391 - accuracy: 0.9983 - val_loss: 1.2370 - val_accuracy: 0.6667\n",
      "Epoch 198/300\n",
      "1152/1152 [==============================] - 1s 518us/step - loss: 0.1505 - accuracy: 0.9462 - val_loss: 1.3125 - val_accuracy: 0.6250\n",
      "Epoch 199/300\n",
      "1152/1152 [==============================] - 1s 514us/step - loss: 0.0448 - accuracy: 0.9983 - val_loss: 1.2706 - val_accuracy: 0.6354\n",
      "Epoch 200/300\n",
      "1152/1152 [==============================] - 1s 604us/step - loss: 0.0416 - accuracy: 0.9991 - val_loss: 1.4793 - val_accuracy: 0.6076\n",
      "Epoch 201/300\n",
      "1152/1152 [==============================] - 1s 563us/step - loss: 0.2237 - accuracy: 0.9366 - val_loss: 1.2370 - val_accuracy: 0.6597\n",
      "Epoch 202/300\n",
      "1152/1152 [==============================] - 1s 521us/step - loss: 0.0373 - accuracy: 0.9983 - val_loss: 1.2449 - val_accuracy: 0.6562\n",
      "Epoch 203/300\n",
      "1152/1152 [==============================] - 1s 521us/step - loss: 0.1313 - accuracy: 0.9583 - val_loss: 2.0649 - val_accuracy: 0.5903\n",
      "Epoch 204/300\n",
      "1152/1152 [==============================] - 1s 511us/step - loss: 0.1327 - accuracy: 0.9774 - val_loss: 1.2175 - val_accuracy: 0.6562\n",
      "Epoch 205/300\n",
      "1152/1152 [==============================] - 1s 519us/step - loss: 0.0349 - accuracy: 1.0000 - val_loss: 1.2739 - val_accuracy: 0.6389\n",
      "Epoch 206/300\n",
      "1152/1152 [==============================] - 1s 521us/step - loss: 0.1054 - accuracy: 0.9661 - val_loss: 2.2617 - val_accuracy: 0.5104\n",
      "Epoch 207/300\n",
      "1152/1152 [==============================] - 1s 519us/step - loss: 0.1241 - accuracy: 0.9618 - val_loss: 1.2600 - val_accuracy: 0.6285\n",
      "Epoch 208/300\n",
      "1152/1152 [==============================] - 1s 512us/step - loss: 0.0326 - accuracy: 0.9983 - val_loss: 1.2703 - val_accuracy: 0.6215\n",
      "Epoch 209/300\n",
      "1152/1152 [==============================] - 1s 516us/step - loss: 0.1844 - accuracy: 0.9427 - val_loss: 1.4259 - val_accuracy: 0.6389\n",
      "Epoch 210/300\n",
      "1152/1152 [==============================] - 1s 530us/step - loss: 0.0373 - accuracy: 0.9939 - val_loss: 1.2586 - val_accuracy: 0.6319\n",
      "Epoch 211/300\n",
      "1152/1152 [==============================] - 1s 511us/step - loss: 0.0483 - accuracy: 0.9922 - val_loss: 2.0623 - val_accuracy: 0.5729\n",
      "Epoch 212/300\n",
      "1152/1152 [==============================] - 1s 522us/step - loss: 0.1660 - accuracy: 0.9566 - val_loss: 1.2457 - val_accuracy: 0.6806\n",
      "Epoch 213/300\n",
      "1152/1152 [==============================] - 1s 536us/step - loss: 0.0316 - accuracy: 0.9965 - val_loss: 1.2806 - val_accuracy: 0.6632\n",
      "Epoch 214/300\n",
      "1152/1152 [==============================] - 1s 526us/step - loss: 0.1412 - accuracy: 0.9514 - val_loss: 1.4054 - val_accuracy: 0.6042\n",
      "Epoch 215/300\n",
      "1152/1152 [==============================] - 1s 521us/step - loss: 0.0363 - accuracy: 0.9948 - val_loss: 1.2443 - val_accuracy: 0.6701\n",
      "Epoch 216/300\n",
      "1152/1152 [==============================] - 1s 528us/step - loss: 0.0253 - accuracy: 0.9991 - val_loss: 1.2861 - val_accuracy: 0.6701\n",
      "Epoch 217/300\n",
      "1152/1152 [==============================] - 1s 522us/step - loss: 0.2996 - accuracy: 0.9375 - val_loss: 1.2886 - val_accuracy: 0.6632\n",
      "Epoch 218/300\n",
      "1152/1152 [==============================] - 1s 571us/step - loss: 0.0253 - accuracy: 0.9991 - val_loss: 1.2866 - val_accuracy: 0.6632\n",
      "Epoch 219/300\n",
      "1152/1152 [==============================] - 1s 520us/step - loss: 0.0327 - accuracy: 0.9957 - val_loss: 1.6837 - val_accuracy: 0.5833\n",
      "Epoch 220/300\n",
      "1152/1152 [==============================] - 1s 513us/step - loss: 0.2222 - accuracy: 0.9297 - val_loss: 1.2851 - val_accuracy: 0.6493\n",
      "Epoch 221/300\n"
     ]
    },
    {
     "name": "stdout",
     "output_type": "stream",
     "text": [
      "1152/1152 [==============================] - 1s 519us/step - loss: 0.0239 - accuracy: 1.0000 - val_loss: 1.2432 - val_accuracy: 0.6736\n",
      "Epoch 222/300\n",
      "1152/1152 [==============================] - 1s 526us/step - loss: 0.0234 - accuracy: 1.0000 - val_loss: 1.2414 - val_accuracy: 0.6667\n",
      "Epoch 223/300\n",
      "1152/1152 [==============================] - 1s 674us/step - loss: 0.2630 - accuracy: 0.9219 - val_loss: 2.1509 - val_accuracy: 0.5174\n",
      "Epoch 224/300\n",
      "1152/1152 [==============================] - 1s 667us/step - loss: 0.0401 - accuracy: 0.9948 - val_loss: 1.2624 - val_accuracy: 0.6493\n",
      "Epoch 225/300\n",
      "1152/1152 [==============================] - 1s 698us/step - loss: 0.0225 - accuracy: 1.0000 - val_loss: 1.2738 - val_accuracy: 0.6667\n",
      "Epoch 226/300\n",
      "1152/1152 [==============================] - 1s 733us/step - loss: 0.0228 - accuracy: 0.9991 - val_loss: 1.3302 - val_accuracy: 0.6493\n",
      "Epoch 227/300\n",
      "1152/1152 [==============================] - 1s 664us/step - loss: 0.0210 - accuracy: 0.9974 - val_loss: 1.4019 - val_accuracy: 0.6389\n",
      "Epoch 228/300\n",
      "1152/1152 [==============================] - 1s 635us/step - loss: 0.2540 - accuracy: 0.9288 - val_loss: 1.3099 - val_accuracy: 0.6424\n",
      "Epoch 229/300\n",
      "1152/1152 [==============================] - 1s 723us/step - loss: 0.0197 - accuracy: 1.0000 - val_loss: 1.2923 - val_accuracy: 0.6562\n",
      "Epoch 230/300\n",
      "1152/1152 [==============================] - 1s 562us/step - loss: 0.0173 - accuracy: 1.0000 - val_loss: 1.2975 - val_accuracy: 0.6597\n",
      "Epoch 231/300\n",
      "1152/1152 [==============================] - 1s 513us/step - loss: 0.2425 - accuracy: 0.9149 - val_loss: 1.4050 - val_accuracy: 0.6528\n",
      "Epoch 232/300\n",
      "1152/1152 [==============================] - 1s 507us/step - loss: 0.0231 - accuracy: 0.9983 - val_loss: 1.2910 - val_accuracy: 0.6528\n",
      "Epoch 233/300\n",
      "1152/1152 [==============================] - 1s 504us/step - loss: 0.0187 - accuracy: 1.0000 - val_loss: 1.2800 - val_accuracy: 0.6771\n",
      "Epoch 234/300\n",
      "1152/1152 [==============================] - 1s 512us/step - loss: 0.0166 - accuracy: 0.9991 - val_loss: 1.3352 - val_accuracy: 0.6667\n",
      "Epoch 235/300\n",
      "1152/1152 [==============================] - 1s 510us/step - loss: 0.2293 - accuracy: 0.9531 - val_loss: 1.3300 - val_accuracy: 0.6701\n",
      "Epoch 236/300\n",
      "1152/1152 [==============================] - 1s 505us/step - loss: 0.0199 - accuracy: 0.9991 - val_loss: 1.2996 - val_accuracy: 0.6806\n",
      "Epoch 237/300\n",
      "1152/1152 [==============================] - 1s 518us/step - loss: 0.0167 - accuracy: 1.0000 - val_loss: 1.3111 - val_accuracy: 0.6771\n",
      "Epoch 238/300\n",
      "1152/1152 [==============================] - 1s 522us/step - loss: 0.0687 - accuracy: 0.9748 - val_loss: 2.8415 - val_accuracy: 0.4583\n",
      "Epoch 239/300\n",
      "1152/1152 [==============================] - 1s 514us/step - loss: 0.1938 - accuracy: 0.9531 - val_loss: 1.3129 - val_accuracy: 0.6632\n",
      "Epoch 240/300\n",
      "1152/1152 [==============================] - 1s 522us/step - loss: 0.0174 - accuracy: 0.9983 - val_loss: 1.3105 - val_accuracy: 0.6597\n",
      "Epoch 241/300\n",
      "1152/1152 [==============================] - 1s 521us/step - loss: 0.0155 - accuracy: 1.0000 - val_loss: 1.3100 - val_accuracy: 0.6701\n",
      "Epoch 242/300\n",
      "1152/1152 [==============================] - 1s 519us/step - loss: 0.2360 - accuracy: 0.9245 - val_loss: 1.5784 - val_accuracy: 0.6250\n",
      "Epoch 243/300\n",
      "1152/1152 [==============================] - 1s 554us/step - loss: 0.0209 - accuracy: 1.0000 - val_loss: 1.2982 - val_accuracy: 0.6632\n",
      "Epoch 244/300\n",
      "1152/1152 [==============================] - 1s 548us/step - loss: 0.0135 - accuracy: 1.0000 - val_loss: 1.3216 - val_accuracy: 0.6597\n",
      "Epoch 245/300\n",
      "1152/1152 [==============================] - 1s 515us/step - loss: 0.0148 - accuracy: 1.0000 - val_loss: 1.3207 - val_accuracy: 0.6736\n",
      "Epoch 246/300\n",
      "1152/1152 [==============================] - 1s 503us/step - loss: 0.0145 - accuracy: 1.0000 - val_loss: 1.3082 - val_accuracy: 0.6667\n",
      "Epoch 247/300\n",
      "1152/1152 [==============================] - 1s 517us/step - loss: 0.2203 - accuracy: 0.9427 - val_loss: 1.3167 - val_accuracy: 0.6736\n",
      "Epoch 248/300\n",
      "1152/1152 [==============================] - 1s 518us/step - loss: 0.0123 - accuracy: 1.0000 - val_loss: 1.3180 - val_accuracy: 0.6771\n",
      "Epoch 249/300\n",
      "1152/1152 [==============================] - 1s 513us/step - loss: 0.0135 - accuracy: 1.0000 - val_loss: 1.3710 - val_accuracy: 0.6528\n",
      "Epoch 250/300\n",
      "1152/1152 [==============================] - 1s 511us/step - loss: 0.0194 - accuracy: 0.9974 - val_loss: 2.0832 - val_accuracy: 0.5625\n",
      "Epoch 251/300\n",
      "1152/1152 [==============================] - 1s 512us/step - loss: 0.2207 - accuracy: 0.9410 - val_loss: 1.3870 - val_accuracy: 0.6458\n",
      "Epoch 252/300\n",
      "1152/1152 [==============================] - 1s 510us/step - loss: 0.0122 - accuracy: 1.0000 - val_loss: 1.3485 - val_accuracy: 0.6597\n",
      "Epoch 253/300\n",
      "1152/1152 [==============================] - 1s 503us/step - loss: 0.0122 - accuracy: 1.0000 - val_loss: 1.3808 - val_accuracy: 0.6667\n",
      "Epoch 254/300\n",
      "1152/1152 [==============================] - 1s 516us/step - loss: 0.1831 - accuracy: 0.9470 - val_loss: 1.3594 - val_accuracy: 0.6701\n",
      "Epoch 255/300\n",
      "1152/1152 [==============================] - 1s 514us/step - loss: 0.0125 - accuracy: 1.0000 - val_loss: 1.3604 - val_accuracy: 0.6701\n",
      "Epoch 256/300\n",
      "1152/1152 [==============================] - 1s 516us/step - loss: 0.0106 - accuracy: 1.0000 - val_loss: 1.3668 - val_accuracy: 0.6806\n",
      "Epoch 257/300\n",
      "1152/1152 [==============================] - 1s 511us/step - loss: 0.0118 - accuracy: 1.0000 - val_loss: 1.4021 - val_accuracy: 0.6632\n",
      "Epoch 258/300\n",
      "1152/1152 [==============================] - 1s 515us/step - loss: 0.2271 - accuracy: 0.9410 - val_loss: 1.7014 - val_accuracy: 0.6215\n",
      "Epoch 259/300\n",
      "1152/1152 [==============================] - 1s 501us/step - loss: 0.0146 - accuracy: 0.9991 - val_loss: 1.3743 - val_accuracy: 0.6597\n",
      "Epoch 260/300\n",
      "1152/1152 [==============================] - 1s 511us/step - loss: 0.0106 - accuracy: 1.0000 - val_loss: 1.3694 - val_accuracy: 0.6667\n",
      "Epoch 261/300\n",
      "1152/1152 [==============================] - 1s 514us/step - loss: 0.0105 - accuracy: 1.0000 - val_loss: 1.3612 - val_accuracy: 0.6528\n",
      "Epoch 262/300\n",
      "1152/1152 [==============================] - 1s 511us/step - loss: 0.1883 - accuracy: 0.9531 - val_loss: 1.3930 - val_accuracy: 0.6354\n",
      "Epoch 263/300\n",
      "1152/1152 [==============================] - 1s 511us/step - loss: 0.0142 - accuracy: 0.9991 - val_loss: 1.3626 - val_accuracy: 0.6632\n",
      "Epoch 264/300\n",
      "1152/1152 [==============================] - 1s 514us/step - loss: 0.0095 - accuracy: 1.0000 - val_loss: 1.3629 - val_accuracy: 0.6875\n",
      "Epoch 265/300\n",
      "1152/1152 [==============================] - 1s 513us/step - loss: 0.0113 - accuracy: 1.0000 - val_loss: 1.6416 - val_accuracy: 0.6319\n",
      "Epoch 266/300\n",
      "1152/1152 [==============================] - 1s 524us/step - loss: 0.2586 - accuracy: 0.9245 - val_loss: 1.3781 - val_accuracy: 0.6493\n",
      "Epoch 267/300\n",
      "1152/1152 [==============================] - 1s 523us/step - loss: 0.0091 - accuracy: 1.0000 - val_loss: 1.3752 - val_accuracy: 0.6493\n",
      "Epoch 268/300\n",
      "1152/1152 [==============================] - 1s 518us/step - loss: 0.0083 - accuracy: 1.0000 - val_loss: 1.3946 - val_accuracy: 0.6562\n",
      "Epoch 269/300\n",
      "1152/1152 [==============================] - 1s 523us/step - loss: 0.0097 - accuracy: 1.0000 - val_loss: 1.4238 - val_accuracy: 0.6493\n",
      "Epoch 270/300\n",
      "1152/1152 [==============================] - 1s 524us/step - loss: 0.0099 - accuracy: 1.0000 - val_loss: 1.4486 - val_accuracy: 0.6562\n",
      "Epoch 271/300\n",
      "1152/1152 [==============================] - 1s 515us/step - loss: 0.2173 - accuracy: 0.9479 - val_loss: 1.3816 - val_accuracy: 0.6458\n",
      "Epoch 272/300\n",
      "1152/1152 [==============================] - 1s 504us/step - loss: 0.0101 - accuracy: 1.0000 - val_loss: 1.3507 - val_accuracy: 0.6771\n",
      "Epoch 273/300\n",
      "1152/1152 [==============================] - 1s 505us/step - loss: 0.0080 - accuracy: 1.0000 - val_loss: 1.3544 - val_accuracy: 0.6701\n",
      "Epoch 274/300\n",
      "1152/1152 [==============================] - 1s 525us/step - loss: 0.0099 - accuracy: 1.0000 - val_loss: 1.5740 - val_accuracy: 0.6354\n",
      "Epoch 275/300\n",
      "1152/1152 [==============================] - 1s 509us/step - loss: 0.1982 - accuracy: 0.9401 - val_loss: 1.4203 - val_accuracy: 0.6562\n",
      "Epoch 276/300\n"
     ]
    },
    {
     "name": "stdout",
     "output_type": "stream",
     "text": [
      "1152/1152 [==============================] - 1s 514us/step - loss: 0.0088 - accuracy: 1.0000 - val_loss: 1.3961 - val_accuracy: 0.6632\n",
      "Epoch 277/300\n",
      "1152/1152 [==============================] - 1s 513us/step - loss: 0.0093 - accuracy: 0.9983 - val_loss: 1.3925 - val_accuracy: 0.6910\n",
      "Epoch 278/300\n",
      "1152/1152 [==============================] - 1s 511us/step - loss: 0.0068 - accuracy: 1.0000 - val_loss: 1.4071 - val_accuracy: 0.6806\n",
      "Epoch 279/300\n",
      "1152/1152 [==============================] - 1s 506us/step - loss: 0.0076 - accuracy: 1.0000 - val_loss: 1.4076 - val_accuracy: 0.6771\n",
      "Epoch 280/300\n",
      "1152/1152 [==============================] - 1s 514us/step - loss: 0.3048 - accuracy: 0.9314 - val_loss: 1.5635 - val_accuracy: 0.6528\n",
      "Epoch 281/300\n",
      "1152/1152 [==============================] - 1s 518us/step - loss: 0.0082 - accuracy: 1.0000 - val_loss: 1.4333 - val_accuracy: 0.6701\n",
      "Epoch 282/300\n",
      "1152/1152 [==============================] - 1s 509us/step - loss: 0.0068 - accuracy: 1.0000 - val_loss: 1.4295 - val_accuracy: 0.6632\n",
      "Epoch 283/300\n",
      "1152/1152 [==============================] - 1s 513us/step - loss: 0.0070 - accuracy: 1.0000 - val_loss: 1.4115 - val_accuracy: 0.6667\n",
      "Epoch 284/300\n",
      "1152/1152 [==============================] - 1s 516us/step - loss: 0.0062 - accuracy: 1.0000 - val_loss: 1.4300 - val_accuracy: 0.6875\n",
      "Epoch 285/300\n",
      "1152/1152 [==============================] - 1s 506us/step - loss: 0.2988 - accuracy: 0.9384 - val_loss: 1.7953 - val_accuracy: 0.6007\n",
      "Epoch 286/300\n",
      "1152/1152 [==============================] - 1s 514us/step - loss: 0.0105 - accuracy: 0.9991 - val_loss: 1.4292 - val_accuracy: 0.6632\n",
      "Epoch 287/300\n",
      "1152/1152 [==============================] - 1s 512us/step - loss: 0.0060 - accuracy: 1.0000 - val_loss: 1.4240 - val_accuracy: 0.6667\n",
      "Epoch 288/300\n",
      "1152/1152 [==============================] - 1s 514us/step - loss: 0.0062 - accuracy: 1.0000 - val_loss: 1.4251 - val_accuracy: 0.6632\n",
      "Epoch 289/300\n",
      "1152/1152 [==============================] - 1s 512us/step - loss: 0.0067 - accuracy: 1.0000 - val_loss: 1.4726 - val_accuracy: 0.6493\n",
      "Epoch 290/300\n",
      "1152/1152 [==============================] - 1s 510us/step - loss: 0.2478 - accuracy: 0.9401 - val_loss: 2.8236 - val_accuracy: 0.5417\n",
      "Epoch 291/300\n",
      "1152/1152 [==============================] - 1s 510us/step - loss: 0.0797 - accuracy: 0.9826 - val_loss: 1.4293 - val_accuracy: 0.6667\n",
      "Epoch 292/300\n",
      "1152/1152 [==============================] - 1s 512us/step - loss: 0.0056 - accuracy: 1.0000 - val_loss: 1.4237 - val_accuracy: 0.6771\n",
      "Epoch 293/300\n",
      "1152/1152 [==============================] - 1s 526us/step - loss: 0.0056 - accuracy: 1.0000 - val_loss: 1.4075 - val_accuracy: 0.6840\n",
      "Epoch 294/300\n",
      "1152/1152 [==============================] - 1s 525us/step - loss: 0.0052 - accuracy: 1.0000 - val_loss: 1.4145 - val_accuracy: 0.6875\n",
      "Epoch 295/300\n",
      "1152/1152 [==============================] - 1s 545us/step - loss: 0.0051 - accuracy: 1.0000 - val_loss: 1.4337 - val_accuracy: 0.6806\n",
      "Epoch 296/300\n",
      "1152/1152 [==============================] - 1s 520us/step - loss: 0.2809 - accuracy: 0.9488 - val_loss: 1.4438 - val_accuracy: 0.6771\n",
      "Epoch 297/300\n",
      "1152/1152 [==============================] - 1s 520us/step - loss: 0.0057 - accuracy: 1.0000 - val_loss: 1.4403 - val_accuracy: 0.6771\n",
      "Epoch 298/300\n",
      "1152/1152 [==============================] - 1s 517us/step - loss: 0.0048 - accuracy: 1.0000 - val_loss: 1.4425 - val_accuracy: 0.6806\n",
      "Epoch 299/300\n",
      "1152/1152 [==============================] - 1s 503us/step - loss: 0.0049 - accuracy: 1.0000 - val_loss: 1.4330 - val_accuracy: 0.6875\n",
      "Epoch 300/300\n",
      "1152/1152 [==============================] - 1s 511us/step - loss: 0.0054 - accuracy: 1.0000 - val_loss: 1.4996 - val_accuracy: 0.6493\n"
     ]
    }
   ],
   "source": [
    "cnnhistory=model.fit(X_expanded_scaled_train_cnn, Y_train_cnn, batch_size=128, epochs=300, validation_data=(X_expanded_scaled_test_cnn, Y_test_cnn))\n",
    "\n",
    "\n"
   ]
  },
  {
   "cell_type": "code",
   "execution_count": 192,
   "metadata": {},
   "outputs": [],
   "source": [
    "Y_pred_cnn=model.predict(X_expanded_scaled_test_cnn)"
   ]
  },
  {
   "cell_type": "code",
   "execution_count": 193,
   "metadata": {},
   "outputs": [
    {
     "data": {
      "text/plain": [
       "array([[3.7549962e-03, 2.9462240e-05, 8.0681257e-03, ..., 3.6238724e-01,\n",
       "        6.1993349e-01, 1.5973045e-03],\n",
       "       [2.3382361e-05, 9.9486512e-01, 1.4221152e-05, ..., 1.1398712e-06,\n",
       "        3.7053172e-04, 4.3716502e-09],\n",
       "       [3.7605935e-01, 5.9828752e-01, 3.1923456e-04, ..., 2.2451448e-05,\n",
       "        4.4568964e-08, 4.0364898e-06],\n",
       "       ...,\n",
       "       [2.0381541e-10, 8.8870689e-11, 7.7053792e-06, ..., 9.9997151e-01,\n",
       "        6.8708690e-14, 3.5069447e-12],\n",
       "       [4.2688031e-09, 2.6116376e-13, 2.5288697e-08, ..., 1.5057358e-10,\n",
       "        1.4989283e-05, 1.5269503e-09],\n",
       "       [1.5404274e-10, 1.2941937e-15, 4.8135635e-06, ..., 6.7869523e-11,\n",
       "        1.1765663e-08, 2.0181853e-08]], dtype=float32)"
      ]
     },
     "execution_count": 193,
     "metadata": {},
     "output_type": "execute_result"
    }
   ],
   "source": [
    "Y_pred_cnn"
   ]
  },
  {
   "cell_type": "code",
   "execution_count": null,
   "metadata": {},
   "outputs": [],
   "source": []
  },
  {
   "cell_type": "code",
   "execution_count": 194,
   "metadata": {},
   "outputs": [
    {
     "name": "stdout",
     "output_type": "stream",
     "text": [
      "[6 3 1 3 4 5 3 3 4 7 7 6 1 1 1 2 2 0 5 6 6 4 2 6 5 6 7 6 3 6 1 3 7 6 0 2 3\n",
      " 1 0 6 3 4 1 7 3 5 1 5 0 4 5 2 5 0 1 3 5 3 1 6 6 2 2 4 6 7 3 5 3 4 1 4 4 6\n",
      " 6 5 2 1 1 7 6 5 2 5 5 3 0 3 1 4 4 6 4 7 3 1 2 2 7 0 6 5 0 6 4 3 3 7 0 2 1\n",
      " 6 6 2 7 4 1 6 5 7 6 4 3 7 6 1 7 4 3 2 5 7 1 0 4 4 6 3 2 2 1 5 0 7 7 0 6 1\n",
      " 1 0 7 5 5 1 4 3 6 2 2 7 0 2 5 5 6 3 7 4 1 5 1 5 5 5 2 2 4 7 7 5 6 2 1 6 7\n",
      " 6 5 6 4 5 4 4 2 7 6 7 5 5 6 6 7 3 4 4 6 3 1 1 5 2 4 7 5 1 6 4 4 2 1 3 7 3\n",
      " 3 3 0 4 2 7 4 3 2 7 0 2 1 7 2 3 0 5 1 1 0 6 7 7 5 4 7 3 3 3 5 4 4 4 2 2 4\n",
      " 1 1 5 2 4 7 7 0 2 2 6 7 5 1 2 5 2 2 3 3 1 7 2 1 3 3 5 4 4]\n",
      "[[0. 0. 0. ... 0. 1. 0.]\n",
      " [0. 0. 0. ... 0. 0. 0.]\n",
      " [0. 1. 0. ... 0. 0. 0.]\n",
      " ...\n",
      " [0. 0. 0. ... 1. 0. 0.]\n",
      " [0. 0. 0. ... 0. 0. 0.]\n",
      " [0. 0. 0. ... 0. 0. 0.]]\n"
     ]
    }
   ],
   "source": [
    "from numpy import array\n",
    "from numpy import argmax\n",
    "from keras.utils import to_categorical\n",
    "# define example\n",
    "data = Y_test_cnn\n",
    "data = array(data)\n",
    "print(data)\n",
    "# one hot encode\n",
    "encoded = to_categorical(data)\n",
    "print(encoded)\n",
    "# # invert encoding\n",
    "# inverted = argmax(encoded[0])\n",
    "# print(inverted)\n"
   ]
  },
  {
   "cell_type": "code",
   "execution_count": 195,
   "metadata": {},
   "outputs": [],
   "source": [
    "Y_test_one_hot_cnn=encoded"
   ]
  },
  {
   "cell_type": "code",
   "execution_count": 196,
   "metadata": {},
   "outputs": [
    {
     "name": "stdout",
     "output_type": "stream",
     "text": [
      "(288, 8)\n",
      "(288, 8)\n"
     ]
    }
   ],
   "source": [
    "print(Y_pred_cnn.shape)\n",
    "print(Y_test_one_hot_cnn.shape)"
   ]
  },
  {
   "cell_type": "code",
   "execution_count": 197,
   "metadata": {},
   "outputs": [
    {
     "name": "stderr",
     "output_type": "stream",
     "text": [
      "/home/akansh/anaconda3/lib/python3.7/site-packages/ipykernel_launcher.py:30: DeprecationWarning: scipy.interp is deprecated and will be removed in SciPy 2.0.0, use numpy.interp instead\n"
     ]
    },
    {
     "data": {
      "image/png": "[encoded data removed]",
      "text/plain": [
       "<Figure size 720x720 with 1 Axes>"
      ]
     },
     "metadata": {
      "needs_background": "light"
     },
     "output_type": "display_data"
    }
   ],
   "source": [
    "import numpy as np\n",
    "from scipy import interp\n",
    "import matplotlib.pyplot as plt\n",
    "from itertools import cycle\n",
    "from sklearn.metrics import roc_curve, auc\n",
    "\n",
    "# Plot linewidth.\n",
    "lw = 2\n",
    "n_classes=8\n",
    "# Compute ROC curve and ROC area for each class\n",
    "fpr = dict()\n",
    "tpr = dict()\n",
    "roc_auc = dict()\n",
    "for i in range(n_classes):\n",
    "    fpr[i], tpr[i], _ = roc_curve(Y_test_one_hot_cnn[:, i], Y_pred_cnn[:, i])\n",
    "    roc_auc[i] = auc(fpr[i], tpr[i])\n",
    "\n",
    "# Compute micro-average ROC curve and ROC area\n",
    "fpr[\"micro\"], tpr[\"micro\"], _ = roc_curve(Y_test_one_hot_cnn.ravel(), Y_pred_cnn.ravel())\n",
    "roc_auc[\"micro\"] = auc(fpr[\"micro\"], tpr[\"micro\"])\n",
    "\n",
    "# Compute macro-average ROC curve and ROC area\n",
    "\n",
    "# First aggregate all false positive rates\n",
    "all_fpr = np.unique(np.concatenate([fpr[i] for i in range(n_classes)]))\n",
    "\n",
    "# Then interpolate all ROC curves at this points\n",
    "mean_tpr = np.zeros_like(all_fpr)\n",
    "for i in range(n_classes):\n",
    "    mean_tpr += interp(all_fpr, fpr[i], tpr[i])\n",
    "\n",
    "# Finally average it and compute AUC\n",
    "mean_tpr /= n_classes\n",
    "\n",
    "fpr[\"macro\"] = all_fpr\n",
    "tpr[\"macro\"] = mean_tpr\n",
    "roc_auc[\"macro\"] = auc(fpr[\"macro\"], tpr[\"macro\"])\n",
    "\n",
    "# Plot all ROC curves\n",
    "plt.figure(1,figsize=(10,10))\n",
    "plt.plot(fpr[\"micro\"], tpr[\"micro\"],\n",
    "         label='micro-average ROC curve (area = {0:0.2f})'\n",
    "               ''.format(roc_auc[\"micro\"]),\n",
    "         color='deeppink', linestyle=':', linewidth=4)\n",
    "\n",
    "plt.plot(fpr[\"macro\"], tpr[\"macro\"],\n",
    "         label='macro-average ROC curve (area = {0:0.2f})'\n",
    "               ''.format(roc_auc[\"macro\"]),\n",
    "         color='navy', linestyle=':', linewidth=4)\n",
    "\n",
    "colors = cycle(['aqua', 'darkorange', 'cornflowerblue'])\n",
    "for i, color in zip(range(n_classes), colors):\n",
    "    plt.plot(fpr[i], tpr[i], color=color, lw=lw,\n",
    "             label='ROC curve of class {0} (area = {1:0.2f})'\n",
    "             ''.format(i, roc_auc[i]))\n",
    "\n",
    "plt.plot([0, 1], [0, 1], 'k--', lw=lw)\n",
    "plt.xlim([0.0, 1.0])\n",
    "plt.ylim([0.0, 1.05])\n",
    "plt.xlabel('False Positive Rate')\n",
    "plt.ylabel('True Positive Rate')\n",
    "plt.title('Some extension of Receiver operating characteristic to multi-class')\n",
    "plt.legend(loc=\"lower right\")\n",
    "plt.show()\n",
    "\n",
    "\n"
   ]
  },
  {
   "cell_type": "markdown",
   "metadata": {},
   "source": [
    "# Support Vector Machine"
   ]
  },
  {
   "cell_type": "code",
   "execution_count": null,
   "metadata": {},
   "outputs": [],
   "source": []
  },
  {
   "cell_type": "code",
   "execution_count": 203,
   "metadata": {},
   "outputs": [],
   "source": [
    "svm_model=SVC(kernel='rbf',C=8,probability=True).fit(X_scaled_train,Y_train)"
   ]
  },
  {
   "cell_type": "code",
   "execution_count": 204,
   "metadata": {},
   "outputs": [],
   "source": [
    "Y_pred=svm_model.predict(X_scaled_test)"
   ]
  },
  {
   "cell_type": "code",
   "execution_count": 208,
   "metadata": {},
   "outputs": [],
   "source": [
    "Y_pred_prob=svm_model.predict_proba(X_scaled_test)"
   ]
  },
  {
   "cell_type": "code",
   "execution_count": 206,
   "metadata": {},
   "outputs": [],
   "source": [
    "accuracy=svm_model.score(X_scaled_test,Y_test)"
   ]
  },
  {
   "cell_type": "code",
   "execution_count": 207,
   "metadata": {},
   "outputs": [
    {
     "data": {
      "text/plain": [
       "0.7013888888888888"
      ]
     },
     "execution_count": 207,
     "metadata": {},
     "output_type": "execute_result"
    }
   ],
   "source": [
    "accuracy"
   ]
  },
  {
   "cell_type": "code",
   "execution_count": 239,
   "metadata": {},
   "outputs": [],
   "source": [
    "Y_test_svm=Y_test"
   ]
  },
  {
   "cell_type": "code",
   "execution_count": 240,
   "metadata": {},
   "outputs": [
    {
     "data": {
      "text/plain": [
       "array([4, 2, 2, 6, 3, 1, 7, 7, 1, 3, 4, 1, 1, 3, 4, 4, 7, 1, 1, 2, 7, 1,\n",
       "       6, 5, 1, 2, 0, 3, 3, 5, 1, 3, 6, 1, 4, 4, 5, 5, 0, 0, 4, 3, 2, 5,\n",
       "       7, 5, 2, 7, 3, 2, 4, 5, 2, 5, 6, 2, 3, 5, 5, 1, 4, 7, 2, 6, 6, 5,\n",
       "       2, 2, 4, 1, 3, 3, 3, 7, 4, 3, 1, 2, 6, 1, 1, 4, 6, 6, 6, 5, 1, 0,\n",
       "       4, 5, 4, 5, 7, 2, 2, 1, 3, 5, 3, 5, 5, 3, 0, 0, 6, 7, 4, 2, 6, 6,\n",
       "       2, 0, 3, 6, 5, 7, 4, 1, 5, 5, 6, 3, 5, 2, 4, 4, 1, 1, 4, 3, 4, 3,\n",
       "       2, 6, 2, 4, 7, 3, 5, 4, 5, 2, 7, 0, 1, 7, 6, 7, 1, 4, 2, 0, 6, 0,\n",
       "       1, 4, 1, 4, 1, 6, 0, 4, 3, 7, 6, 6, 5, 1, 4, 6, 0, 6, 2, 1, 4, 5,\n",
       "       2, 5, 1, 1, 0, 0, 5, 2, 6, 0, 6, 2, 6, 0, 6, 5, 7, 2, 4, 4, 7, 4,\n",
       "       1, 6, 7, 4, 7, 6, 0, 6, 6, 1, 1, 6, 0, 5, 3, 1, 4, 4, 2, 7, 7, 3,\n",
       "       4, 5, 1, 5, 7, 1, 4, 3, 3, 1, 4, 5, 4, 6, 0, 7, 7, 0, 0, 7, 6, 3,\n",
       "       1, 2, 1, 3, 7, 2, 5, 1, 2, 6, 2, 6, 4, 2, 1, 7, 1, 2, 3, 7, 7, 4,\n",
       "       5, 6, 1, 6, 5, 1, 6, 1, 3, 1, 0, 6, 2, 2, 3, 2, 7, 2, 4, 7, 5, 5,\n",
       "       2, 1])"
      ]
     },
     "execution_count": 240,
     "metadata": {},
     "output_type": "execute_result"
    }
   ],
   "source": [
    "\n",
    "encoder = LabelEncoder()\n",
    "Y_test_svm =  encoder.fit_transform(Y_test_svm)\n",
    "Y_test_svm"
   ]
  },
  {
   "cell_type": "code",
   "execution_count": 241,
   "metadata": {},
   "outputs": [
    {
     "name": "stdout",
     "output_type": "stream",
     "text": [
      "[4 2 2 6 3 1 7 7 1 3 4 1 1 3 4 4 7 1 1 2 7 1 6 5 1 2 0 3 3 5 1 3 6 1 4 4 5\n",
      " 5 0 0 4 3 2 5 7 5 2 7 3 2 4 5 2 5 6 2 3 5 5 1 4 7 2 6 6 5 2 2 4 1 3 3 3 7\n",
      " 4 3 1 2 6 1 1 4 6 6 6 5 1 0 4 5 4 5 7 2 2 1 3 5 3 5 5 3 0 0 6 7 4 2 6 6 2\n",
      " 0 3 6 5 7 4 1 5 5 6 3 5 2 4 4 1 1 4 3 4 3 2 6 2 4 7 3 5 4 5 2 7 0 1 7 6 7\n",
      " 1 4 2 0 6 0 1 4 1 4 1 6 0 4 3 7 6 6 5 1 4 6 0 6 2 1 4 5 2 5 1 1 0 0 5 2 6\n",
      " 0 6 2 6 0 6 5 7 2 4 4 7 4 1 6 7 4 7 6 0 6 6 1 1 6 0 5 3 1 4 4 2 7 7 3 4 5\n",
      " 1 5 7 1 4 3 3 1 4 5 4 6 0 7 7 0 0 7 6 3 1 2 1 3 7 2 5 1 2 6 2 6 4 2 1 7 1\n",
      " 2 3 7 7 4 5 6 1 6 5 1 6 1 3 1 0 6 2 2 3 2 7 2 4 7 5 5 2 1]\n",
      "[[0. 0. 0. ... 0. 0. 0.]\n",
      " [0. 0. 1. ... 0. 0. 0.]\n",
      " [0. 0. 1. ... 0. 0. 0.]\n",
      " ...\n",
      " [0. 0. 0. ... 1. 0. 0.]\n",
      " [0. 0. 1. ... 0. 0. 0.]\n",
      " [0. 1. 0. ... 0. 0. 0.]]\n"
     ]
    }
   ],
   "source": [
    "data = Y_test_svm\n",
    "data = array(data)\n",
    "print(data)\n",
    "# one hot encode\n",
    "encoded = to_categorical(data)\n",
    "print(encoded)"
   ]
  },
  {
   "cell_type": "code",
   "execution_count": 242,
   "metadata": {},
   "outputs": [],
   "source": [
    "Y_test_one_hot_svm=encoded"
   ]
  },
  {
   "cell_type": "code",
   "execution_count": 243,
   "metadata": {},
   "outputs": [
    {
     "name": "stderr",
     "output_type": "stream",
     "text": [
      "/home/akansh/anaconda3/lib/python3.7/site-packages/ipykernel_launcher.py:30: DeprecationWarning: scipy.interp is deprecated and will be removed in SciPy 2.0.0, use numpy.interp instead\n"
     ]
    },
    {
     "data": {
      "image/png": "[encoded data removed]",
      "text/plain": [
       "<Figure size 720x720 with 1 Axes>"
      ]
     },
     "metadata": {
      "needs_background": "light"
     },
     "output_type": "display_data"
    }
   ],
   "source": [
    "import numpy as np\n",
    "from scipy import interp\n",
    "import matplotlib.pyplot as plt\n",
    "from itertools import cycle\n",
    "from sklearn.metrics import roc_curve, auc\n",
    "\n",
    "# Plot linewidth.\n",
    "lw = 2\n",
    "n_classes=8\n",
    "# Compute ROC curve and ROC area for each class\n",
    "fpr = dict()\n",
    "tpr = dict()\n",
    "roc_auc = dict()\n",
    "for i in range(n_classes):\n",
    "    fpr[i], tpr[i], _ = roc_curve(Y_test_one_hot_svm[:, i], Y_pred_prob[:, i])\n",
    "    roc_auc[i] = auc(fpr[i], tpr[i])\n",
    "\n",
    "# Compute micro-average ROC curve and ROC area\n",
    "# fpr[\"micro\"], tpr[\"micro\"], _ = roc_curve(Y_test_one_hot.ravel(), Y_pred_prob.ravel())\n",
    "# roc_auc[\"micro\"] = auc(fpr[\"micro\"], tpr[\"micro\"])\n",
    "\n",
    "# Compute macro-average ROC curve and ROC area\n",
    "\n",
    "# First aggregate all false positive rates\n",
    "all_fpr = np.unique(np.concatenate([fpr[i] for i in range(n_classes)]))\n",
    "\n",
    "# Then interpolate all ROC curves at this points\n",
    "mean_tpr = np.zeros_like(all_fpr)\n",
    "for i in range(n_classes):\n",
    "    mean_tpr += interp(all_fpr, fpr[i], tpr[i])\n",
    "\n",
    "# Finally average it and compute AUC\n",
    "mean_tpr /= n_classes\n",
    "\n",
    "fpr[\"macro\"] = all_fpr\n",
    "tpr[\"macro\"] = mean_tpr\n",
    "roc_auc[\"macro\"] = auc(fpr[\"macro\"], tpr[\"macro\"])\n",
    "\n",
    "# Plot all ROC curves\n",
    "plt.figure(1,figsize=(10,10))\n",
    "# plt.plot(fpr[\"micro\"], tpr[\"micro\"],\n",
    "#          label='micro-average ROC curve (area = {0:0.2f})'\n",
    "#                ''.format(roc_auc[\"micro\"]),\n",
    "#          color='deeppink', linestyle=':', linewidth=4)\n",
    "\n",
    "# plt.plot(fpr[\"macro\"], tpr[\"macro\"],\n",
    "#          label='macro-average ROC curve (area = {0:0.2f})'\n",
    "#                ''.format(roc_auc[\"macro\"]),\n",
    "#          color='navy', linestyle=':', linewidth=4)\n",
    "\n",
    "colors = cycle(['aqua', 'darkorange', 'cornflowerblue'])\n",
    "for i, color in zip(range(n_classes), colors):\n",
    "    plt.plot(fpr[i], tpr[i], color=color, lw=lw,\n",
    "             label='ROC curve of class {0} (area = {1:0.2f})'\n",
    "             ''.format(i, roc_auc[i]))\n",
    "\n",
    "plt.plot([0, 1], [0, 1], 'k--', lw=lw)\n",
    "plt.xlim([0.0, 1.0])\n",
    "plt.ylim([0.0, 1.05])\n",
    "plt.xlabel('False Positive Rate')\n",
    "plt.ylabel('True Positive Rate')\n",
    "plt.title('Some extension of Receiver operating characteristic to multi-class')\n",
    "plt.legend(loc=\"lower right\")\n",
    "plt.show()\n",
    "\n",
    "\n"
   ]
  },
  {
   "cell_type": "markdown",
   "metadata": {},
   "source": [
    "# K Nearest Neighbours"
   ]
  },
  {
   "cell_type": "code",
   "execution_count": 244,
   "metadata": {},
   "outputs": [],
   "source": [
    "knn=KNeighborsClassifier(n_neighbors=2,weights='distance',p=1).fit(X_scaled_train,Y_train)"
   ]
  },
  {
   "cell_type": "code",
   "execution_count": 245,
   "metadata": {},
   "outputs": [],
   "source": [
    "accuracy=knn.score(X_scaled_test,Y_test)"
   ]
  },
  {
   "cell_type": "code",
   "execution_count": null,
   "metadata": {},
   "outputs": [],
   "source": []
  },
  {
   "cell_type": "code",
   "execution_count": 246,
   "metadata": {},
   "outputs": [
    {
     "data": {
      "text/plain": [
       "0.6111111111111112"
      ]
     },
     "execution_count": 246,
     "metadata": {},
     "output_type": "execute_result"
    }
   ],
   "source": [
    "accuracy"
   ]
  },
  {
   "cell_type": "markdown",
   "metadata": {},
   "source": [
    "# Naive-Bayes"
   ]
  },
  {
   "cell_type": "code",
   "execution_count": 607,
   "metadata": {},
   "outputs": [],
   "source": [
    "gnb=GaussianNB().fit(X_scaled_train,Y_train)"
   ]
  },
  {
   "cell_type": "code",
   "execution_count": 608,
   "metadata": {},
   "outputs": [],
   "source": [
    "Y_pred=gnb.predict(X_scaled_test)"
   ]
  },
  {
   "cell_type": "code",
   "execution_count": 609,
   "metadata": {},
   "outputs": [],
   "source": [
    "accuracy=gnb.score(X_scaled_test,Y_test)"
   ]
  },
  {
   "cell_type": "code",
   "execution_count": 610,
   "metadata": {},
   "outputs": [
    {
     "data": {
      "text/plain": [
       "0.3645833333333333"
      ]
     },
     "execution_count": 610,
     "metadata": {},
     "output_type": "execute_result"
    }
   ],
   "source": [
    "accuracy"
   ]
  },
  {
   "cell_type": "markdown",
   "metadata": {},
   "source": [
    "# Accuracies obtained by all models."
   ]
  },
  {
   "cell_type": "code",
   "execution_count": 678,
   "metadata": {},
   "outputs": [
    {
     "name": "stdout",
     "output_type": "stream",
     "text": [
      "RAVDESS DATASET\n",
      "Logistic Regression : 52.78 %\n",
      "Random Forest       : 61.81 % \n",
      "MLP Classifier      : 68.75 %\n",
      "CNN                 : 70.83 %\n",
      "SVM                 : 70.13 %\n",
      "KNN                 : 61.11 %\n",
      "Naive-Bayes         : 36.45 %\n"
     ]
    }
   ],
   "source": [
    "print('RAVDESS DATASET')\n",
    "print('Logistic Regression : 52.78 %')\n",
    "print('Random Forest       : 61.81 % ')\n",
    "print('MLP Classifier      : 68.75 %')\n",
    "print('CNN                 : 70.83 %')\n",
    "print('SVM                 : 70.13 %')\n",
    "print('KNN                 : 61.11 %')\n",
    "print('Naive-Bayes         : 36.45 %')"
   ]
  },
  {
   "cell_type": "code",
   "execution_count": 679,
   "metadata": {},
   "outputs": [
    {
     "name": "stdout",
     "output_type": "stream",
     "text": [
      "SAVVEE DATASET\n",
      "Logistic Regression : 70.83 %\n",
      "Random Forest       : 68.75 % \n",
      "MLP Classifier      : 75.00 %\n",
      "CNN                 : 61.46 %\n",
      "SVM                 : 70.83 %\n",
      "KNN                 : 63.54 %\n",
      "Naive-Bayes         : 48.95 %\n"
     ]
    }
   ],
   "source": [
    "print('SAVVEE DATASET')\n",
    "print('Logistic Regression : 70.83 %')\n",
    "print('Random Forest       : 68.75 % ')\n",
    "print('MLP Classifier      : 75.00 %')\n",
    "print('CNN                 : 61.46 %')\n",
    "print('SVM                 : 70.83 %')\n",
    "print('KNN                 : 63.54 %')\n",
    "print('Naive-Bayes         : 48.95 %')"
   ]
  },
  {
   "cell_type": "code",
   "execution_count": 680,
   "metadata": {},
   "outputs": [
    {
     "name": "stdout",
     "output_type": "stream",
     "text": [
      "RAVDESS AND SAVVEE COMBINED DATASET\n",
      "Logistic Regression : 44.01 %\n",
      "Random Forest       : 60.68 % \n",
      "MLP Classifier      : 68.22 %\n",
      "CNN                 : 65.46 %\n",
      "SVM                 : 68.22 %\n",
      "KNN                 : 58.33 %\n",
      "Naive-Bayes         : 29.42 %\n"
     ]
    }
   ],
   "source": [
    "print('RAVDESS AND SAVVEE COMBINED DATASET')\n",
    "print('Logistic Regression : 44.01 %')\n",
    "print('Random Forest       : 60.68 % ')\n",
    "print('MLP Classifier      : 68.22 %')\n",
    "print('CNN                 : 65.46 %')\n",
    "print('SVM                 : 68.22 %')\n",
    "print('KNN                 : 58.33 %')\n",
    "print('Naive-Bayes         : 29.42 %')"
   ]
  }
 ],
 "metadata": {
  "kernelspec": {
   "display_name": "Python 3",
   "language": "python",
   "name": "python3"
  },
  "language_info": {
   "codemirror_mode": {
    "name": "ipython",
    "version": 3
   },
   "file_extension": ".py",
   "mimetype": "text/x-python",
   "name": "python",
   "nbconvert_exporter": "python",
   "pygments_lexer": "ipython3",
   "version": "3.7.4"
  }
 },
 "nbformat": 4,
 "nbformat_minor": 2
}
