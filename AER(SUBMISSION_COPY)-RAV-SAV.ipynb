{
 "cells": [
  {
   "cell_type": "markdown",
   "metadata": {},
   "source": [
    "# Importing all the required libraries."
   ]
  },
  {
   "cell_type": "code",
   "execution_count": 1,
   "metadata": {},
   "outputs": [],
   "source": [
    "import csv\n",
    "import librosa\n",
    "import os\n",
    "import pandas as pd\n",
    "from sklearn.model_selection import train_test_split\n",
    "import numpy as np\n",
    "from sklearn.preprocessing import StandardScaler\n",
    "from sklearn.linear_model import LogisticRegression\n",
    "from sklearn.ensemble import RandomForestClassifier\n",
    "from sklearn.metrics import accuracy_score\n",
    "from sklearn.neural_network import MLPClassifier\n",
    "from sklearn.svm import SVC\n",
    "from sklearn.neighbors import KNeighborsClassifier\n",
    "from sklearn.preprocessing import LabelEncoder\n",
    "from sklearn.naive_bayes import GaussianNB"
   ]
  },
  {
   "cell_type": "code",
   "execution_count": 2,
   "metadata": {},
   "outputs": [],
   "source": [
    "file_ravdess_mfcc_40_chroma_def=pd.read_csv('audio.csv')"
   ]
  },
  {
   "cell_type": "code",
   "execution_count": 3,
   "metadata": {},
   "outputs": [
    {
     "data": {
      "text/html": [
       "<div>\n",
       "<style scoped>\n",
       "    .dataframe tbody tr th:only-of-type {\n",
       "        vertical-align: middle;\n",
       "    }\n",
       "\n",
       "    .dataframe tbody tr th {\n",
       "        vertical-align: top;\n",
       "    }\n",
       "\n",
       "    .dataframe thead th {\n",
       "        text-align: right;\n",
       "    }\n",
       "</style>\n",
       "<table border=\"1\" class=\"dataframe\">\n",
       "  <thead>\n",
       "    <tr style=\"text-align: right;\">\n",
       "      <th></th>\n",
       "      <th>name</th>\n",
       "      <th>label</th>\n",
       "      <th>emotion</th>\n",
       "      <th>chroma_stft_mean</th>\n",
       "      <th>rmse_mean</th>\n",
       "      <th>spec_cent_mean</th>\n",
       "      <th>spec_bw_mean</th>\n",
       "      <th>rolloff_mean</th>\n",
       "      <th>zcr_mean</th>\n",
       "      <th>mfcc1</th>\n",
       "      <th>...</th>\n",
       "      <th>chroma3</th>\n",
       "      <th>chroma4</th>\n",
       "      <th>chroma5</th>\n",
       "      <th>chroma6</th>\n",
       "      <th>chroma7</th>\n",
       "      <th>chroma8</th>\n",
       "      <th>chroma9</th>\n",
       "      <th>chroma10</th>\n",
       "      <th>chroma11</th>\n",
       "      <th>chroma12</th>\n",
       "    </tr>\n",
       "  </thead>\n",
       "  <tbody>\n",
       "    <tr>\n",
       "      <td>0</td>\n",
       "      <td>03-01-01-01-01-01-01.wav</td>\n",
       "      <td>1</td>\n",
       "      <td>neutral</td>\n",
       "      <td>0.598800</td>\n",
       "      <td>0.002257</td>\n",
       "      <td>3435.943088</td>\n",
       "      <td>2600.929791</td>\n",
       "      <td>6264.656291</td>\n",
       "      <td>0.326237</td>\n",
       "      <td>-697.984245</td>\n",
       "      <td>...</td>\n",
       "      <td>0.570387</td>\n",
       "      <td>0.562410</td>\n",
       "      <td>0.551299</td>\n",
       "      <td>0.531241</td>\n",
       "      <td>0.589565</td>\n",
       "      <td>0.640624</td>\n",
       "      <td>0.644353</td>\n",
       "      <td>0.608717</td>\n",
       "      <td>0.611980</td>\n",
       "      <td>0.606167</td>\n",
       "    </tr>\n",
       "    <tr>\n",
       "      <td>1</td>\n",
       "      <td>03-01-01-01-01-02-01.wav</td>\n",
       "      <td>1</td>\n",
       "      <td>neutral</td>\n",
       "      <td>0.578452</td>\n",
       "      <td>0.002420</td>\n",
       "      <td>3231.037280</td>\n",
       "      <td>2646.981271</td>\n",
       "      <td>6162.832642</td>\n",
       "      <td>0.340786</td>\n",
       "      <td>-693.069755</td>\n",
       "      <td>...</td>\n",
       "      <td>0.586752</td>\n",
       "      <td>0.530952</td>\n",
       "      <td>0.529118</td>\n",
       "      <td>0.552281</td>\n",
       "      <td>0.497320</td>\n",
       "      <td>0.549519</td>\n",
       "      <td>0.584854</td>\n",
       "      <td>0.633122</td>\n",
       "      <td>0.632074</td>\n",
       "      <td>0.617527</td>\n",
       "    </tr>\n",
       "    <tr>\n",
       "      <td>2</td>\n",
       "      <td>03-01-01-01-02-01-01.wav</td>\n",
       "      <td>1</td>\n",
       "      <td>neutral</td>\n",
       "      <td>0.587585</td>\n",
       "      <td>0.002810</td>\n",
       "      <td>3203.154528</td>\n",
       "      <td>2605.181241</td>\n",
       "      <td>6117.338659</td>\n",
       "      <td>0.356861</td>\n",
       "      <td>-691.770194</td>\n",
       "      <td>...</td>\n",
       "      <td>0.579290</td>\n",
       "      <td>0.590824</td>\n",
       "      <td>0.573292</td>\n",
       "      <td>0.528130</td>\n",
       "      <td>0.516716</td>\n",
       "      <td>0.578961</td>\n",
       "      <td>0.639646</td>\n",
       "      <td>0.640274</td>\n",
       "      <td>0.563098</td>\n",
       "      <td>0.562465</td>\n",
       "    </tr>\n",
       "    <tr>\n",
       "      <td>3</td>\n",
       "      <td>03-01-01-01-02-02-01.wav</td>\n",
       "      <td>1</td>\n",
       "      <td>neutral</td>\n",
       "      <td>0.573247</td>\n",
       "      <td>0.002618</td>\n",
       "      <td>3080.483081</td>\n",
       "      <td>2644.191743</td>\n",
       "      <td>6094.210838</td>\n",
       "      <td>0.366200</td>\n",
       "      <td>-685.237871</td>\n",
       "      <td>...</td>\n",
       "      <td>0.518804</td>\n",
       "      <td>0.521994</td>\n",
       "      <td>0.584694</td>\n",
       "      <td>0.590593</td>\n",
       "      <td>0.537656</td>\n",
       "      <td>0.589734</td>\n",
       "      <td>0.611182</td>\n",
       "      <td>0.560056</td>\n",
       "      <td>0.568192</td>\n",
       "      <td>0.592452</td>\n",
       "    </tr>\n",
       "    <tr>\n",
       "      <td>4</td>\n",
       "      <td>03-01-02-01-01-01-01.wav</td>\n",
       "      <td>2</td>\n",
       "      <td>calm</td>\n",
       "      <td>0.561084</td>\n",
       "      <td>0.001654</td>\n",
       "      <td>3192.620354</td>\n",
       "      <td>2601.322629</td>\n",
       "      <td>6003.471105</td>\n",
       "      <td>0.313122</td>\n",
       "      <td>-727.317945</td>\n",
       "      <td>...</td>\n",
       "      <td>0.586327</td>\n",
       "      <td>0.547133</td>\n",
       "      <td>0.522434</td>\n",
       "      <td>0.539025</td>\n",
       "      <td>0.501785</td>\n",
       "      <td>0.554183</td>\n",
       "      <td>0.575118</td>\n",
       "      <td>0.618561</td>\n",
       "      <td>0.654716</td>\n",
       "      <td>0.552219</td>\n",
       "    </tr>\n",
       "  </tbody>\n",
       "</table>\n",
       "<p>5 rows × 61 columns</p>\n",
       "</div>"
      ],
      "text/plain": [
       "                       name  label  emotion  chroma_stft_mean  rmse_mean  \\\n",
       "0  03-01-01-01-01-01-01.wav      1  neutral          0.598800   0.002257   \n",
       "1  03-01-01-01-01-02-01.wav      1  neutral          0.578452   0.002420   \n",
       "2  03-01-01-01-02-01-01.wav      1  neutral          0.587585   0.002810   \n",
       "3  03-01-01-01-02-02-01.wav      1  neutral          0.573247   0.002618   \n",
       "4  03-01-02-01-01-01-01.wav      2     calm          0.561084   0.001654   \n",
       "\n",
       "   spec_cent_mean  spec_bw_mean  rolloff_mean  zcr_mean       mfcc1  ...  \\\n",
       "0     3435.943088   2600.929791   6264.656291  0.326237 -697.984245  ...   \n",
       "1     3231.037280   2646.981271   6162.832642  0.340786 -693.069755  ...   \n",
       "2     3203.154528   2605.181241   6117.338659  0.356861 -691.770194  ...   \n",
       "3     3080.483081   2644.191743   6094.210838  0.366200 -685.237871  ...   \n",
       "4     3192.620354   2601.322629   6003.471105  0.313122 -727.317945  ...   \n",
       "\n",
       "    chroma3   chroma4   chroma5   chroma6   chroma7   chroma8   chroma9  \\\n",
       "0  0.570387  0.562410  0.551299  0.531241  0.589565  0.640624  0.644353   \n",
       "1  0.586752  0.530952  0.529118  0.552281  0.497320  0.549519  0.584854   \n",
       "2  0.579290  0.590824  0.573292  0.528130  0.516716  0.578961  0.639646   \n",
       "3  0.518804  0.521994  0.584694  0.590593  0.537656  0.589734  0.611182   \n",
       "4  0.586327  0.547133  0.522434  0.539025  0.501785  0.554183  0.575118   \n",
       "\n",
       "   chroma10  chroma11  chroma12  \n",
       "0  0.608717  0.611980  0.606167  \n",
       "1  0.633122  0.632074  0.617527  \n",
       "2  0.640274  0.563098  0.562465  \n",
       "3  0.560056  0.568192  0.592452  \n",
       "4  0.618561  0.654716  0.552219  \n",
       "\n",
       "[5 rows x 61 columns]"
      ]
     },
     "execution_count": 3,
     "metadata": {},
     "output_type": "execute_result"
    }
   ],
   "source": [
    "file_ravdess_mfcc_40_chroma_def.head()"
   ]
  },
  {
   "cell_type": "code",
   "execution_count": 4,
   "metadata": {},
   "outputs": [
    {
     "data": {
      "text/plain": [
       "(1440, 61)"
      ]
     },
     "execution_count": 4,
     "metadata": {},
     "output_type": "execute_result"
    }
   ],
   "source": [
    "file_ravdess_mfcc_40_chroma_def.shape"
   ]
  },
  {
   "cell_type": "code",
   "execution_count": 5,
   "metadata": {},
   "outputs": [],
   "source": [
    "file_ravdess_mfcc_chroma_40=pd.read_csv('myexp.csv')"
   ]
  },
  {
   "cell_type": "code",
   "execution_count": 6,
   "metadata": {},
   "outputs": [
    {
     "data": {
      "text/plain": [
       "(1440, 89)"
      ]
     },
     "execution_count": 6,
     "metadata": {},
     "output_type": "execute_result"
    }
   ],
   "source": [
    "file_ravdess_mfcc_chroma_40.shape"
   ]
  },
  {
   "cell_type": "code",
   "execution_count": 7,
   "metadata": {},
   "outputs": [
    {
     "data": {
      "text/html": [
       "<div>\n",
       "<style scoped>\n",
       "    .dataframe tbody tr th:only-of-type {\n",
       "        vertical-align: middle;\n",
       "    }\n",
       "\n",
       "    .dataframe tbody tr th {\n",
       "        vertical-align: top;\n",
       "    }\n",
       "\n",
       "    .dataframe thead th {\n",
       "        text-align: right;\n",
       "    }\n",
       "</style>\n",
       "<table border=\"1\" class=\"dataframe\">\n",
       "  <thead>\n",
       "    <tr style=\"text-align: right;\">\n",
       "      <th></th>\n",
       "      <th>name</th>\n",
       "      <th>label</th>\n",
       "      <th>emotion</th>\n",
       "      <th>chroma_stft_mean</th>\n",
       "      <th>rmse_mean</th>\n",
       "      <th>spec_cent_mean</th>\n",
       "      <th>spec_bw_mean</th>\n",
       "      <th>rolloff_mean</th>\n",
       "      <th>zcr_mean</th>\n",
       "      <th>mfcc1</th>\n",
       "      <th>...</th>\n",
       "      <th>chroma31</th>\n",
       "      <th>chroma32</th>\n",
       "      <th>chroma33</th>\n",
       "      <th>chroma34</th>\n",
       "      <th>chroma35</th>\n",
       "      <th>chroma36</th>\n",
       "      <th>chroma37</th>\n",
       "      <th>chroma38</th>\n",
       "      <th>chroma39</th>\n",
       "      <th>chroma40</th>\n",
       "    </tr>\n",
       "  </thead>\n",
       "  <tbody>\n",
       "    <tr>\n",
       "      <td>0</td>\n",
       "      <td>03-01-03-02-01-02-01.wav</td>\n",
       "      <td>3</td>\n",
       "      <td>happy</td>\n",
       "      <td>0.385386</td>\n",
       "      <td>0.008209</td>\n",
       "      <td>2592.308325</td>\n",
       "      <td>2360.097245</td>\n",
       "      <td>4995.771702</td>\n",
       "      <td>0.246548</td>\n",
       "      <td>-560.09265</td>\n",
       "      <td>...</td>\n",
       "      <td>0.464910</td>\n",
       "      <td>0.475772</td>\n",
       "      <td>0.437146</td>\n",
       "      <td>0.477294</td>\n",
       "      <td>0.468137</td>\n",
       "      <td>0.397129</td>\n",
       "      <td>0.374605</td>\n",
       "      <td>0.363818</td>\n",
       "      <td>0.353714</td>\n",
       "      <td>0.350808</td>\n",
       "    </tr>\n",
       "    <tr>\n",
       "      <td>1</td>\n",
       "      <td>03-01-03-02-02-02-01.wav</td>\n",
       "      <td>3</td>\n",
       "      <td>happy</td>\n",
       "      <td>0.399802</td>\n",
       "      <td>0.010222</td>\n",
       "      <td>3158.102896</td>\n",
       "      <td>2509.477352</td>\n",
       "      <td>5908.204274</td>\n",
       "      <td>0.304351</td>\n",
       "      <td>-539.44464</td>\n",
       "      <td>...</td>\n",
       "      <td>0.421390</td>\n",
       "      <td>0.443214</td>\n",
       "      <td>0.441170</td>\n",
       "      <td>0.453948</td>\n",
       "      <td>0.446627</td>\n",
       "      <td>0.423123</td>\n",
       "      <td>0.409154</td>\n",
       "      <td>0.380438</td>\n",
       "      <td>0.364385</td>\n",
       "      <td>0.329913</td>\n",
       "    </tr>\n",
       "    <tr>\n",
       "      <td>2</td>\n",
       "      <td>03-01-03-01-02-02-01.wav</td>\n",
       "      <td>3</td>\n",
       "      <td>happy</td>\n",
       "      <td>0.432610</td>\n",
       "      <td>0.003754</td>\n",
       "      <td>3155.010040</td>\n",
       "      <td>2500.076212</td>\n",
       "      <td>5856.358337</td>\n",
       "      <td>0.369135</td>\n",
       "      <td>-652.92870</td>\n",
       "      <td>...</td>\n",
       "      <td>0.398528</td>\n",
       "      <td>0.452733</td>\n",
       "      <td>0.453803</td>\n",
       "      <td>0.451015</td>\n",
       "      <td>0.450011</td>\n",
       "      <td>0.447997</td>\n",
       "      <td>0.456473</td>\n",
       "      <td>0.446581</td>\n",
       "      <td>0.428503</td>\n",
       "      <td>0.459803</td>\n",
       "    </tr>\n",
       "    <tr>\n",
       "      <td>3</td>\n",
       "      <td>03-01-05-01-01-02-01.wav</td>\n",
       "      <td>5</td>\n",
       "      <td>angry</td>\n",
       "      <td>0.389468</td>\n",
       "      <td>0.009704</td>\n",
       "      <td>3435.518747</td>\n",
       "      <td>2619.287507</td>\n",
       "      <td>6348.558278</td>\n",
       "      <td>0.303829</td>\n",
       "      <td>-526.54034</td>\n",
       "      <td>...</td>\n",
       "      <td>0.422416</td>\n",
       "      <td>0.412361</td>\n",
       "      <td>0.386799</td>\n",
       "      <td>0.383563</td>\n",
       "      <td>0.390801</td>\n",
       "      <td>0.372256</td>\n",
       "      <td>0.367946</td>\n",
       "      <td>0.360153</td>\n",
       "      <td>0.373736</td>\n",
       "      <td>0.369871</td>\n",
       "    </tr>\n",
       "    <tr>\n",
       "      <td>4</td>\n",
       "      <td>03-01-08-01-02-02-01.wav</td>\n",
       "      <td>8</td>\n",
       "      <td>surprised</td>\n",
       "      <td>0.491953</td>\n",
       "      <td>0.003929</td>\n",
       "      <td>3524.545799</td>\n",
       "      <td>2647.952102</td>\n",
       "      <td>6432.624460</td>\n",
       "      <td>0.284329</td>\n",
       "      <td>-666.63245</td>\n",
       "      <td>...</td>\n",
       "      <td>0.530399</td>\n",
       "      <td>0.520594</td>\n",
       "      <td>0.468319</td>\n",
       "      <td>0.440439</td>\n",
       "      <td>0.431363</td>\n",
       "      <td>0.439305</td>\n",
       "      <td>0.463814</td>\n",
       "      <td>0.481968</td>\n",
       "      <td>0.456423</td>\n",
       "      <td>0.451458</td>\n",
       "    </tr>\n",
       "  </tbody>\n",
       "</table>\n",
       "<p>5 rows × 89 columns</p>\n",
       "</div>"
      ],
      "text/plain": [
       "                       name  label    emotion  chroma_stft_mean  rmse_mean  \\\n",
       "0  03-01-03-02-01-02-01.wav      3      happy          0.385386   0.008209   \n",
       "1  03-01-03-02-02-02-01.wav      3      happy          0.399802   0.010222   \n",
       "2  03-01-03-01-02-02-01.wav      3      happy          0.432610   0.003754   \n",
       "3  03-01-05-01-01-02-01.wav      5      angry          0.389468   0.009704   \n",
       "4  03-01-08-01-02-02-01.wav      8  surprised          0.491953   0.003929   \n",
       "\n",
       "   spec_cent_mean  spec_bw_mean  rolloff_mean  zcr_mean      mfcc1  ...  \\\n",
       "0     2592.308325   2360.097245   4995.771702  0.246548 -560.09265  ...   \n",
       "1     3158.102896   2509.477352   5908.204274  0.304351 -539.44464  ...   \n",
       "2     3155.010040   2500.076212   5856.358337  0.369135 -652.92870  ...   \n",
       "3     3435.518747   2619.287507   6348.558278  0.303829 -526.54034  ...   \n",
       "4     3524.545799   2647.952102   6432.624460  0.284329 -666.63245  ...   \n",
       "\n",
       "   chroma31  chroma32  chroma33  chroma34  chroma35  chroma36  chroma37  \\\n",
       "0  0.464910  0.475772  0.437146  0.477294  0.468137  0.397129  0.374605   \n",
       "1  0.421390  0.443214  0.441170  0.453948  0.446627  0.423123  0.409154   \n",
       "2  0.398528  0.452733  0.453803  0.451015  0.450011  0.447997  0.456473   \n",
       "3  0.422416  0.412361  0.386799  0.383563  0.390801  0.372256  0.367946   \n",
       "4  0.530399  0.520594  0.468319  0.440439  0.431363  0.439305  0.463814   \n",
       "\n",
       "   chroma38  chroma39  chroma40  \n",
       "0  0.363818  0.353714  0.350808  \n",
       "1  0.380438  0.364385  0.329913  \n",
       "2  0.446581  0.428503  0.459803  \n",
       "3  0.360153  0.373736  0.369871  \n",
       "4  0.481968  0.456423  0.451458  \n",
       "\n",
       "[5 rows x 89 columns]"
      ]
     },
     "execution_count": 7,
     "metadata": {},
     "output_type": "execute_result"
    }
   ],
   "source": [
    "file_ravdess_mfcc_chroma_40.head()"
   ]
  },
  {
   "cell_type": "code",
   "execution_count": 8,
   "metadata": {},
   "outputs": [],
   "source": [
    "file_rav_sav_mfcc_chroma_40=pd.read_csv('myexpfinal.csv')"
   ]
  },
  {
   "cell_type": "code",
   "execution_count": 9,
   "metadata": {},
   "outputs": [
    {
     "data": {
      "text/plain": [
       "(1920, 89)"
      ]
     },
     "execution_count": 9,
     "metadata": {},
     "output_type": "execute_result"
    }
   ],
   "source": [
    "file_rav_sav_mfcc_chroma_40.shape"
   ]
  },
  {
   "cell_type": "code",
   "execution_count": 10,
   "metadata": {},
   "outputs": [
    {
     "data": {
      "text/html": [
       "<div>\n",
       "<style scoped>\n",
       "    .dataframe tbody tr th:only-of-type {\n",
       "        vertical-align: middle;\n",
       "    }\n",
       "\n",
       "    .dataframe tbody tr th {\n",
       "        vertical-align: top;\n",
       "    }\n",
       "\n",
       "    .dataframe thead th {\n",
       "        text-align: right;\n",
       "    }\n",
       "</style>\n",
       "<table border=\"1\" class=\"dataframe\">\n",
       "  <thead>\n",
       "    <tr style=\"text-align: right;\">\n",
       "      <th></th>\n",
       "      <th>name</th>\n",
       "      <th>label</th>\n",
       "      <th>emotion</th>\n",
       "      <th>chroma_stft_mean</th>\n",
       "      <th>rmse_mean</th>\n",
       "      <th>spec_cent_mean</th>\n",
       "      <th>spec_bw_mean</th>\n",
       "      <th>rolloff_mean</th>\n",
       "      <th>zcr_mean</th>\n",
       "      <th>mfcc1</th>\n",
       "      <th>...</th>\n",
       "      <th>chroma31</th>\n",
       "      <th>chroma32</th>\n",
       "      <th>chroma33</th>\n",
       "      <th>chroma34</th>\n",
       "      <th>chroma35</th>\n",
       "      <th>chroma36</th>\n",
       "      <th>chroma37</th>\n",
       "      <th>chroma38</th>\n",
       "      <th>chroma39</th>\n",
       "      <th>chroma40</th>\n",
       "    </tr>\n",
       "  </thead>\n",
       "  <tbody>\n",
       "    <tr>\n",
       "      <td>0</td>\n",
       "      <td>03-01-03-02-01-02-01.wav</td>\n",
       "      <td>3</td>\n",
       "      <td>happy</td>\n",
       "      <td>0.385386</td>\n",
       "      <td>0.008209</td>\n",
       "      <td>2592.308325</td>\n",
       "      <td>2360.097245</td>\n",
       "      <td>4995.771702</td>\n",
       "      <td>0.246548</td>\n",
       "      <td>-560.09265</td>\n",
       "      <td>...</td>\n",
       "      <td>0.464910</td>\n",
       "      <td>0.475772</td>\n",
       "      <td>0.437146</td>\n",
       "      <td>0.477294</td>\n",
       "      <td>0.468137</td>\n",
       "      <td>0.397129</td>\n",
       "      <td>0.374605</td>\n",
       "      <td>0.363818</td>\n",
       "      <td>0.353714</td>\n",
       "      <td>0.350808</td>\n",
       "    </tr>\n",
       "    <tr>\n",
       "      <td>1</td>\n",
       "      <td>03-01-03-02-02-02-01.wav</td>\n",
       "      <td>3</td>\n",
       "      <td>happy</td>\n",
       "      <td>0.399802</td>\n",
       "      <td>0.010222</td>\n",
       "      <td>3158.102896</td>\n",
       "      <td>2509.477352</td>\n",
       "      <td>5908.204274</td>\n",
       "      <td>0.304351</td>\n",
       "      <td>-539.44464</td>\n",
       "      <td>...</td>\n",
       "      <td>0.421389</td>\n",
       "      <td>0.443214</td>\n",
       "      <td>0.441170</td>\n",
       "      <td>0.453948</td>\n",
       "      <td>0.446627</td>\n",
       "      <td>0.423123</td>\n",
       "      <td>0.409154</td>\n",
       "      <td>0.380438</td>\n",
       "      <td>0.364385</td>\n",
       "      <td>0.329913</td>\n",
       "    </tr>\n",
       "    <tr>\n",
       "      <td>2</td>\n",
       "      <td>03-01-03-01-02-02-01.wav</td>\n",
       "      <td>3</td>\n",
       "      <td>happy</td>\n",
       "      <td>0.432610</td>\n",
       "      <td>0.003754</td>\n",
       "      <td>3155.010040</td>\n",
       "      <td>2500.076212</td>\n",
       "      <td>5856.358337</td>\n",
       "      <td>0.369135</td>\n",
       "      <td>-652.92870</td>\n",
       "      <td>...</td>\n",
       "      <td>0.398528</td>\n",
       "      <td>0.452733</td>\n",
       "      <td>0.453803</td>\n",
       "      <td>0.451015</td>\n",
       "      <td>0.450011</td>\n",
       "      <td>0.447997</td>\n",
       "      <td>0.456473</td>\n",
       "      <td>0.446582</td>\n",
       "      <td>0.428503</td>\n",
       "      <td>0.459803</td>\n",
       "    </tr>\n",
       "    <tr>\n",
       "      <td>3</td>\n",
       "      <td>03-01-05-01-01-02-01.wav</td>\n",
       "      <td>5</td>\n",
       "      <td>angry</td>\n",
       "      <td>0.389468</td>\n",
       "      <td>0.009704</td>\n",
       "      <td>3435.518747</td>\n",
       "      <td>2619.287507</td>\n",
       "      <td>6348.558278</td>\n",
       "      <td>0.303829</td>\n",
       "      <td>-526.54034</td>\n",
       "      <td>...</td>\n",
       "      <td>0.422416</td>\n",
       "      <td>0.412361</td>\n",
       "      <td>0.386799</td>\n",
       "      <td>0.383563</td>\n",
       "      <td>0.390801</td>\n",
       "      <td>0.372256</td>\n",
       "      <td>0.367946</td>\n",
       "      <td>0.360153</td>\n",
       "      <td>0.373736</td>\n",
       "      <td>0.369871</td>\n",
       "    </tr>\n",
       "    <tr>\n",
       "      <td>4</td>\n",
       "      <td>03-01-08-01-02-02-01.wav</td>\n",
       "      <td>8</td>\n",
       "      <td>surprised</td>\n",
       "      <td>0.491953</td>\n",
       "      <td>0.003929</td>\n",
       "      <td>3524.545799</td>\n",
       "      <td>2647.952102</td>\n",
       "      <td>6432.624460</td>\n",
       "      <td>0.284329</td>\n",
       "      <td>-666.63245</td>\n",
       "      <td>...</td>\n",
       "      <td>0.530399</td>\n",
       "      <td>0.520594</td>\n",
       "      <td>0.468319</td>\n",
       "      <td>0.440439</td>\n",
       "      <td>0.431363</td>\n",
       "      <td>0.439305</td>\n",
       "      <td>0.463814</td>\n",
       "      <td>0.481968</td>\n",
       "      <td>0.456423</td>\n",
       "      <td>0.451458</td>\n",
       "    </tr>\n",
       "  </tbody>\n",
       "</table>\n",
       "<p>5 rows × 89 columns</p>\n",
       "</div>"
      ],
      "text/plain": [
       "                       name  label    emotion  chroma_stft_mean  rmse_mean  \\\n",
       "0  03-01-03-02-01-02-01.wav      3      happy          0.385386   0.008209   \n",
       "1  03-01-03-02-02-02-01.wav      3      happy          0.399802   0.010222   \n",
       "2  03-01-03-01-02-02-01.wav      3      happy          0.432610   0.003754   \n",
       "3  03-01-05-01-01-02-01.wav      5      angry          0.389468   0.009704   \n",
       "4  03-01-08-01-02-02-01.wav      8  surprised          0.491953   0.003929   \n",
       "\n",
       "   spec_cent_mean  spec_bw_mean  rolloff_mean  zcr_mean      mfcc1  ...  \\\n",
       "0     2592.308325   2360.097245   4995.771702  0.246548 -560.09265  ...   \n",
       "1     3158.102896   2509.477352   5908.204274  0.304351 -539.44464  ...   \n",
       "2     3155.010040   2500.076212   5856.358337  0.369135 -652.92870  ...   \n",
       "3     3435.518747   2619.287507   6348.558278  0.303829 -526.54034  ...   \n",
       "4     3524.545799   2647.952102   6432.624460  0.284329 -666.63245  ...   \n",
       "\n",
       "   chroma31  chroma32  chroma33  chroma34  chroma35  chroma36  chroma37  \\\n",
       "0  0.464910  0.475772  0.437146  0.477294  0.468137  0.397129  0.374605   \n",
       "1  0.421389  0.443214  0.441170  0.453948  0.446627  0.423123  0.409154   \n",
       "2  0.398528  0.452733  0.453803  0.451015  0.450011  0.447997  0.456473   \n",
       "3  0.422416  0.412361  0.386799  0.383563  0.390801  0.372256  0.367946   \n",
       "4  0.530399  0.520594  0.468319  0.440439  0.431363  0.439305  0.463814   \n",
       "\n",
       "   chroma38  chroma39  chroma40  \n",
       "0  0.363818  0.353714  0.350808  \n",
       "1  0.380438  0.364385  0.329913  \n",
       "2  0.446582  0.428503  0.459803  \n",
       "3  0.360153  0.373736  0.369871  \n",
       "4  0.481968  0.456423  0.451458  \n",
       "\n",
       "[5 rows x 89 columns]"
      ]
     },
     "execution_count": 10,
     "metadata": {},
     "output_type": "execute_result"
    }
   ],
   "source": [
    "file_rav_sav_mfcc_chroma_40.head()"
   ]
  },
  {
   "cell_type": "code",
   "execution_count": 11,
   "metadata": {},
   "outputs": [],
   "source": [
    "file_sav_mfcc_40_chroma_def=pd.read_csv('save.csv')"
   ]
  },
  {
   "cell_type": "code",
   "execution_count": 12,
   "metadata": {},
   "outputs": [
    {
     "data": {
      "text/plain": [
       "(480, 61)"
      ]
     },
     "execution_count": 12,
     "metadata": {},
     "output_type": "execute_result"
    }
   ],
   "source": [
    "file_sav_mfcc_40_chroma_def.shape"
   ]
  },
  {
   "cell_type": "code",
   "execution_count": 13,
   "metadata": {},
   "outputs": [
    {
     "data": {
      "text/html": [
       "<div>\n",
       "<style scoped>\n",
       "    .dataframe tbody tr th:only-of-type {\n",
       "        vertical-align: middle;\n",
       "    }\n",
       "\n",
       "    .dataframe tbody tr th {\n",
       "        vertical-align: top;\n",
       "    }\n",
       "\n",
       "    .dataframe thead th {\n",
       "        text-align: right;\n",
       "    }\n",
       "</style>\n",
       "<table border=\"1\" class=\"dataframe\">\n",
       "  <thead>\n",
       "    <tr style=\"text-align: right;\">\n",
       "      <th></th>\n",
       "      <th>name</th>\n",
       "      <th>label</th>\n",
       "      <th>emotion</th>\n",
       "      <th>chroma_stft_mean</th>\n",
       "      <th>rmse_mean</th>\n",
       "      <th>spec_cent_mean</th>\n",
       "      <th>spec_bw_mean</th>\n",
       "      <th>rolloff_mean</th>\n",
       "      <th>zcr_mean</th>\n",
       "      <th>mfcc1</th>\n",
       "      <th>...</th>\n",
       "      <th>chroma3</th>\n",
       "      <th>chroma4</th>\n",
       "      <th>chroma5</th>\n",
       "      <th>chroma6</th>\n",
       "      <th>chroma7</th>\n",
       "      <th>chroma8</th>\n",
       "      <th>chroma9</th>\n",
       "      <th>chroma10</th>\n",
       "      <th>chroma11</th>\n",
       "      <th>chroma12</th>\n",
       "    </tr>\n",
       "  </thead>\n",
       "  <tbody>\n",
       "    <tr>\n",
       "      <td>0</td>\n",
       "      <td>a07.wav</td>\n",
       "      <td>5</td>\n",
       "      <td>angry</td>\n",
       "      <td>0.454161</td>\n",
       "      <td>0.219577</td>\n",
       "      <td>770.225570</td>\n",
       "      <td>1245.288464</td>\n",
       "      <td>1289.599609</td>\n",
       "      <td>0.014129</td>\n",
       "      <td>-310.76282</td>\n",
       "      <td>...</td>\n",
       "      <td>0.451283</td>\n",
       "      <td>0.532295</td>\n",
       "      <td>0.595957</td>\n",
       "      <td>0.585469</td>\n",
       "      <td>0.516790</td>\n",
       "      <td>0.472828</td>\n",
       "      <td>0.439147</td>\n",
       "      <td>0.379205</td>\n",
       "      <td>0.334979</td>\n",
       "      <td>0.369499</td>\n",
       "    </tr>\n",
       "    <tr>\n",
       "      <td>1</td>\n",
       "      <td>su11.wav</td>\n",
       "      <td>8</td>\n",
       "      <td>surprised</td>\n",
       "      <td>0.538299</td>\n",
       "      <td>0.124430</td>\n",
       "      <td>825.633466</td>\n",
       "      <td>1250.196555</td>\n",
       "      <td>1387.058989</td>\n",
       "      <td>0.013365</td>\n",
       "      <td>-374.00827</td>\n",
       "      <td>...</td>\n",
       "      <td>0.564124</td>\n",
       "      <td>0.609270</td>\n",
       "      <td>0.538288</td>\n",
       "      <td>0.526328</td>\n",
       "      <td>0.543785</td>\n",
       "      <td>0.556579</td>\n",
       "      <td>0.567067</td>\n",
       "      <td>0.560961</td>\n",
       "      <td>0.510373</td>\n",
       "      <td>0.461372</td>\n",
       "    </tr>\n",
       "    <tr>\n",
       "      <td>2</td>\n",
       "      <td>h04.wav</td>\n",
       "      <td>3</td>\n",
       "      <td>happy</td>\n",
       "      <td>0.337713</td>\n",
       "      <td>0.199768</td>\n",
       "      <td>960.704483</td>\n",
       "      <td>1194.943258</td>\n",
       "      <td>1768.713379</td>\n",
       "      <td>0.020119</td>\n",
       "      <td>-283.00680</td>\n",
       "      <td>...</td>\n",
       "      <td>0.206731</td>\n",
       "      <td>0.241154</td>\n",
       "      <td>0.295855</td>\n",
       "      <td>0.345946</td>\n",
       "      <td>0.383043</td>\n",
       "      <td>0.354404</td>\n",
       "      <td>0.354393</td>\n",
       "      <td>0.401778</td>\n",
       "      <td>0.450322</td>\n",
       "      <td>0.436226</td>\n",
       "    </tr>\n",
       "    <tr>\n",
       "      <td>3</td>\n",
       "      <td>d15.wav</td>\n",
       "      <td>7</td>\n",
       "      <td>disgust</td>\n",
       "      <td>0.392497</td>\n",
       "      <td>0.094476</td>\n",
       "      <td>915.547283</td>\n",
       "      <td>1299.673530</td>\n",
       "      <td>1818.558757</td>\n",
       "      <td>0.011486</td>\n",
       "      <td>-402.85272</td>\n",
       "      <td>...</td>\n",
       "      <td>0.475527</td>\n",
       "      <td>0.512193</td>\n",
       "      <td>0.450575</td>\n",
       "      <td>0.375740</td>\n",
       "      <td>0.357397</td>\n",
       "      <td>0.337109</td>\n",
       "      <td>0.310256</td>\n",
       "      <td>0.309857</td>\n",
       "      <td>0.310629</td>\n",
       "      <td>0.341707</td>\n",
       "    </tr>\n",
       "    <tr>\n",
       "      <td>4</td>\n",
       "      <td>f15.wav</td>\n",
       "      <td>6</td>\n",
       "      <td>fearful</td>\n",
       "      <td>0.349216</td>\n",
       "      <td>0.180558</td>\n",
       "      <td>945.162458</td>\n",
       "      <td>1198.264363</td>\n",
       "      <td>1706.207275</td>\n",
       "      <td>0.014992</td>\n",
       "      <td>-317.88593</td>\n",
       "      <td>...</td>\n",
       "      <td>0.247705</td>\n",
       "      <td>0.278932</td>\n",
       "      <td>0.365006</td>\n",
       "      <td>0.551702</td>\n",
       "      <td>0.657871</td>\n",
       "      <td>0.574245</td>\n",
       "      <td>0.423041</td>\n",
       "      <td>0.272397</td>\n",
       "      <td>0.187965</td>\n",
       "      <td>0.183048</td>\n",
       "    </tr>\n",
       "  </tbody>\n",
       "</table>\n",
       "<p>5 rows × 61 columns</p>\n",
       "</div>"
      ],
      "text/plain": [
       "       name  label    emotion  chroma_stft_mean  rmse_mean  spec_cent_mean  \\\n",
       "0   a07.wav      5      angry          0.454161   0.219577      770.225570   \n",
       "1  su11.wav      8  surprised          0.538299   0.124430      825.633466   \n",
       "2   h04.wav      3      happy          0.337713   0.199768      960.704483   \n",
       "3   d15.wav      7    disgust          0.392497   0.094476      915.547283   \n",
       "4   f15.wav      6    fearful          0.349216   0.180558      945.162458   \n",
       "\n",
       "   spec_bw_mean  rolloff_mean  zcr_mean      mfcc1  ...   chroma3   chroma4  \\\n",
       "0   1245.288464   1289.599609  0.014129 -310.76282  ...  0.451283  0.532295   \n",
       "1   1250.196555   1387.058989  0.013365 -374.00827  ...  0.564124  0.609270   \n",
       "2   1194.943258   1768.713379  0.020119 -283.00680  ...  0.206731  0.241154   \n",
       "3   1299.673530   1818.558757  0.011486 -402.85272  ...  0.475527  0.512193   \n",
       "4   1198.264363   1706.207275  0.014992 -317.88593  ...  0.247705  0.278932   \n",
       "\n",
       "    chroma5   chroma6   chroma7   chroma8   chroma9  chroma10  chroma11  \\\n",
       "0  0.595957  0.585469  0.516790  0.472828  0.439147  0.379205  0.334979   \n",
       "1  0.538288  0.526328  0.543785  0.556579  0.567067  0.560961  0.510373   \n",
       "2  0.295855  0.345946  0.383043  0.354404  0.354393  0.401778  0.450322   \n",
       "3  0.450575  0.375740  0.357397  0.337109  0.310256  0.309857  0.310629   \n",
       "4  0.365006  0.551702  0.657871  0.574245  0.423041  0.272397  0.187965   \n",
       "\n",
       "   chroma12  \n",
       "0  0.369499  \n",
       "1  0.461372  \n",
       "2  0.436226  \n",
       "3  0.341707  \n",
       "4  0.183048  \n",
       "\n",
       "[5 rows x 61 columns]"
      ]
     },
     "execution_count": 13,
     "metadata": {},
     "output_type": "execute_result"
    }
   ],
   "source": [
    "file_sav_mfcc_40_chroma_def.head()"
   ]
  },
  {
   "cell_type": "code",
   "execution_count": 14,
   "metadata": {},
   "outputs": [],
   "source": [
    "file_rav_sav_mfcc_40_chroma_def=pd.read_csv('rav_sav.csv')"
   ]
  },
  {
   "cell_type": "code",
   "execution_count": 15,
   "metadata": {},
   "outputs": [
    {
     "data": {
      "text/plain": [
       "(1920, 61)"
      ]
     },
     "execution_count": 15,
     "metadata": {},
     "output_type": "execute_result"
    }
   ],
   "source": [
    "file_rav_sav_mfcc_40_chroma_def.shape"
   ]
  },
  {
   "cell_type": "code",
   "execution_count": 16,
   "metadata": {},
   "outputs": [
    {
     "data": {
      "text/html": [
       "<div>\n",
       "<style scoped>\n",
       "    .dataframe tbody tr th:only-of-type {\n",
       "        vertical-align: middle;\n",
       "    }\n",
       "\n",
       "    .dataframe tbody tr th {\n",
       "        vertical-align: top;\n",
       "    }\n",
       "\n",
       "    .dataframe thead th {\n",
       "        text-align: right;\n",
       "    }\n",
       "</style>\n",
       "<table border=\"1\" class=\"dataframe\">\n",
       "  <thead>\n",
       "    <tr style=\"text-align: right;\">\n",
       "      <th></th>\n",
       "      <th>name</th>\n",
       "      <th>label</th>\n",
       "      <th>emotion</th>\n",
       "      <th>chroma_stft_mean</th>\n",
       "      <th>rmse_mean</th>\n",
       "      <th>spec_cent_mean</th>\n",
       "      <th>spec_bw_mean</th>\n",
       "      <th>rolloff_mean</th>\n",
       "      <th>zcr_mean</th>\n",
       "      <th>mfcc1</th>\n",
       "      <th>...</th>\n",
       "      <th>chroma3</th>\n",
       "      <th>chroma4</th>\n",
       "      <th>chroma5</th>\n",
       "      <th>chroma6</th>\n",
       "      <th>chroma7</th>\n",
       "      <th>chroma8</th>\n",
       "      <th>chroma9</th>\n",
       "      <th>chroma10</th>\n",
       "      <th>chroma11</th>\n",
       "      <th>chroma12</th>\n",
       "    </tr>\n",
       "  </thead>\n",
       "  <tbody>\n",
       "    <tr>\n",
       "      <td>0</td>\n",
       "      <td>03-01-01-01-01-01-01.wav</td>\n",
       "      <td>1</td>\n",
       "      <td>neutral</td>\n",
       "      <td>0.598800</td>\n",
       "      <td>0.002257</td>\n",
       "      <td>3435.943088</td>\n",
       "      <td>2600.929791</td>\n",
       "      <td>6264.656291</td>\n",
       "      <td>0.326237</td>\n",
       "      <td>-697.984245</td>\n",
       "      <td>...</td>\n",
       "      <td>0.570387</td>\n",
       "      <td>0.562410</td>\n",
       "      <td>0.551299</td>\n",
       "      <td>0.531241</td>\n",
       "      <td>0.589565</td>\n",
       "      <td>0.640624</td>\n",
       "      <td>0.644353</td>\n",
       "      <td>0.608717</td>\n",
       "      <td>0.611980</td>\n",
       "      <td>0.606167</td>\n",
       "    </tr>\n",
       "    <tr>\n",
       "      <td>1</td>\n",
       "      <td>03-01-01-01-01-02-01.wav</td>\n",
       "      <td>1</td>\n",
       "      <td>neutral</td>\n",
       "      <td>0.578452</td>\n",
       "      <td>0.002420</td>\n",
       "      <td>3231.037280</td>\n",
       "      <td>2646.981271</td>\n",
       "      <td>6162.832642</td>\n",
       "      <td>0.340786</td>\n",
       "      <td>-693.069755</td>\n",
       "      <td>...</td>\n",
       "      <td>0.586752</td>\n",
       "      <td>0.530952</td>\n",
       "      <td>0.529118</td>\n",
       "      <td>0.552281</td>\n",
       "      <td>0.497320</td>\n",
       "      <td>0.549519</td>\n",
       "      <td>0.584854</td>\n",
       "      <td>0.633122</td>\n",
       "      <td>0.632074</td>\n",
       "      <td>0.617527</td>\n",
       "    </tr>\n",
       "    <tr>\n",
       "      <td>2</td>\n",
       "      <td>03-01-01-01-02-01-01.wav</td>\n",
       "      <td>1</td>\n",
       "      <td>neutral</td>\n",
       "      <td>0.587585</td>\n",
       "      <td>0.002810</td>\n",
       "      <td>3203.154528</td>\n",
       "      <td>2605.181241</td>\n",
       "      <td>6117.338659</td>\n",
       "      <td>0.356861</td>\n",
       "      <td>-691.770194</td>\n",
       "      <td>...</td>\n",
       "      <td>0.579290</td>\n",
       "      <td>0.590824</td>\n",
       "      <td>0.573292</td>\n",
       "      <td>0.528130</td>\n",
       "      <td>0.516716</td>\n",
       "      <td>0.578961</td>\n",
       "      <td>0.639646</td>\n",
       "      <td>0.640274</td>\n",
       "      <td>0.563098</td>\n",
       "      <td>0.562465</td>\n",
       "    </tr>\n",
       "    <tr>\n",
       "      <td>3</td>\n",
       "      <td>03-01-01-01-02-02-01.wav</td>\n",
       "      <td>1</td>\n",
       "      <td>neutral</td>\n",
       "      <td>0.573247</td>\n",
       "      <td>0.002618</td>\n",
       "      <td>3080.483081</td>\n",
       "      <td>2644.191743</td>\n",
       "      <td>6094.210838</td>\n",
       "      <td>0.366200</td>\n",
       "      <td>-685.237871</td>\n",
       "      <td>...</td>\n",
       "      <td>0.518804</td>\n",
       "      <td>0.521994</td>\n",
       "      <td>0.584694</td>\n",
       "      <td>0.590593</td>\n",
       "      <td>0.537656</td>\n",
       "      <td>0.589734</td>\n",
       "      <td>0.611182</td>\n",
       "      <td>0.560056</td>\n",
       "      <td>0.568192</td>\n",
       "      <td>0.592452</td>\n",
       "    </tr>\n",
       "    <tr>\n",
       "      <td>4</td>\n",
       "      <td>03-01-02-01-01-01-01.wav</td>\n",
       "      <td>2</td>\n",
       "      <td>calm</td>\n",
       "      <td>0.561084</td>\n",
       "      <td>0.001654</td>\n",
       "      <td>3192.620354</td>\n",
       "      <td>2601.322629</td>\n",
       "      <td>6003.471105</td>\n",
       "      <td>0.313122</td>\n",
       "      <td>-727.317945</td>\n",
       "      <td>...</td>\n",
       "      <td>0.586327</td>\n",
       "      <td>0.547133</td>\n",
       "      <td>0.522434</td>\n",
       "      <td>0.539025</td>\n",
       "      <td>0.501785</td>\n",
       "      <td>0.554183</td>\n",
       "      <td>0.575118</td>\n",
       "      <td>0.618561</td>\n",
       "      <td>0.654716</td>\n",
       "      <td>0.552219</td>\n",
       "    </tr>\n",
       "  </tbody>\n",
       "</table>\n",
       "<p>5 rows × 61 columns</p>\n",
       "</div>"
      ],
      "text/plain": [
       "                       name  label  emotion  chroma_stft_mean  rmse_mean  \\\n",
       "0  03-01-01-01-01-01-01.wav      1  neutral          0.598800   0.002257   \n",
       "1  03-01-01-01-01-02-01.wav      1  neutral          0.578452   0.002420   \n",
       "2  03-01-01-01-02-01-01.wav      1  neutral          0.587585   0.002810   \n",
       "3  03-01-01-01-02-02-01.wav      1  neutral          0.573247   0.002618   \n",
       "4  03-01-02-01-01-01-01.wav      2     calm          0.561084   0.001654   \n",
       "\n",
       "   spec_cent_mean  spec_bw_mean  rolloff_mean  zcr_mean       mfcc1  ...  \\\n",
       "0     3435.943088   2600.929791   6264.656291  0.326237 -697.984245  ...   \n",
       "1     3231.037280   2646.981271   6162.832642  0.340786 -693.069755  ...   \n",
       "2     3203.154528   2605.181241   6117.338659  0.356861 -691.770194  ...   \n",
       "3     3080.483081   2644.191743   6094.210838  0.366200 -685.237871  ...   \n",
       "4     3192.620354   2601.322629   6003.471105  0.313122 -727.317945  ...   \n",
       "\n",
       "    chroma3   chroma4   chroma5   chroma6   chroma7   chroma8   chroma9  \\\n",
       "0  0.570387  0.562410  0.551299  0.531241  0.589565  0.640624  0.644353   \n",
       "1  0.586752  0.530952  0.529118  0.552281  0.497320  0.549519  0.584854   \n",
       "2  0.579290  0.590824  0.573292  0.528130  0.516716  0.578961  0.639646   \n",
       "3  0.518804  0.521994  0.584694  0.590593  0.537656  0.589734  0.611182   \n",
       "4  0.586327  0.547133  0.522434  0.539025  0.501785  0.554183  0.575118   \n",
       "\n",
       "   chroma10  chroma11  chroma12  \n",
       "0  0.608717  0.611980  0.606167  \n",
       "1  0.633122  0.632074  0.617527  \n",
       "2  0.640274  0.563098  0.562465  \n",
       "3  0.560056  0.568192  0.592452  \n",
       "4  0.618561  0.654716  0.552219  \n",
       "\n",
       "[5 rows x 61 columns]"
      ]
     },
     "execution_count": 16,
     "metadata": {},
     "output_type": "execute_result"
    }
   ],
   "source": [
    "file_rav_sav_mfcc_40_chroma_def.head()"
   ]
  },
  {
   "cell_type": "markdown",
   "metadata": {},
   "source": [
    "# RAVDESS & SAVVEE DATASET"
   ]
  },
  {
   "cell_type": "code",
   "execution_count": 17,
   "metadata": {},
   "outputs": [],
   "source": [
    "# file with mfcc 40 features and chroma 12.\n",
    "data=file_rav_sav_mfcc_40_chroma_def"
   ]
  },
  {
   "cell_type": "code",
   "execution_count": 18,
   "metadata": {},
   "outputs": [
    {
     "data": {
      "text/plain": [
       "(1920, 61)"
      ]
     },
     "execution_count": 18,
     "metadata": {},
     "output_type": "execute_result"
    }
   ],
   "source": [
    "data.shape"
   ]
  },
  {
   "cell_type": "code",
   "execution_count": 19,
   "metadata": {},
   "outputs": [
    {
     "data": {
      "text/html": [
       "<div>\n",
       "<style scoped>\n",
       "    .dataframe tbody tr th:only-of-type {\n",
       "        vertical-align: middle;\n",
       "    }\n",
       "\n",
       "    .dataframe tbody tr th {\n",
       "        vertical-align: top;\n",
       "    }\n",
       "\n",
       "    .dataframe thead th {\n",
       "        text-align: right;\n",
       "    }\n",
       "</style>\n",
       "<table border=\"1\" class=\"dataframe\">\n",
       "  <thead>\n",
       "    <tr style=\"text-align: right;\">\n",
       "      <th></th>\n",
       "      <th>name</th>\n",
       "      <th>label</th>\n",
       "      <th>emotion</th>\n",
       "      <th>chroma_stft_mean</th>\n",
       "      <th>rmse_mean</th>\n",
       "      <th>spec_cent_mean</th>\n",
       "      <th>spec_bw_mean</th>\n",
       "      <th>rolloff_mean</th>\n",
       "      <th>zcr_mean</th>\n",
       "      <th>mfcc1</th>\n",
       "      <th>...</th>\n",
       "      <th>chroma3</th>\n",
       "      <th>chroma4</th>\n",
       "      <th>chroma5</th>\n",
       "      <th>chroma6</th>\n",
       "      <th>chroma7</th>\n",
       "      <th>chroma8</th>\n",
       "      <th>chroma9</th>\n",
       "      <th>chroma10</th>\n",
       "      <th>chroma11</th>\n",
       "      <th>chroma12</th>\n",
       "    </tr>\n",
       "  </thead>\n",
       "  <tbody>\n",
       "    <tr>\n",
       "      <td>0</td>\n",
       "      <td>03-01-01-01-01-01-01.wav</td>\n",
       "      <td>1</td>\n",
       "      <td>neutral</td>\n",
       "      <td>0.598800</td>\n",
       "      <td>0.002257</td>\n",
       "      <td>3435.943088</td>\n",
       "      <td>2600.929791</td>\n",
       "      <td>6264.656291</td>\n",
       "      <td>0.326237</td>\n",
       "      <td>-697.984245</td>\n",
       "      <td>...</td>\n",
       "      <td>0.570387</td>\n",
       "      <td>0.562410</td>\n",
       "      <td>0.551299</td>\n",
       "      <td>0.531241</td>\n",
       "      <td>0.589565</td>\n",
       "      <td>0.640624</td>\n",
       "      <td>0.644353</td>\n",
       "      <td>0.608717</td>\n",
       "      <td>0.611980</td>\n",
       "      <td>0.606167</td>\n",
       "    </tr>\n",
       "    <tr>\n",
       "      <td>1</td>\n",
       "      <td>03-01-01-01-01-02-01.wav</td>\n",
       "      <td>1</td>\n",
       "      <td>neutral</td>\n",
       "      <td>0.578452</td>\n",
       "      <td>0.002420</td>\n",
       "      <td>3231.037280</td>\n",
       "      <td>2646.981271</td>\n",
       "      <td>6162.832642</td>\n",
       "      <td>0.340786</td>\n",
       "      <td>-693.069755</td>\n",
       "      <td>...</td>\n",
       "      <td>0.586752</td>\n",
       "      <td>0.530952</td>\n",
       "      <td>0.529118</td>\n",
       "      <td>0.552281</td>\n",
       "      <td>0.497320</td>\n",
       "      <td>0.549519</td>\n",
       "      <td>0.584854</td>\n",
       "      <td>0.633122</td>\n",
       "      <td>0.632074</td>\n",
       "      <td>0.617527</td>\n",
       "    </tr>\n",
       "    <tr>\n",
       "      <td>2</td>\n",
       "      <td>03-01-01-01-02-01-01.wav</td>\n",
       "      <td>1</td>\n",
       "      <td>neutral</td>\n",
       "      <td>0.587585</td>\n",
       "      <td>0.002810</td>\n",
       "      <td>3203.154528</td>\n",
       "      <td>2605.181241</td>\n",
       "      <td>6117.338659</td>\n",
       "      <td>0.356861</td>\n",
       "      <td>-691.770194</td>\n",
       "      <td>...</td>\n",
       "      <td>0.579290</td>\n",
       "      <td>0.590824</td>\n",
       "      <td>0.573292</td>\n",
       "      <td>0.528130</td>\n",
       "      <td>0.516716</td>\n",
       "      <td>0.578961</td>\n",
       "      <td>0.639646</td>\n",
       "      <td>0.640274</td>\n",
       "      <td>0.563098</td>\n",
       "      <td>0.562465</td>\n",
       "    </tr>\n",
       "    <tr>\n",
       "      <td>3</td>\n",
       "      <td>03-01-01-01-02-02-01.wav</td>\n",
       "      <td>1</td>\n",
       "      <td>neutral</td>\n",
       "      <td>0.573247</td>\n",
       "      <td>0.002618</td>\n",
       "      <td>3080.483081</td>\n",
       "      <td>2644.191743</td>\n",
       "      <td>6094.210838</td>\n",
       "      <td>0.366200</td>\n",
       "      <td>-685.237871</td>\n",
       "      <td>...</td>\n",
       "      <td>0.518804</td>\n",
       "      <td>0.521994</td>\n",
       "      <td>0.584694</td>\n",
       "      <td>0.590593</td>\n",
       "      <td>0.537656</td>\n",
       "      <td>0.589734</td>\n",
       "      <td>0.611182</td>\n",
       "      <td>0.560056</td>\n",
       "      <td>0.568192</td>\n",
       "      <td>0.592452</td>\n",
       "    </tr>\n",
       "    <tr>\n",
       "      <td>4</td>\n",
       "      <td>03-01-02-01-01-01-01.wav</td>\n",
       "      <td>2</td>\n",
       "      <td>calm</td>\n",
       "      <td>0.561084</td>\n",
       "      <td>0.001654</td>\n",
       "      <td>3192.620354</td>\n",
       "      <td>2601.322629</td>\n",
       "      <td>6003.471105</td>\n",
       "      <td>0.313122</td>\n",
       "      <td>-727.317945</td>\n",
       "      <td>...</td>\n",
       "      <td>0.586327</td>\n",
       "      <td>0.547133</td>\n",
       "      <td>0.522434</td>\n",
       "      <td>0.539025</td>\n",
       "      <td>0.501785</td>\n",
       "      <td>0.554183</td>\n",
       "      <td>0.575118</td>\n",
       "      <td>0.618561</td>\n",
       "      <td>0.654716</td>\n",
       "      <td>0.552219</td>\n",
       "    </tr>\n",
       "  </tbody>\n",
       "</table>\n",
       "<p>5 rows × 61 columns</p>\n",
       "</div>"
      ],
      "text/plain": [
       "                       name  label  emotion  chroma_stft_mean  rmse_mean  \\\n",
       "0  03-01-01-01-01-01-01.wav      1  neutral          0.598800   0.002257   \n",
       "1  03-01-01-01-01-02-01.wav      1  neutral          0.578452   0.002420   \n",
       "2  03-01-01-01-02-01-01.wav      1  neutral          0.587585   0.002810   \n",
       "3  03-01-01-01-02-02-01.wav      1  neutral          0.573247   0.002618   \n",
       "4  03-01-02-01-01-01-01.wav      2     calm          0.561084   0.001654   \n",
       "\n",
       "   spec_cent_mean  spec_bw_mean  rolloff_mean  zcr_mean       mfcc1  ...  \\\n",
       "0     3435.943088   2600.929791   6264.656291  0.326237 -697.984245  ...   \n",
       "1     3231.037280   2646.981271   6162.832642  0.340786 -693.069755  ...   \n",
       "2     3203.154528   2605.181241   6117.338659  0.356861 -691.770194  ...   \n",
       "3     3080.483081   2644.191743   6094.210838  0.366200 -685.237871  ...   \n",
       "4     3192.620354   2601.322629   6003.471105  0.313122 -727.317945  ...   \n",
       "\n",
       "    chroma3   chroma4   chroma5   chroma6   chroma7   chroma8   chroma9  \\\n",
       "0  0.570387  0.562410  0.551299  0.531241  0.589565  0.640624  0.644353   \n",
       "1  0.586752  0.530952  0.529118  0.552281  0.497320  0.549519  0.584854   \n",
       "2  0.579290  0.590824  0.573292  0.528130  0.516716  0.578961  0.639646   \n",
       "3  0.518804  0.521994  0.584694  0.590593  0.537656  0.589734  0.611182   \n",
       "4  0.586327  0.547133  0.522434  0.539025  0.501785  0.554183  0.575118   \n",
       "\n",
       "   chroma10  chroma11  chroma12  \n",
       "0  0.608717  0.611980  0.606167  \n",
       "1  0.633122  0.632074  0.617527  \n",
       "2  0.640274  0.563098  0.562465  \n",
       "3  0.560056  0.568192  0.592452  \n",
       "4  0.618561  0.654716  0.552219  \n",
       "\n",
       "[5 rows x 61 columns]"
      ]
     },
     "execution_count": 19,
     "metadata": {},
     "output_type": "execute_result"
    }
   ],
   "source": [
    "data.head()"
   ]
  },
  {
   "cell_type": "markdown",
   "metadata": {},
   "source": [
    "# Data-Copy"
   ]
  },
  {
   "cell_type": "code",
   "execution_count": 20,
   "metadata": {},
   "outputs": [],
   "source": [
    "data_copy=data.copy()"
   ]
  },
  {
   "cell_type": "code",
   "execution_count": 21,
   "metadata": {},
   "outputs": [
    {
     "data": {
      "text/plain": [
       "(1920, 61)"
      ]
     },
     "execution_count": 21,
     "metadata": {},
     "output_type": "execute_result"
    }
   ],
   "source": [
    "data_copy.shape"
   ]
  },
  {
   "cell_type": "markdown",
   "metadata": {},
   "source": [
    "# Splitting into X and Y"
   ]
  },
  {
   "cell_type": "code",
   "execution_count": 22,
   "metadata": {},
   "outputs": [],
   "source": [
    "X=data_copy.drop('name label emotion chroma_stft_mean'.split(),axis=1)"
   ]
  },
  {
   "cell_type": "code",
   "execution_count": 23,
   "metadata": {},
   "outputs": [
    {
     "data": {
      "text/plain": [
       "(1920, 57)"
      ]
     },
     "execution_count": 23,
     "metadata": {},
     "output_type": "execute_result"
    }
   ],
   "source": [
    "X.shape"
   ]
  },
  {
   "cell_type": "code",
   "execution_count": 24,
   "metadata": {},
   "outputs": [
    {
     "data": {
      "text/html": [
       "<div>\n",
       "<style scoped>\n",
       "    .dataframe tbody tr th:only-of-type {\n",
       "        vertical-align: middle;\n",
       "    }\n",
       "\n",
       "    .dataframe tbody tr th {\n",
       "        vertical-align: top;\n",
       "    }\n",
       "\n",
       "    .dataframe thead th {\n",
       "        text-align: right;\n",
       "    }\n",
       "</style>\n",
       "<table border=\"1\" class=\"dataframe\">\n",
       "  <thead>\n",
       "    <tr style=\"text-align: right;\">\n",
       "      <th></th>\n",
       "      <th>rmse_mean</th>\n",
       "      <th>spec_cent_mean</th>\n",
       "      <th>spec_bw_mean</th>\n",
       "      <th>rolloff_mean</th>\n",
       "      <th>zcr_mean</th>\n",
       "      <th>mfcc1</th>\n",
       "      <th>mfcc2</th>\n",
       "      <th>mfcc3</th>\n",
       "      <th>mfcc4</th>\n",
       "      <th>mfcc5</th>\n",
       "      <th>...</th>\n",
       "      <th>chroma3</th>\n",
       "      <th>chroma4</th>\n",
       "      <th>chroma5</th>\n",
       "      <th>chroma6</th>\n",
       "      <th>chroma7</th>\n",
       "      <th>chroma8</th>\n",
       "      <th>chroma9</th>\n",
       "      <th>chroma10</th>\n",
       "      <th>chroma11</th>\n",
       "      <th>chroma12</th>\n",
       "    </tr>\n",
       "  </thead>\n",
       "  <tbody>\n",
       "    <tr>\n",
       "      <td>0</td>\n",
       "      <td>0.002257</td>\n",
       "      <td>3435.943088</td>\n",
       "      <td>2600.929791</td>\n",
       "      <td>6264.656291</td>\n",
       "      <td>0.326237</td>\n",
       "      <td>-697.984245</td>\n",
       "      <td>55.228483</td>\n",
       "      <td>0.323863</td>\n",
       "      <td>12.775377</td>\n",
       "      <td>7.396147</td>\n",
       "      <td>...</td>\n",
       "      <td>0.570387</td>\n",
       "      <td>0.562410</td>\n",
       "      <td>0.551299</td>\n",
       "      <td>0.531241</td>\n",
       "      <td>0.589565</td>\n",
       "      <td>0.640624</td>\n",
       "      <td>0.644353</td>\n",
       "      <td>0.608717</td>\n",
       "      <td>0.611980</td>\n",
       "      <td>0.606167</td>\n",
       "    </tr>\n",
       "    <tr>\n",
       "      <td>1</td>\n",
       "      <td>0.002420</td>\n",
       "      <td>3231.037280</td>\n",
       "      <td>2646.981271</td>\n",
       "      <td>6162.832642</td>\n",
       "      <td>0.340786</td>\n",
       "      <td>-693.069755</td>\n",
       "      <td>55.734569</td>\n",
       "      <td>-1.919739</td>\n",
       "      <td>16.408997</td>\n",
       "      <td>8.449357</td>\n",
       "      <td>...</td>\n",
       "      <td>0.586752</td>\n",
       "      <td>0.530952</td>\n",
       "      <td>0.529118</td>\n",
       "      <td>0.552281</td>\n",
       "      <td>0.497320</td>\n",
       "      <td>0.549519</td>\n",
       "      <td>0.584854</td>\n",
       "      <td>0.633122</td>\n",
       "      <td>0.632074</td>\n",
       "      <td>0.617527</td>\n",
       "    </tr>\n",
       "    <tr>\n",
       "      <td>2</td>\n",
       "      <td>0.002810</td>\n",
       "      <td>3203.154528</td>\n",
       "      <td>2605.181241</td>\n",
       "      <td>6117.338659</td>\n",
       "      <td>0.356861</td>\n",
       "      <td>-691.770194</td>\n",
       "      <td>58.350647</td>\n",
       "      <td>-0.165160</td>\n",
       "      <td>13.952124</td>\n",
       "      <td>5.053322</td>\n",
       "      <td>...</td>\n",
       "      <td>0.579290</td>\n",
       "      <td>0.590824</td>\n",
       "      <td>0.573292</td>\n",
       "      <td>0.528130</td>\n",
       "      <td>0.516716</td>\n",
       "      <td>0.578961</td>\n",
       "      <td>0.639646</td>\n",
       "      <td>0.640274</td>\n",
       "      <td>0.563098</td>\n",
       "      <td>0.562465</td>\n",
       "    </tr>\n",
       "    <tr>\n",
       "      <td>3</td>\n",
       "      <td>0.002618</td>\n",
       "      <td>3080.483081</td>\n",
       "      <td>2644.191743</td>\n",
       "      <td>6094.210838</td>\n",
       "      <td>0.366200</td>\n",
       "      <td>-685.237871</td>\n",
       "      <td>56.236698</td>\n",
       "      <td>2.453112</td>\n",
       "      <td>13.566656</td>\n",
       "      <td>6.701948</td>\n",
       "      <td>...</td>\n",
       "      <td>0.518804</td>\n",
       "      <td>0.521994</td>\n",
       "      <td>0.584694</td>\n",
       "      <td>0.590593</td>\n",
       "      <td>0.537656</td>\n",
       "      <td>0.589734</td>\n",
       "      <td>0.611182</td>\n",
       "      <td>0.560056</td>\n",
       "      <td>0.568192</td>\n",
       "      <td>0.592452</td>\n",
       "    </tr>\n",
       "    <tr>\n",
       "      <td>4</td>\n",
       "      <td>0.001654</td>\n",
       "      <td>3192.620354</td>\n",
       "      <td>2601.322629</td>\n",
       "      <td>6003.471105</td>\n",
       "      <td>0.313122</td>\n",
       "      <td>-727.317945</td>\n",
       "      <td>62.764397</td>\n",
       "      <td>2.751275</td>\n",
       "      <td>15.473257</td>\n",
       "      <td>7.763116</td>\n",
       "      <td>...</td>\n",
       "      <td>0.586327</td>\n",
       "      <td>0.547133</td>\n",
       "      <td>0.522434</td>\n",
       "      <td>0.539025</td>\n",
       "      <td>0.501785</td>\n",
       "      <td>0.554183</td>\n",
       "      <td>0.575118</td>\n",
       "      <td>0.618561</td>\n",
       "      <td>0.654716</td>\n",
       "      <td>0.552219</td>\n",
       "    </tr>\n",
       "  </tbody>\n",
       "</table>\n",
       "<p>5 rows × 57 columns</p>\n",
       "</div>"
      ],
      "text/plain": [
       "   rmse_mean  spec_cent_mean  spec_bw_mean  rolloff_mean  zcr_mean  \\\n",
       "0   0.002257     3435.943088   2600.929791   6264.656291  0.326237   \n",
       "1   0.002420     3231.037280   2646.981271   6162.832642  0.340786   \n",
       "2   0.002810     3203.154528   2605.181241   6117.338659  0.356861   \n",
       "3   0.002618     3080.483081   2644.191743   6094.210838  0.366200   \n",
       "4   0.001654     3192.620354   2601.322629   6003.471105  0.313122   \n",
       "\n",
       "        mfcc1      mfcc2     mfcc3      mfcc4     mfcc5  ...   chroma3  \\\n",
       "0 -697.984245  55.228483  0.323863  12.775377  7.396147  ...  0.570387   \n",
       "1 -693.069755  55.734569 -1.919739  16.408997  8.449357  ...  0.586752   \n",
       "2 -691.770194  58.350647 -0.165160  13.952124  5.053322  ...  0.579290   \n",
       "3 -685.237871  56.236698  2.453112  13.566656  6.701948  ...  0.518804   \n",
       "4 -727.317945  62.764397  2.751275  15.473257  7.763116  ...  0.586327   \n",
       "\n",
       "    chroma4   chroma5   chroma6   chroma7   chroma8   chroma9  chroma10  \\\n",
       "0  0.562410  0.551299  0.531241  0.589565  0.640624  0.644353  0.608717   \n",
       "1  0.530952  0.529118  0.552281  0.497320  0.549519  0.584854  0.633122   \n",
       "2  0.590824  0.573292  0.528130  0.516716  0.578961  0.639646  0.640274   \n",
       "3  0.521994  0.584694  0.590593  0.537656  0.589734  0.611182  0.560056   \n",
       "4  0.547133  0.522434  0.539025  0.501785  0.554183  0.575118  0.618561   \n",
       "\n",
       "   chroma11  chroma12  \n",
       "0  0.611980  0.606167  \n",
       "1  0.632074  0.617527  \n",
       "2  0.563098  0.562465  \n",
       "3  0.568192  0.592452  \n",
       "4  0.654716  0.552219  \n",
       "\n",
       "[5 rows x 57 columns]"
      ]
     },
     "execution_count": 24,
     "metadata": {},
     "output_type": "execute_result"
    }
   ],
   "source": [
    "X.head()"
   ]
  },
  {
   "cell_type": "code",
   "execution_count": 25,
   "metadata": {},
   "outputs": [],
   "source": [
    "Y=data['label']"
   ]
  },
  {
   "cell_type": "code",
   "execution_count": 26,
   "metadata": {},
   "outputs": [
    {
     "data": {
      "text/plain": [
       "(1920,)"
      ]
     },
     "execution_count": 26,
     "metadata": {},
     "output_type": "execute_result"
    }
   ],
   "source": [
    "Y.shape"
   ]
  },
  {
   "cell_type": "code",
   "execution_count": 27,
   "metadata": {},
   "outputs": [
    {
     "data": {
      "text/plain": [
       "0       1\n",
       "1       1\n",
       "2       1\n",
       "3       1\n",
       "4       2\n",
       "       ..\n",
       "1915    7\n",
       "1916    1\n",
       "1917    8\n",
       "1918    8\n",
       "1919    3\n",
       "Name: label, Length: 1920, dtype: int64"
      ]
     },
     "execution_count": 27,
     "metadata": {},
     "output_type": "execute_result"
    }
   ],
   "source": [
    "Y"
   ]
  },
  {
   "cell_type": "code",
   "execution_count": null,
   "metadata": {},
   "outputs": [],
   "source": []
  },
  {
   "cell_type": "code",
   "execution_count": null,
   "metadata": {},
   "outputs": [],
   "source": []
  },
  {
   "cell_type": "markdown",
   "metadata": {},
   "source": [
    "# Train-Test-Split"
   ]
  },
  {
   "cell_type": "code",
   "execution_count": null,
   "metadata": {},
   "outputs": [],
   "source": []
  },
  {
   "cell_type": "code",
   "execution_count": 28,
   "metadata": {},
   "outputs": [],
   "source": [
    "X_train,X_test,Y_train,Y_test=train_test_split(X,Y,random_state=2,test_size=0.20)"
   ]
  },
  {
   "cell_type": "code",
   "execution_count": 29,
   "metadata": {},
   "outputs": [
    {
     "name": "stdout",
     "output_type": "stream",
     "text": [
      "(1536, 57)\n",
      "(384, 57)\n",
      "(1536,)\n",
      "(384,)\n"
     ]
    }
   ],
   "source": [
    "print(X_train.shape)\n",
    "print(X_test.shape)\n",
    "print(Y_train.shape)\n",
    "print(Y_test.shape)"
   ]
  },
  {
   "cell_type": "markdown",
   "metadata": {},
   "source": [
    "# Standarization"
   ]
  },
  {
   "cell_type": "code",
   "execution_count": 30,
   "metadata": {},
   "outputs": [],
   "source": [
    "scaler=StandardScaler()"
   ]
  },
  {
   "cell_type": "code",
   "execution_count": 31,
   "metadata": {},
   "outputs": [],
   "source": [
    "X_scaled_train=scaler.fit_transform(X_train)"
   ]
  },
  {
   "cell_type": "code",
   "execution_count": 32,
   "metadata": {},
   "outputs": [],
   "source": [
    "X_scaled_test=scaler.transform(X_test)"
   ]
  },
  {
   "cell_type": "markdown",
   "metadata": {},
   "source": [
    "# Logistic Regression"
   ]
  },
  {
   "cell_type": "code",
   "execution_count": 33,
   "metadata": {},
   "outputs": [],
   "source": [
    "logistic=LogisticRegression()"
   ]
  },
  {
   "cell_type": "code",
   "execution_count": 34,
   "metadata": {},
   "outputs": [
    {
     "name": "stderr",
     "output_type": "stream",
     "text": [
      "/home/akansh/anaconda3/lib/python3.7/site-packages/sklearn/linear_model/logistic.py:432: FutureWarning: Default solver will be changed to 'lbfgs' in 0.22. Specify a solver to silence this warning.\n",
      "  FutureWarning)\n",
      "/home/akansh/anaconda3/lib/python3.7/site-packages/sklearn/linear_model/logistic.py:469: FutureWarning: Default multi_class will be changed to 'auto' in 0.22. Specify the multi_class option to silence this warning.\n",
      "  \"this warning.\", FutureWarning)\n"
     ]
    },
    {
     "data": {
      "text/plain": [
       "LogisticRegression(C=1.0, class_weight=None, dual=False, fit_intercept=True,\n",
       "                   intercept_scaling=1, l1_ratio=None, max_iter=100,\n",
       "                   multi_class='warn', n_jobs=None, penalty='l2',\n",
       "                   random_state=None, solver='warn', tol=0.0001, verbose=0,\n",
       "                   warm_start=False)"
      ]
     },
     "execution_count": 34,
     "metadata": {},
     "output_type": "execute_result"
    }
   ],
   "source": [
    "logistic.fit(X_scaled_train,Y_train)"
   ]
  },
  {
   "cell_type": "code",
   "execution_count": 35,
   "metadata": {},
   "outputs": [],
   "source": [
    "Y_pred=logistic.predict(X_scaled_test)"
   ]
  },
  {
   "cell_type": "code",
   "execution_count": 36,
   "metadata": {},
   "outputs": [
    {
     "name": "stdout",
     "output_type": "stream",
     "text": [
      "Logistic Regression Test Accuracy 44.01%\n"
     ]
    }
   ],
   "source": [
    "print(\"Logistic Regression Test Accuracy {:.2f}%\".format(logistic.score(X_scaled_test, Y_test)*100))"
   ]
  },
  {
   "cell_type": "markdown",
   "metadata": {},
   "source": [
    "# Random Forest"
   ]
  },
  {
   "cell_type": "code",
   "execution_count": 37,
   "metadata": {},
   "outputs": [],
   "source": [
    "forest = RandomForestClassifier(criterion= 'entropy', n_estimators= 800, max_depth= 20, min_samples_split= 5, random_state=101)"
   ]
  },
  {
   "cell_type": "code",
   "execution_count": 38,
   "metadata": {},
   "outputs": [
    {
     "data": {
      "text/plain": [
       "RandomForestClassifier(bootstrap=True, class_weight=None, criterion='entropy',\n",
       "                       max_depth=20, max_features='auto', max_leaf_nodes=None,\n",
       "                       min_impurity_decrease=0.0, min_impurity_split=None,\n",
       "                       min_samples_leaf=1, min_samples_split=5,\n",
       "                       min_weight_fraction_leaf=0.0, n_estimators=800,\n",
       "                       n_jobs=None, oob_score=False, random_state=101,\n",
       "                       verbose=0, warm_start=False)"
      ]
     },
     "execution_count": 38,
     "metadata": {},
     "output_type": "execute_result"
    }
   ],
   "source": [
    "forest.fit(X_scaled_train, Y_train)"
   ]
  },
  {
   "cell_type": "code",
   "execution_count": 39,
   "metadata": {},
   "outputs": [],
   "source": [
    "forest_pred = forest.predict(X_scaled_test)"
   ]
  },
  {
   "cell_type": "code",
   "execution_count": 40,
   "metadata": {},
   "outputs": [
    {
     "name": "stdout",
     "output_type": "stream",
     "text": [
      "Random Forest Test Accuracy 60.68%\n"
     ]
    }
   ],
   "source": [
    "print(\"Random Forest Test Accuracy {:.2f}%\".format(forest.score(X_scaled_test, Y_test)*100))"
   ]
  },
  {
   "cell_type": "markdown",
   "metadata": {},
   "source": [
    "# MLP Classifier"
   ]
  },
  {
   "cell_type": "code",
   "execution_count": 254,
   "metadata": {},
   "outputs": [],
   "source": [
    "model=MLPClassifier(alpha=0.01, batch_size=16, epsilon=1e-08, hidden_layer_sizes=(500,), learning_rate='constant', max_iter=1000,random_state=3)"
   ]
  },
  {
   "cell_type": "code",
   "execution_count": 255,
   "metadata": {},
   "outputs": [
    {
     "data": {
      "text/plain": [
       "MLPClassifier(activation='relu', alpha=0.01, batch_size=16, beta_1=0.9,\n",
       "              beta_2=0.999, early_stopping=False, epsilon=1e-08,\n",
       "              hidden_layer_sizes=(500,), learning_rate='constant',\n",
       "              learning_rate_init=0.001, max_iter=1000, momentum=0.9,\n",
       "              n_iter_no_change=10, nesterovs_momentum=True, power_t=0.5,\n",
       "              random_state=3, shuffle=True, solver='adam', tol=0.0001,\n",
       "              validation_fraction=0.1, verbose=False, warm_start=False)"
      ]
     },
     "execution_count": 255,
     "metadata": {},
     "output_type": "execute_result"
    }
   ],
   "source": [
    "model.fit(X_scaled_train,Y_train)"
   ]
  },
  {
   "cell_type": "code",
   "execution_count": 256,
   "metadata": {},
   "outputs": [],
   "source": [
    "Y_pred=model.predict(X_scaled_test)"
   ]
  },
  {
   "cell_type": "code",
   "execution_count": 257,
   "metadata": {},
   "outputs": [],
   "source": [
    "accuracy=accuracy_score(y_true=Y_test,y_pred=Y_pred)"
   ]
  },
  {
   "cell_type": "code",
   "execution_count": 258,
   "metadata": {},
   "outputs": [
    {
     "data": {
      "text/plain": [
       "0.6822916666666666"
      ]
     },
     "execution_count": 258,
     "metadata": {},
     "output_type": "execute_result"
    }
   ],
   "source": [
    "accuracy"
   ]
  },
  {
   "cell_type": "markdown",
   "metadata": {},
   "source": [
    "# CNN"
   ]
  },
  {
   "cell_type": "code",
   "execution_count": 46,
   "metadata": {},
   "outputs": [
    {
     "data": {
      "text/plain": [
       "array([0, 0, 0, ..., 7, 7, 2])"
      ]
     },
     "execution_count": 46,
     "metadata": {},
     "output_type": "execute_result"
    }
   ],
   "source": [
    "#tried the encoder of sklearn and compared with manual encoding. results had no huge difference.\n",
    "encoder = LabelEncoder()\n",
    "Y =  encoder.fit_transform(Y)\n",
    "Y"
   ]
  },
  {
   "cell_type": "code",
   "execution_count": 47,
   "metadata": {},
   "outputs": [],
   "source": [
    "X_cnn=data_copy.drop('name label emotion chroma_stft_mean rmse_mean spec_cent_mean spec_bw_mean rolloff_mean zcr_mean chroma1 chroma2 chroma3 chroma4 chroma5 chroma6 chroma7 chroma8 chroma9 chroma10 chroma11 chroma12'.split(),axis=1)"
   ]
  },
  {
   "cell_type": "code",
   "execution_count": 48,
   "metadata": {},
   "outputs": [
    {
     "data": {
      "text/plain": [
       "(1920, 40)"
      ]
     },
     "execution_count": 48,
     "metadata": {},
     "output_type": "execute_result"
    }
   ],
   "source": [
    "X_cnn.shape"
   ]
  },
  {
   "cell_type": "code",
   "execution_count": 49,
   "metadata": {},
   "outputs": [
    {
     "data": {
      "text/plain": [
       "(1920,)"
      ]
     },
     "execution_count": 49,
     "metadata": {},
     "output_type": "execute_result"
    }
   ],
   "source": [
    "Y.shape"
   ]
  },
  {
   "cell_type": "code",
   "execution_count": null,
   "metadata": {},
   "outputs": [],
   "source": []
  },
  {
   "cell_type": "code",
   "execution_count": 50,
   "metadata": {},
   "outputs": [],
   "source": [
    "X_train_cnn,X_test_cnn,Y_train_cnn,Y_test_cnn=train_test_split(X_cnn,Y,random_state=1,stratify=Y,test_size=0.20)"
   ]
  },
  {
   "cell_type": "code",
   "execution_count": 51,
   "metadata": {},
   "outputs": [],
   "source": [
    "scaler=StandardScaler()"
   ]
  },
  {
   "cell_type": "code",
   "execution_count": 52,
   "metadata": {},
   "outputs": [],
   "source": [
    "X_scaled_train_cnn=scaler.fit_transform(X_train_cnn)"
   ]
  },
  {
   "cell_type": "code",
   "execution_count": 53,
   "metadata": {},
   "outputs": [],
   "source": [
    "X_scaled_test_cnn=scaler.transform(X_test_cnn)"
   ]
  },
  {
   "cell_type": "code",
   "execution_count": 54,
   "metadata": {},
   "outputs": [],
   "source": [
    "X_expanded_scaled_train_cnn = np.expand_dims(X_scaled_train_cnn, axis=2)\n",
    "X_expanded_scaled_test_cnn = np.expand_dims(X_scaled_test_cnn, axis=2)"
   ]
  },
  {
   "cell_type": "code",
   "execution_count": 55,
   "metadata": {},
   "outputs": [
    {
     "data": {
      "text/plain": [
       "((1536, 40, 1), (384, 40, 1))"
      ]
     },
     "execution_count": 55,
     "metadata": {},
     "output_type": "execute_result"
    }
   ],
   "source": [
    "X_expanded_scaled_train_cnn.shape, X_expanded_scaled_test_cnn.shape"
   ]
  },
  {
   "cell_type": "code",
   "execution_count": 260,
   "metadata": {},
   "outputs": [],
   "source": [
    "import keras\n",
    "import numpy as np\n",
    "import matplotlib.pyplot as plt\n",
    "import tensorflow as tf\n",
    "from keras.preprocessing import sequence\n",
    "from keras.models import Sequential\n",
    "from keras.layers import Dense, Embedding\n",
    "from keras.utils import to_categorical\n",
    "from keras.layers import Input, Flatten, Dropout, Activation\n",
    "from keras.layers import Conv1D, MaxPooling1D\n",
    "from keras.models import Model\n",
    "from keras.callbacks import ModelCheckpoint\n",
    "\n",
    "model = Sequential()\n",
    "\n",
    "model.add(Conv1D(128, 8,padding='same',\n",
    "                 input_shape=(40,1)))\n",
    "model.add(Activation('relu'))\n",
    "model.add(MaxPooling1D(pool_size=(5)))\n",
    "model.add(Conv1D(256, 8,padding='same',))\n",
    "model.add(Activation('relu'))\n",
    "model.add(MaxPooling1D(pool_size=(5)))\n",
    "model.add(Flatten())\n",
    "model.add(Dense(256))\n",
    "model.add(Activation('relu'))\n",
    "model.add(Dense(256))\n",
    "model.add(Activation('relu'))\n",
    "model.add(Dropout(0.3))\n",
    "model.add(Dense(8))\n",
    "model.add(Activation('softmax'))\n",
    "opt = keras.optimizers.rmsprop(lr=0.0001, rho=0.9, decay=0.0)"
   ]
  },
  {
   "cell_type": "code",
   "execution_count": 261,
   "metadata": {},
   "outputs": [],
   "source": [
    "model.compile(loss='sparse_categorical_crossentropy',\n",
    "              optimizer=opt,\n",
    "              metrics=['accuracy'])"
   ]
  },
  {
   "cell_type": "code",
   "execution_count": 262,
   "metadata": {
    "scrolled": true
   },
   "outputs": [
    {
     "name": "stdout",
     "output_type": "stream",
     "text": [
      "Train on 1536 samples, validate on 384 samples\n",
      "Epoch 1/200\n",
      "1536/1536 [==============================] - 2s 1ms/step - loss: 2.0309 - accuracy: 0.2070 - val_loss: 1.9920 - val_accuracy: 0.2188\n",
      "Epoch 2/200\n",
      "1536/1536 [==============================] - 1s 957us/step - loss: 1.9389 - accuracy: 0.2376 - val_loss: 1.9336 - val_accuracy: 0.2214\n",
      "Epoch 3/200\n",
      "1536/1536 [==============================] - 2s 988us/step - loss: 1.8769 - accuracy: 0.2604 - val_loss: 1.8766 - val_accuracy: 0.2526\n",
      "Epoch 4/200\n",
      "1536/1536 [==============================] - 1s 969us/step - loss: 1.8223 - accuracy: 0.2891 - val_loss: 1.8240 - val_accuracy: 0.2708\n",
      "Epoch 5/200\n",
      "1536/1536 [==============================] - 1s 959us/step - loss: 1.7691 - accuracy: 0.3203 - val_loss: 1.7888 - val_accuracy: 0.3307\n",
      "Epoch 6/200\n",
      "1536/1536 [==============================] - 1s 961us/step - loss: 1.7385 - accuracy: 0.3340 - val_loss: 1.7541 - val_accuracy: 0.3411\n",
      "Epoch 7/200\n",
      "1536/1536 [==============================] - 2s 1ms/step - loss: 1.7014 - accuracy: 0.3483 - val_loss: 1.7150 - val_accuracy: 0.3385\n",
      "Epoch 8/200\n",
      "1536/1536 [==============================] - 2s 1ms/step - loss: 1.6726 - accuracy: 0.3561 - val_loss: 1.7013 - val_accuracy: 0.3620\n",
      "Epoch 9/200\n",
      "1536/1536 [==============================] - 2s 1ms/step - loss: 1.6373 - accuracy: 0.3737 - val_loss: 1.6742 - val_accuracy: 0.3724\n",
      "Epoch 10/200\n",
      "1536/1536 [==============================] - 2s 1ms/step - loss: 1.6166 - accuracy: 0.3841 - val_loss: 1.6504 - val_accuracy: 0.3880\n",
      "Epoch 11/200\n",
      "1536/1536 [==============================] - 2s 1ms/step - loss: 1.5768 - accuracy: 0.4076 - val_loss: 1.6426 - val_accuracy: 0.3750\n",
      "Epoch 12/200\n",
      "1536/1536 [==============================] - 2s 1ms/step - loss: 1.5519 - accuracy: 0.4102 - val_loss: 1.6294 - val_accuracy: 0.4115\n",
      "Epoch 13/200\n",
      "1536/1536 [==============================] - 2s 1ms/step - loss: 1.5112 - accuracy: 0.4375 - val_loss: 1.5930 - val_accuracy: 0.4271\n",
      "Epoch 14/200\n",
      "1536/1536 [==============================] - 2s 1ms/step - loss: 1.4922 - accuracy: 0.4512 - val_loss: 1.5746 - val_accuracy: 0.4141\n",
      "Epoch 15/200\n",
      "1536/1536 [==============================] - 2s 1ms/step - loss: 1.4648 - accuracy: 0.4512 - val_loss: 1.5600 - val_accuracy: 0.4609\n",
      "Epoch 16/200\n",
      "1536/1536 [==============================] - 2s 1ms/step - loss: 1.4235 - accuracy: 0.4785 - val_loss: 1.5532 - val_accuracy: 0.4062\n",
      "Epoch 17/200\n",
      "1536/1536 [==============================] - 2s 1ms/step - loss: 1.3791 - accuracy: 0.4915 - val_loss: 1.5135 - val_accuracy: 0.4375\n",
      "Epoch 18/200\n",
      "1536/1536 [==============================] - 2s 1ms/step - loss: 1.3702 - accuracy: 0.4941 - val_loss: 1.4922 - val_accuracy: 0.4792\n",
      "Epoch 19/200\n",
      "1536/1536 [==============================] - 2s 1ms/step - loss: 1.3060 - accuracy: 0.5436 - val_loss: 1.4877 - val_accuracy: 0.4661\n",
      "Epoch 20/200\n",
      "1536/1536 [==============================] - 2s 1ms/step - loss: 1.2695 - accuracy: 0.5293 - val_loss: 1.5218 - val_accuracy: 0.4167\n",
      "Epoch 21/200\n",
      "1536/1536 [==============================] - 2s 1ms/step - loss: 1.2481 - accuracy: 0.5566 - val_loss: 1.4573 - val_accuracy: 0.4479\n",
      "Epoch 22/200\n",
      "1536/1536 [==============================] - 2s 1ms/step - loss: 1.1946 - accuracy: 0.5840 - val_loss: 1.4421 - val_accuracy: 0.4740\n",
      "Epoch 23/200\n",
      "1536/1536 [==============================] - 2s 1ms/step - loss: 1.1610 - accuracy: 0.5905 - val_loss: 1.4368 - val_accuracy: 0.4844\n",
      "Epoch 24/200\n",
      "1536/1536 [==============================] - 2s 1ms/step - loss: 1.1189 - accuracy: 0.6016 - val_loss: 1.4337 - val_accuracy: 0.4740\n",
      "Epoch 25/200\n",
      "1536/1536 [==============================] - 2s 1ms/step - loss: 1.0942 - accuracy: 0.6230 - val_loss: 1.4094 - val_accuracy: 0.4766\n",
      "Epoch 26/200\n",
      "1536/1536 [==============================] - 2s 1ms/step - loss: 1.0615 - accuracy: 0.6400 - val_loss: 1.4144 - val_accuracy: 0.4922\n",
      "Epoch 27/200\n",
      "1536/1536 [==============================] - 2s 1ms/step - loss: 1.0254 - accuracy: 0.6458 - val_loss: 1.3621 - val_accuracy: 0.5156\n",
      "Epoch 28/200\n",
      "1536/1536 [==============================] - 2s 1ms/step - loss: 0.9876 - accuracy: 0.6647 - val_loss: 1.3566 - val_accuracy: 0.5182\n",
      "Epoch 29/200\n",
      "1536/1536 [==============================] - 2s 1ms/step - loss: 0.9402 - accuracy: 0.6790 - val_loss: 1.3918 - val_accuracy: 0.5104\n",
      "Epoch 30/200\n",
      "1536/1536 [==============================] - 2s 1ms/step - loss: 0.9200 - accuracy: 0.6927 - val_loss: 1.3850 - val_accuracy: 0.5026\n",
      "Epoch 31/200\n",
      "1536/1536 [==============================] - 2s 1ms/step - loss: 0.9053 - accuracy: 0.6888 - val_loss: 1.2959 - val_accuracy: 0.5312\n",
      "Epoch 32/200\n",
      "1536/1536 [==============================] - 2s 1ms/step - loss: 0.8584 - accuracy: 0.7129 - val_loss: 1.3628 - val_accuracy: 0.4922\n",
      "Epoch 33/200\n",
      "1536/1536 [==============================] - 2s 1ms/step - loss: 0.8112 - accuracy: 0.7337 - val_loss: 1.3528 - val_accuracy: 0.5156\n",
      "Epoch 34/200\n",
      "1536/1536 [==============================] - 2s 1ms/step - loss: 0.7857 - accuracy: 0.7350 - val_loss: 1.2759 - val_accuracy: 0.5547\n",
      "Epoch 35/200\n",
      "1536/1536 [==============================] - 2s 1ms/step - loss: 0.7476 - accuracy: 0.7552 - val_loss: 1.3114 - val_accuracy: 0.5286\n",
      "Epoch 36/200\n",
      "1536/1536 [==============================] - 2s 1ms/step - loss: 0.7207 - accuracy: 0.7624 - val_loss: 1.3131 - val_accuracy: 0.5443\n",
      "Epoch 37/200\n",
      "1536/1536 [==============================] - 2s 1ms/step - loss: 0.7071 - accuracy: 0.7682 - val_loss: 1.3023 - val_accuracy: 0.5469\n",
      "Epoch 38/200\n",
      "1536/1536 [==============================] - 2s 1ms/step - loss: 0.6724 - accuracy: 0.7650 - val_loss: 1.2890 - val_accuracy: 0.5208\n",
      "Epoch 39/200\n",
      "1536/1536 [==============================] - 2s 1ms/step - loss: 0.6560 - accuracy: 0.7878 - val_loss: 1.2941 - val_accuracy: 0.5547\n",
      "Epoch 40/200\n",
      "1536/1536 [==============================] - 2s 1ms/step - loss: 0.6109 - accuracy: 0.8125 - val_loss: 1.2690 - val_accuracy: 0.5547\n",
      "Epoch 41/200\n",
      "1536/1536 [==============================] - 2s 1ms/step - loss: 0.5892 - accuracy: 0.8138 - val_loss: 1.2834 - val_accuracy: 0.5391\n",
      "Epoch 42/200\n",
      "1536/1536 [==============================] - 2s 1ms/step - loss: 0.5637 - accuracy: 0.8346 - val_loss: 1.3727 - val_accuracy: 0.5312\n",
      "Epoch 43/200\n",
      "1536/1536 [==============================] - 2s 1ms/step - loss: 0.5287 - accuracy: 0.8418 - val_loss: 1.3427 - val_accuracy: 0.5339\n",
      "Epoch 44/200\n",
      "1536/1536 [==============================] - 2s 1ms/step - loss: 0.5184 - accuracy: 0.8431 - val_loss: 1.2747 - val_accuracy: 0.5651\n",
      "Epoch 45/200\n",
      "1536/1536 [==============================] - 2s 1ms/step - loss: 0.4891 - accuracy: 0.8548 - val_loss: 1.3660 - val_accuracy: 0.5182\n",
      "Epoch 46/200\n",
      "1536/1536 [==============================] - 2s 1ms/step - loss: 0.4744 - accuracy: 0.8464 - val_loss: 1.3850 - val_accuracy: 0.5521\n",
      "Epoch 47/200\n",
      "1536/1536 [==============================] - 2s 1ms/step - loss: 0.4443 - accuracy: 0.8717 - val_loss: 1.3294 - val_accuracy: 0.5339\n",
      "Epoch 48/200\n",
      "1536/1536 [==============================] - 2s 1ms/step - loss: 0.4223 - accuracy: 0.8776 - val_loss: 1.3502 - val_accuracy: 0.5312\n",
      "Epoch 49/200\n",
      "1536/1536 [==============================] - 2s 1ms/step - loss: 0.4078 - accuracy: 0.8763 - val_loss: 1.3412 - val_accuracy: 0.5495\n",
      "Epoch 50/200\n",
      "1536/1536 [==============================] - 2s 1ms/step - loss: 0.3748 - accuracy: 0.8932 - val_loss: 1.3291 - val_accuracy: 0.5469\n",
      "Epoch 51/200\n",
      "1536/1536 [==============================] - 2s 1ms/step - loss: 0.3768 - accuracy: 0.8958 - val_loss: 1.5111 - val_accuracy: 0.5521\n",
      "Epoch 52/200\n",
      "1536/1536 [==============================] - 2s 1ms/step - loss: 0.3611 - accuracy: 0.8952 - val_loss: 1.3723 - val_accuracy: 0.5182\n",
      "Epoch 53/200\n",
      "1536/1536 [==============================] - 2s 1ms/step - loss: 0.3213 - accuracy: 0.9089 - val_loss: 1.3699 - val_accuracy: 0.5677\n",
      "Epoch 54/200\n",
      "1536/1536 [==============================] - 2s 1ms/step - loss: 0.3021 - accuracy: 0.9245 - val_loss: 1.2888 - val_accuracy: 0.5807\n",
      "Epoch 55/200\n",
      "1536/1536 [==============================] - 2s 1ms/step - loss: 0.2905 - accuracy: 0.9199 - val_loss: 1.4308 - val_accuracy: 0.5573\n",
      "Epoch 56/200\n",
      "1536/1536 [==============================] - 2s 1ms/step - loss: 0.2703 - accuracy: 0.9355 - val_loss: 1.4364 - val_accuracy: 0.5703\n"
     ]
    },
    {
     "name": "stdout",
     "output_type": "stream",
     "text": [
      "Epoch 57/200\n",
      "1536/1536 [==============================] - 1s 975us/step - loss: 0.2670 - accuracy: 0.9290 - val_loss: 1.5008 - val_accuracy: 0.5807\n",
      "Epoch 58/200\n",
      "1536/1536 [==============================] - 2s 982us/step - loss: 0.2493 - accuracy: 0.9336 - val_loss: 1.3568 - val_accuracy: 0.5781\n",
      "Epoch 59/200\n",
      "1536/1536 [==============================] - 1s 966us/step - loss: 0.2315 - accuracy: 0.9355 - val_loss: 1.4119 - val_accuracy: 0.5781\n",
      "Epoch 60/200\n",
      "1536/1536 [==============================] - 1s 934us/step - loss: 0.2349 - accuracy: 0.9342 - val_loss: 1.3842 - val_accuracy: 0.5990\n",
      "Epoch 61/200\n",
      "1536/1536 [==============================] - 2s 1ms/step - loss: 0.2095 - accuracy: 0.9460 - val_loss: 1.4338 - val_accuracy: 0.6016\n",
      "Epoch 62/200\n",
      "1536/1536 [==============================] - 2s 1ms/step - loss: 0.1980 - accuracy: 0.9577 - val_loss: 1.5560 - val_accuracy: 0.5339\n",
      "Epoch 63/200\n",
      "1536/1536 [==============================] - 2s 1ms/step - loss: 0.1873 - accuracy: 0.9505 - val_loss: 1.4853 - val_accuracy: 0.5599\n",
      "Epoch 64/200\n",
      "1536/1536 [==============================] - 2s 1ms/step - loss: 0.1775 - accuracy: 0.9609 - val_loss: 1.5285 - val_accuracy: 0.6068\n",
      "Epoch 65/200\n",
      "1536/1536 [==============================] - 2s 1ms/step - loss: 0.1746 - accuracy: 0.9538 - val_loss: 1.4039 - val_accuracy: 0.5964\n",
      "Epoch 66/200\n",
      "1536/1536 [==============================] - 2s 1ms/step - loss: 0.1594 - accuracy: 0.9603 - val_loss: 1.4309 - val_accuracy: 0.5911\n",
      "Epoch 67/200\n",
      "1536/1536 [==============================] - 2s 1ms/step - loss: 0.1397 - accuracy: 0.9701 - val_loss: 1.5101 - val_accuracy: 0.6120\n",
      "Epoch 68/200\n",
      "1536/1536 [==============================] - 2s 1ms/step - loss: 0.1380 - accuracy: 0.9674 - val_loss: 1.5415 - val_accuracy: 0.5599\n",
      "Epoch 69/200\n",
      "1536/1536 [==============================] - 2s 1ms/step - loss: 0.1238 - accuracy: 0.9727 - val_loss: 1.8563 - val_accuracy: 0.5052\n",
      "Epoch 70/200\n",
      "1536/1536 [==============================] - 2s 981us/step - loss: 0.1283 - accuracy: 0.9688 - val_loss: 1.5311 - val_accuracy: 0.5807\n",
      "Epoch 71/200\n",
      "1536/1536 [==============================] - 1s 974us/step - loss: 0.1182 - accuracy: 0.9753 - val_loss: 1.4676 - val_accuracy: 0.6172\n",
      "Epoch 72/200\n",
      "1536/1536 [==============================] - 2s 1ms/step - loss: 0.1098 - accuracy: 0.9714 - val_loss: 1.6729 - val_accuracy: 0.5755\n",
      "Epoch 73/200\n",
      "1536/1536 [==============================] - 2s 987us/step - loss: 0.1039 - accuracy: 0.9779 - val_loss: 1.6563 - val_accuracy: 0.6146\n",
      "Epoch 74/200\n",
      "1536/1536 [==============================] - 2s 990us/step - loss: 0.1132 - accuracy: 0.9707 - val_loss: 1.4724 - val_accuracy: 0.6146\n",
      "Epoch 75/200\n",
      "1536/1536 [==============================] - 2s 984us/step - loss: 0.0864 - accuracy: 0.9850 - val_loss: 1.5234 - val_accuracy: 0.6250\n",
      "Epoch 76/200\n",
      "1536/1536 [==============================] - 2s 982us/step - loss: 0.0905 - accuracy: 0.9818 - val_loss: 1.5299 - val_accuracy: 0.6406\n",
      "Epoch 77/200\n",
      "1536/1536 [==============================] - 1s 974us/step - loss: 0.0730 - accuracy: 0.9876 - val_loss: 1.5609 - val_accuracy: 0.6198\n",
      "Epoch 78/200\n",
      "1536/1536 [==============================] - 2s 992us/step - loss: 0.0776 - accuracy: 0.9811 - val_loss: 1.5872 - val_accuracy: 0.6120\n",
      "Epoch 79/200\n",
      "1536/1536 [==============================] - 2s 983us/step - loss: 0.0759 - accuracy: 0.9883 - val_loss: 1.6460 - val_accuracy: 0.6094\n",
      "Epoch 80/200\n",
      "1536/1536 [==============================] - 1s 976us/step - loss: 0.0745 - accuracy: 0.9870 - val_loss: 1.6438 - val_accuracy: 0.5833\n",
      "Epoch 81/200\n",
      "1536/1536 [==============================] - 2s 997us/step - loss: 0.0754 - accuracy: 0.9844 - val_loss: 1.5447 - val_accuracy: 0.6146\n",
      "Epoch 82/200\n",
      "1536/1536 [==============================] - 2s 983us/step - loss: 0.0668 - accuracy: 0.9902 - val_loss: 1.6542 - val_accuracy: 0.6224\n",
      "Epoch 83/200\n",
      "1536/1536 [==============================] - 2s 997us/step - loss: 0.0612 - accuracy: 0.9883 - val_loss: 1.7465 - val_accuracy: 0.6146\n",
      "Epoch 84/200\n",
      "1536/1536 [==============================] - 2s 998us/step - loss: 0.0543 - accuracy: 0.9883 - val_loss: 1.6724 - val_accuracy: 0.6042\n",
      "Epoch 85/200\n",
      "1536/1536 [==============================] - 1s 975us/step - loss: 0.0497 - accuracy: 0.9889 - val_loss: 1.8770 - val_accuracy: 0.6094\n",
      "Epoch 86/200\n",
      "1536/1536 [==============================] - 2s 990us/step - loss: 0.0530 - accuracy: 0.9889 - val_loss: 1.6968 - val_accuracy: 0.6250\n",
      "Epoch 87/200\n",
      "1536/1536 [==============================] - 2s 993us/step - loss: 0.0585 - accuracy: 0.9850 - val_loss: 1.7687 - val_accuracy: 0.6354\n",
      "Epoch 88/200\n",
      "1536/1536 [==============================] - 2s 988us/step - loss: 0.0506 - accuracy: 0.9876 - val_loss: 2.2078 - val_accuracy: 0.5729\n",
      "Epoch 89/200\n",
      "1536/1536 [==============================] - 2s 994us/step - loss: 0.0418 - accuracy: 0.9889 - val_loss: 1.7058 - val_accuracy: 0.6302\n",
      "Epoch 90/200\n",
      "1536/1536 [==============================] - 2s 987us/step - loss: 0.0458 - accuracy: 0.9896 - val_loss: 1.7818 - val_accuracy: 0.6172\n",
      "Epoch 91/200\n",
      "1536/1536 [==============================] - 2s 990us/step - loss: 0.0469 - accuracy: 0.9909 - val_loss: 1.7787 - val_accuracy: 0.6198\n",
      "Epoch 92/200\n",
      "1536/1536 [==============================] - 2s 986us/step - loss: 0.0375 - accuracy: 0.9935 - val_loss: 2.2528 - val_accuracy: 0.5729\n",
      "Epoch 93/200\n",
      "1536/1536 [==============================] - 2s 991us/step - loss: 0.0404 - accuracy: 0.9941 - val_loss: 1.8769 - val_accuracy: 0.5964\n",
      "Epoch 94/200\n",
      "1536/1536 [==============================] - 2s 1ms/step - loss: 0.0305 - accuracy: 0.9941 - val_loss: 1.9374 - val_accuracy: 0.6146\n",
      "Epoch 95/200\n",
      "1536/1536 [==============================] - 2s 979us/step - loss: 0.0489 - accuracy: 0.9863 - val_loss: 1.7794 - val_accuracy: 0.6276\n",
      "Epoch 96/200\n",
      "1536/1536 [==============================] - 2s 1ms/step - loss: 0.0459 - accuracy: 0.9870 - val_loss: 1.7486 - val_accuracy: 0.6354\n",
      "Epoch 97/200\n",
      "1536/1536 [==============================] - 2s 1ms/step - loss: 0.0284 - accuracy: 0.9954 - val_loss: 1.8620 - val_accuracy: 0.6068\n",
      "Epoch 98/200\n",
      "1536/1536 [==============================] - 2s 996us/step - loss: 0.0242 - accuracy: 0.9935 - val_loss: 2.2217 - val_accuracy: 0.5677\n",
      "Epoch 99/200\n",
      "1536/1536 [==============================] - 2s 1ms/step - loss: 0.0247 - accuracy: 0.9948 - val_loss: 1.9708 - val_accuracy: 0.6120\n",
      "Epoch 100/200\n",
      "1536/1536 [==============================] - 2s 989us/step - loss: 0.0303 - accuracy: 0.9909 - val_loss: 1.8579 - val_accuracy: 0.6380\n",
      "Epoch 101/200\n",
      "1536/1536 [==============================] - 2s 1ms/step - loss: 0.0282 - accuracy: 0.9922 - val_loss: 1.9118 - val_accuracy: 0.6172\n",
      "Epoch 102/200\n",
      "1536/1536 [==============================] - 2s 1ms/step - loss: 0.0350 - accuracy: 0.9922 - val_loss: 2.3115 - val_accuracy: 0.5755\n",
      "Epoch 103/200\n",
      "1536/1536 [==============================] - 2s 1ms/step - loss: 0.0319 - accuracy: 0.9935 - val_loss: 1.9094 - val_accuracy: 0.6406\n",
      "Epoch 104/200\n",
      "1536/1536 [==============================] - 2s 1ms/step - loss: 0.0225 - accuracy: 0.9928 - val_loss: 1.9874 - val_accuracy: 0.6172\n",
      "Epoch 105/200\n",
      "1536/1536 [==============================] - 2s 1ms/step - loss: 0.0223 - accuracy: 0.9948 - val_loss: 2.1281 - val_accuracy: 0.6146\n",
      "Epoch 106/200\n",
      "1536/1536 [==============================] - 2s 1ms/step - loss: 0.0334 - accuracy: 0.9928 - val_loss: 1.9474 - val_accuracy: 0.6328\n",
      "Epoch 107/200\n",
      "1536/1536 [==============================] - 2s 1ms/step - loss: 0.0187 - accuracy: 0.9974 - val_loss: 1.9699 - val_accuracy: 0.6484\n",
      "Epoch 108/200\n",
      "1536/1536 [==============================] - 2s 995us/step - loss: 0.0297 - accuracy: 0.9928 - val_loss: 1.9718 - val_accuracy: 0.6484\n",
      "Epoch 109/200\n",
      "1536/1536 [==============================] - 2s 1ms/step - loss: 0.0230 - accuracy: 0.9935 - val_loss: 2.1373 - val_accuracy: 0.5729\n",
      "Epoch 110/200\n",
      "1536/1536 [==============================] - 2s 1ms/step - loss: 0.0336 - accuracy: 0.9902 - val_loss: 1.9786 - val_accuracy: 0.6224\n",
      "Epoch 111/200\n",
      "1536/1536 [==============================] - 2s 1ms/step - loss: 0.0188 - accuracy: 0.9961 - val_loss: 2.0471 - val_accuracy: 0.6276\n",
      "Epoch 112/200\n"
     ]
    },
    {
     "name": "stdout",
     "output_type": "stream",
     "text": [
      "1536/1536 [==============================] - 1s 940us/step - loss: 0.0252 - accuracy: 0.9948 - val_loss: 2.0946 - val_accuracy: 0.6432\n",
      "Epoch 113/200\n",
      "1536/1536 [==============================] - 1s 924us/step - loss: 0.0224 - accuracy: 0.9941 - val_loss: 2.2186 - val_accuracy: 0.6146\n",
      "Epoch 114/200\n",
      "1536/1536 [==============================] - 1s 934us/step - loss: 0.0205 - accuracy: 0.9935 - val_loss: 2.1998 - val_accuracy: 0.6302\n",
      "Epoch 115/200\n",
      "1536/1536 [==============================] - 1s 930us/step - loss: 0.0232 - accuracy: 0.9935 - val_loss: 2.0856 - val_accuracy: 0.6354\n",
      "Epoch 116/200\n",
      "1536/1536 [==============================] - 1s 927us/step - loss: 0.0187 - accuracy: 0.9941 - val_loss: 2.0818 - val_accuracy: 0.6120\n",
      "Epoch 117/200\n",
      "1536/1536 [==============================] - 1s 936us/step - loss: 0.0244 - accuracy: 0.9935 - val_loss: 2.0545 - val_accuracy: 0.6380\n",
      "Epoch 118/200\n",
      "1536/1536 [==============================] - 1s 933us/step - loss: 0.0189 - accuracy: 0.9948 - val_loss: 2.4361 - val_accuracy: 0.5807\n",
      "Epoch 119/200\n",
      "1536/1536 [==============================] - 1s 925us/step - loss: 0.0210 - accuracy: 0.9954 - val_loss: 2.1250 - val_accuracy: 0.6276\n",
      "Epoch 120/200\n",
      "1536/1536 [==============================] - 1s 930us/step - loss: 0.0112 - accuracy: 0.9974 - val_loss: 2.3202 - val_accuracy: 0.5911\n",
      "Epoch 121/200\n",
      "1536/1536 [==============================] - 1s 935us/step - loss: 0.0160 - accuracy: 0.9954 - val_loss: 2.3796 - val_accuracy: 0.5755\n",
      "Epoch 122/200\n",
      "1536/1536 [==============================] - 1s 931us/step - loss: 0.0192 - accuracy: 0.9941 - val_loss: 2.3753 - val_accuracy: 0.6250\n",
      "Epoch 123/200\n",
      "1536/1536 [==============================] - 1s 932us/step - loss: 0.0288 - accuracy: 0.9902 - val_loss: 2.1829 - val_accuracy: 0.6380\n",
      "Epoch 124/200\n",
      "1536/1536 [==============================] - 1s 942us/step - loss: 0.0103 - accuracy: 0.9980 - val_loss: 2.3269 - val_accuracy: 0.6146\n",
      "Epoch 125/200\n",
      "1536/1536 [==============================] - 1s 944us/step - loss: 0.0207 - accuracy: 0.9948 - val_loss: 2.3756 - val_accuracy: 0.5990\n",
      "Epoch 126/200\n",
      "1536/1536 [==============================] - 2s 1ms/step - loss: 0.0148 - accuracy: 0.9961 - val_loss: 2.4406 - val_accuracy: 0.5885\n",
      "Epoch 127/200\n",
      "1536/1536 [==============================] - 1s 946us/step - loss: 0.0236 - accuracy: 0.9915 - val_loss: 2.2438 - val_accuracy: 0.6328\n",
      "Epoch 128/200\n",
      "1536/1536 [==============================] - 2s 980us/step - loss: 0.0231 - accuracy: 0.9967 - val_loss: 2.3969 - val_accuracy: 0.6198\n",
      "Epoch 129/200\n",
      "1536/1536 [==============================] - 1s 934us/step - loss: 0.0099 - accuracy: 0.9974 - val_loss: 2.5802 - val_accuracy: 0.6120\n",
      "Epoch 130/200\n",
      "1536/1536 [==============================] - 1s 942us/step - loss: 0.0260 - accuracy: 0.9928 - val_loss: 2.4242 - val_accuracy: 0.6328\n",
      "Epoch 131/200\n",
      "1536/1536 [==============================] - 1s 944us/step - loss: 0.0088 - accuracy: 0.9987 - val_loss: 2.8459 - val_accuracy: 0.5677\n",
      "Epoch 132/200\n",
      "1536/1536 [==============================] - 1s 932us/step - loss: 0.0142 - accuracy: 0.9967 - val_loss: 2.2407 - val_accuracy: 0.6354\n",
      "Epoch 133/200\n",
      "1536/1536 [==============================] - 1s 932us/step - loss: 0.0169 - accuracy: 0.9948 - val_loss: 2.4205 - val_accuracy: 0.6224\n",
      "Epoch 134/200\n",
      "1536/1536 [==============================] - 1s 940us/step - loss: 0.0227 - accuracy: 0.9954 - val_loss: 2.4056 - val_accuracy: 0.6146\n",
      "Epoch 135/200\n",
      "1536/1536 [==============================] - 1s 935us/step - loss: 0.0133 - accuracy: 0.9948 - val_loss: 2.3492 - val_accuracy: 0.6328\n",
      "Epoch 136/200\n",
      "1536/1536 [==============================] - 1s 939us/step - loss: 0.0083 - accuracy: 0.9980 - val_loss: 2.3659 - val_accuracy: 0.6406\n",
      "Epoch 137/200\n",
      "1536/1536 [==============================] - 1s 934us/step - loss: 0.0093 - accuracy: 0.9967 - val_loss: 2.3427 - val_accuracy: 0.6406\n",
      "Epoch 138/200\n",
      "1536/1536 [==============================] - 1s 940us/step - loss: 0.0269 - accuracy: 0.9928 - val_loss: 2.3616 - val_accuracy: 0.6354\n",
      "Epoch 139/200\n",
      "1536/1536 [==============================] - 1s 936us/step - loss: 0.0095 - accuracy: 0.9987 - val_loss: 2.4072 - val_accuracy: 0.6302\n",
      "Epoch 140/200\n",
      "1536/1536 [==============================] - 1s 934us/step - loss: 0.0275 - accuracy: 0.9915 - val_loss: 2.5238 - val_accuracy: 0.5964\n",
      "Epoch 141/200\n",
      "1536/1536 [==============================] - 1s 950us/step - loss: 0.0229 - accuracy: 0.9948 - val_loss: 2.6936 - val_accuracy: 0.6068\n",
      "Epoch 142/200\n",
      "1536/1536 [==============================] - 1s 954us/step - loss: 0.0045 - accuracy: 0.9993 - val_loss: 2.6537 - val_accuracy: 0.6146\n",
      "Epoch 143/200\n",
      "1536/1536 [==============================] - 1s 971us/step - loss: 0.0255 - accuracy: 0.9928 - val_loss: 2.3491 - val_accuracy: 0.6536\n",
      "Epoch 144/200\n",
      "1536/1536 [==============================] - 1s 930us/step - loss: 0.0089 - accuracy: 0.9974 - val_loss: 2.3996 - val_accuracy: 0.6432\n",
      "Epoch 145/200\n",
      "1536/1536 [==============================] - 1s 936us/step - loss: 0.0087 - accuracy: 0.9987 - val_loss: 2.3831 - val_accuracy: 0.6510\n",
      "Epoch 146/200\n",
      "1536/1536 [==============================] - 1s 932us/step - loss: 0.0086 - accuracy: 0.9987 - val_loss: 2.4434 - val_accuracy: 0.6641\n",
      "Epoch 147/200\n",
      "1536/1536 [==============================] - 1s 952us/step - loss: 0.0196 - accuracy: 0.9948 - val_loss: 2.4554 - val_accuracy: 0.6484\n",
      "Epoch 148/200\n",
      "1536/1536 [==============================] - 1s 938us/step - loss: 0.0083 - accuracy: 0.9987 - val_loss: 2.5867 - val_accuracy: 0.6120\n",
      "Epoch 149/200\n",
      "1536/1536 [==============================] - 1s 951us/step - loss: 0.0061 - accuracy: 0.9974 - val_loss: 2.4678 - val_accuracy: 0.6354\n",
      "Epoch 150/200\n",
      "1536/1536 [==============================] - 1s 956us/step - loss: 0.0053 - accuracy: 0.9980 - val_loss: 2.6085 - val_accuracy: 0.6302\n",
      "Epoch 151/200\n",
      "1536/1536 [==============================] - 1s 938us/step - loss: 0.0229 - accuracy: 0.9935 - val_loss: 3.0519 - val_accuracy: 0.5990\n",
      "Epoch 152/200\n",
      "1536/1536 [==============================] - 1s 945us/step - loss: 0.0076 - accuracy: 0.9980 - val_loss: 2.4901 - val_accuracy: 0.6589\n",
      "Epoch 153/200\n",
      "1536/1536 [==============================] - 1s 955us/step - loss: 0.0037 - accuracy: 0.9993 - val_loss: 2.5270 - val_accuracy: 0.6589\n",
      "Epoch 154/200\n",
      "1536/1536 [==============================] - 1s 958us/step - loss: 0.0196 - accuracy: 0.9948 - val_loss: 2.5334 - val_accuracy: 0.6406\n",
      "Epoch 155/200\n",
      "1536/1536 [==============================] - 1s 939us/step - loss: 0.0113 - accuracy: 0.9954 - val_loss: 2.4877 - val_accuracy: 0.6406\n",
      "Epoch 156/200\n",
      "1536/1536 [==============================] - 1s 951us/step - loss: 0.0094 - accuracy: 0.9974 - val_loss: 2.5745 - val_accuracy: 0.6328\n",
      "Epoch 157/200\n",
      "1536/1536 [==============================] - 1s 937us/step - loss: 0.0150 - accuracy: 0.9935 - val_loss: 2.7178 - val_accuracy: 0.6198\n",
      "Epoch 158/200\n",
      "1536/1536 [==============================] - 2s 986us/step - loss: 0.0146 - accuracy: 0.9961 - val_loss: 2.9429 - val_accuracy: 0.5625\n",
      "Epoch 159/200\n",
      "1536/1536 [==============================] - 1s 942us/step - loss: 0.0140 - accuracy: 0.9961 - val_loss: 2.6410 - val_accuracy: 0.6380\n",
      "Epoch 160/200\n",
      "1536/1536 [==============================] - 1s 945us/step - loss: 0.0051 - accuracy: 0.9980 - val_loss: 2.6962 - val_accuracy: 0.6198\n",
      "Epoch 161/200\n",
      "1536/1536 [==============================] - 1s 949us/step - loss: 0.0153 - accuracy: 0.9961 - val_loss: 2.6293 - val_accuracy: 0.6328\n",
      "Epoch 162/200\n",
      "1536/1536 [==============================] - 1s 938us/step - loss: 0.0044 - accuracy: 0.9987 - val_loss: 2.8975 - val_accuracy: 0.5964\n",
      "Epoch 163/200\n",
      "1536/1536 [==============================] - 1s 947us/step - loss: 0.0103 - accuracy: 0.9961 - val_loss: 2.7660 - val_accuracy: 0.6172\n",
      "Epoch 164/200\n",
      "1536/1536 [==============================] - 1s 951us/step - loss: 0.0048 - accuracy: 0.9987 - val_loss: 2.6246 - val_accuracy: 0.6250\n",
      "Epoch 165/200\n",
      "1536/1536 [==============================] - 1s 941us/step - loss: 0.0099 - accuracy: 0.9974 - val_loss: 2.6138 - val_accuracy: 0.6458\n",
      "Epoch 166/200\n",
      "1536/1536 [==============================] - 1s 956us/step - loss: 0.0129 - accuracy: 0.9954 - val_loss: 2.5687 - val_accuracy: 0.6458\n",
      "Epoch 167/200\n"
     ]
    },
    {
     "name": "stdout",
     "output_type": "stream",
     "text": [
      "1536/1536 [==============================] - 1s 933us/step - loss: 0.0080 - accuracy: 0.9967 - val_loss: 3.2193 - val_accuracy: 0.5938\n",
      "Epoch 168/200\n",
      "1536/1536 [==============================] - 1s 921us/step - loss: 0.0219 - accuracy: 0.9967 - val_loss: 2.5772 - val_accuracy: 0.6302\n",
      "Epoch 169/200\n",
      "1536/1536 [==============================] - 1s 933us/step - loss: 0.0104 - accuracy: 0.9961 - val_loss: 2.6380 - val_accuracy: 0.6276\n",
      "Epoch 170/200\n",
      "1536/1536 [==============================] - 1s 923us/step - loss: 0.0099 - accuracy: 0.9974 - val_loss: 2.7870 - val_accuracy: 0.6302\n",
      "Epoch 171/200\n",
      "1536/1536 [==============================] - 1s 936us/step - loss: 0.0158 - accuracy: 0.9948 - val_loss: 3.0014 - val_accuracy: 0.6016\n",
      "Epoch 172/200\n",
      "1536/1536 [==============================] - 1s 931us/step - loss: 0.0147 - accuracy: 0.9961 - val_loss: 2.6747 - val_accuracy: 0.6458\n",
      "Epoch 173/200\n",
      "1536/1536 [==============================] - 1s 937us/step - loss: 0.0063 - accuracy: 0.9987 - val_loss: 2.6145 - val_accuracy: 0.6589\n",
      "Epoch 174/200\n",
      "1536/1536 [==============================] - 1s 929us/step - loss: 0.0223 - accuracy: 0.9935 - val_loss: 2.7759 - val_accuracy: 0.6224\n",
      "Epoch 175/200\n",
      "1536/1536 [==============================] - 1s 948us/step - loss: 0.0133 - accuracy: 0.9980 - val_loss: 2.7950 - val_accuracy: 0.5964\n",
      "Epoch 176/200\n",
      "1536/1536 [==============================] - 1s 925us/step - loss: 0.0076 - accuracy: 0.9993 - val_loss: 5.1309 - val_accuracy: 0.4844\n",
      "Epoch 177/200\n",
      "1536/1536 [==============================] - 1s 932us/step - loss: 0.0099 - accuracy: 0.9980 - val_loss: 2.7885 - val_accuracy: 0.6302\n",
      "Epoch 178/200\n",
      "1536/1536 [==============================] - 1s 940us/step - loss: 0.0089 - accuracy: 0.9987 - val_loss: 2.8219 - val_accuracy: 0.6302\n",
      "Epoch 179/200\n",
      "1536/1536 [==============================] - 1s 937us/step - loss: 0.0097 - accuracy: 0.9967 - val_loss: 2.8274 - val_accuracy: 0.6354\n",
      "Epoch 180/200\n",
      "1536/1536 [==============================] - 1s 932us/step - loss: 0.0165 - accuracy: 0.9948 - val_loss: 2.7909 - val_accuracy: 0.6380\n",
      "Epoch 181/200\n",
      "1536/1536 [==============================] - 1s 928us/step - loss: 0.0118 - accuracy: 0.9954 - val_loss: 2.9458 - val_accuracy: 0.5990\n",
      "Epoch 182/200\n",
      "1536/1536 [==============================] - 1s 925us/step - loss: 0.0054 - accuracy: 0.9980 - val_loss: 3.0929 - val_accuracy: 0.6042\n",
      "Epoch 183/200\n",
      "1536/1536 [==============================] - 1s 931us/step - loss: 0.0077 - accuracy: 0.9974 - val_loss: 2.9865 - val_accuracy: 0.5938\n",
      "Epoch 184/200\n",
      "1536/1536 [==============================] - 1s 937us/step - loss: 0.0184 - accuracy: 0.9974 - val_loss: 2.8532 - val_accuracy: 0.6432\n",
      "Epoch 185/200\n",
      "1536/1536 [==============================] - 1s 935us/step - loss: 0.0101 - accuracy: 0.9974 - val_loss: 2.7446 - val_accuracy: 0.6380\n",
      "Epoch 186/200\n",
      "1536/1536 [==============================] - 1s 931us/step - loss: 0.0040 - accuracy: 0.9987 - val_loss: 2.7753 - val_accuracy: 0.6328\n",
      "Epoch 187/200\n",
      "1536/1536 [==============================] - 1s 936us/step - loss: 0.0086 - accuracy: 0.9987 - val_loss: 2.7634 - val_accuracy: 0.6302\n",
      "Epoch 188/200\n",
      "1536/1536 [==============================] - 1s 926us/step - loss: 0.0105 - accuracy: 0.9967 - val_loss: 2.9006 - val_accuracy: 0.5990\n",
      "Epoch 189/200\n",
      "1536/1536 [==============================] - 1s 939us/step - loss: 0.0139 - accuracy: 0.9961 - val_loss: 2.7548 - val_accuracy: 0.6354\n",
      "Epoch 190/200\n",
      "1536/1536 [==============================] - 1s 950us/step - loss: 0.0175 - accuracy: 0.9948 - val_loss: 2.8180 - val_accuracy: 0.6354\n",
      "Epoch 191/200\n",
      "1536/1536 [==============================] - 1s 936us/step - loss: 0.0023 - accuracy: 0.9993 - val_loss: 2.7214 - val_accuracy: 0.6432\n",
      "Epoch 192/200\n",
      "1536/1536 [==============================] - 1s 931us/step - loss: 0.0144 - accuracy: 0.9954 - val_loss: 2.7712 - val_accuracy: 0.6354\n",
      "Epoch 193/200\n",
      "1536/1536 [==============================] - 1s 936us/step - loss: 0.0077 - accuracy: 0.9974 - val_loss: 2.7465 - val_accuracy: 0.6328\n",
      "Epoch 194/200\n",
      "1536/1536 [==============================] - 1s 929us/step - loss: 0.0059 - accuracy: 0.9987 - val_loss: 2.8868 - val_accuracy: 0.6354\n",
      "Epoch 195/200\n",
      "1536/1536 [==============================] - 1s 934us/step - loss: 0.0038 - accuracy: 0.9987 - val_loss: 3.1152 - val_accuracy: 0.6172\n",
      "Epoch 196/200\n",
      "1536/1536 [==============================] - 1s 938us/step - loss: 0.0125 - accuracy: 0.9980 - val_loss: 2.9869 - val_accuracy: 0.6536\n",
      "Epoch 197/200\n",
      "1536/1536 [==============================] - 1s 941us/step - loss: 0.0151 - accuracy: 0.9967 - val_loss: 2.9663 - val_accuracy: 0.6146\n",
      "Epoch 198/200\n",
      "1536/1536 [==============================] - 1s 933us/step - loss: 0.0108 - accuracy: 0.9967 - val_loss: 2.9946 - val_accuracy: 0.6198\n",
      "Epoch 199/200\n",
      "1536/1536 [==============================] - 1s 931us/step - loss: 0.0023 - accuracy: 0.9993 - val_loss: 2.8952 - val_accuracy: 0.6354\n",
      "Epoch 200/200\n",
      "1536/1536 [==============================] - 1s 939us/step - loss: 0.0044 - accuracy: 0.9974 - val_loss: 3.0794 - val_accuracy: 0.5885\n"
     ]
    }
   ],
   "source": [
    "cnnhistory=model.fit(X_expanded_scaled_train_cnn, Y_train_cnn, batch_size=16, epochs=200, validation_data=(X_expanded_scaled_test_cnn, Y_test_cnn))\n",
    "\n",
    "\n"
   ]
  },
  {
   "cell_type": "markdown",
   "metadata": {},
   "source": [
    "# Support Vector Machine"
   ]
  },
  {
   "cell_type": "code",
   "execution_count": 127,
   "metadata": {},
   "outputs": [],
   "source": [
    "svm_model=SVC(kernel='rbf',C=8).fit(X_scaled_train,Y_train)"
   ]
  },
  {
   "cell_type": "code",
   "execution_count": 128,
   "metadata": {},
   "outputs": [],
   "source": [
    "Y_pred=svm_model.predict(X_scaled_test)"
   ]
  },
  {
   "cell_type": "code",
   "execution_count": 129,
   "metadata": {},
   "outputs": [],
   "source": [
    "accuracy=svm_model.score(X_scaled_test,Y_test)"
   ]
  },
  {
   "cell_type": "code",
   "execution_count": 130,
   "metadata": {},
   "outputs": [
    {
     "data": {
      "text/plain": [
       "0.6822916666666666"
      ]
     },
     "execution_count": 130,
     "metadata": {},
     "output_type": "execute_result"
    }
   ],
   "source": [
    "accuracy"
   ]
  },
  {
   "cell_type": "markdown",
   "metadata": {},
   "source": [
    "# K Nearest Neighbours"
   ]
  },
  {
   "cell_type": "code",
   "execution_count": 175,
   "metadata": {},
   "outputs": [],
   "source": [
    "knn=KNeighborsClassifier(n_neighbors=4,weights='distance',p=1).fit(X_scaled_train,Y_train)"
   ]
  },
  {
   "cell_type": "code",
   "execution_count": 176,
   "metadata": {},
   "outputs": [],
   "source": [
    "accuracy=knn.score(X_scaled_test,Y_test)"
   ]
  },
  {
   "cell_type": "code",
   "execution_count": 177,
   "metadata": {},
   "outputs": [
    {
     "data": {
      "text/plain": [
       "0.5833333333333334"
      ]
     },
     "execution_count": 177,
     "metadata": {},
     "output_type": "execute_result"
    }
   ],
   "source": [
    "accuracy"
   ]
  },
  {
   "cell_type": "markdown",
   "metadata": {},
   "source": [
    "# Naive-Bayes"
   ]
  },
  {
   "cell_type": "code",
   "execution_count": 178,
   "metadata": {},
   "outputs": [],
   "source": [
    "gnb=GaussianNB().fit(X_scaled_train,Y_train)"
   ]
  },
  {
   "cell_type": "code",
   "execution_count": 179,
   "metadata": {},
   "outputs": [],
   "source": [
    "Y_pred=gnb.predict(X_scaled_test)"
   ]
  },
  {
   "cell_type": "code",
   "execution_count": 180,
   "metadata": {},
   "outputs": [],
   "source": [
    "accuracy=gnb.score(X_scaled_test,Y_test)"
   ]
  },
  {
   "cell_type": "code",
   "execution_count": 181,
   "metadata": {},
   "outputs": [
    {
     "data": {
      "text/plain": [
       "0.2942708333333333"
      ]
     },
     "execution_count": 181,
     "metadata": {},
     "output_type": "execute_result"
    }
   ],
   "source": [
    "accuracy"
   ]
  },
  {
   "cell_type": "markdown",
   "metadata": {},
   "source": [
    "# Accuracies obtained by all models."
   ]
  },
  {
   "cell_type": "code",
   "execution_count": 678,
   "metadata": {},
   "outputs": [
    {
     "name": "stdout",
     "output_type": "stream",
     "text": [
      "RAVDESS DATASET\n",
      "Logistic Regression : 52.78 %\n",
      "Random Forest       : 61.81 % \n",
      "MLP Classifier      : 68.75 %\n",
      "CNN                 : 70.83 %\n",
      "SVM                 : 70.13 %\n",
      "KNN                 : 61.11 %\n",
      "Naive-Bayes         : 36.45 %\n"
     ]
    }
   ],
   "source": [
    "print('RAVDESS DATASET')\n",
    "print('Logistic Regression : 52.78 %')\n",
    "print('Random Forest       : 60.68 % ')\n",
    "print('MLP Classifier      : 66.66 %')\n",
    "print('CNN                 : 70.83 %')\n",
    "print('SVM                 : 70.13 %')\n",
    "print('KNN                 : 61.11 %')\n",
    "print('Naive-Bayes         : 36.45 %')"
   ]
  },
  {
   "cell_type": "code",
   "execution_count": 259,
   "metadata": {},
   "outputs": [
    {
     "name": "stdout",
     "output_type": "stream",
     "text": [
      "RVDESS AND SAVVEE COMBINED DATASET\n",
      "Logistic Regression : 44.01 %\n",
      "Random Forest       : 60.68 % \n",
      "MLP Classifier      : 68.22 %\n",
      "CNN                 : 65.46 %\n",
      "SVM                 : 68.22 %\n",
      "KNN                 : 58.33 %\n",
      "Naive-Bayes         : 29.42 %\n"
     ]
    }
   ],
   "source": [
    "print('RVDESS AND SAVVEE COMBINED DATASET')\n",
    "print('Logistic Regression : 44.01 %')\n",
    "print('Random Forest       : 60.68 % ')\n",
    "print('MLP Classifier      : 68.22 %')\n",
    "print('CNN                 : 65.46 %')\n",
    "print('SVM                 : 68.22 %')\n",
    "print('KNN                 : 58.33 %')\n",
    "print('Naive-Bayes         : 29.42 %')"
   ]
  },
  {
   "cell_type": "code",
   "execution_count": null,
   "metadata": {},
   "outputs": [],
   "source": []
  }
 ],
 "metadata": {
  "kernelspec": {
   "display_name": "Python 3",
   "language": "python",
   "name": "python3"
  },
  "language_info": {
   "codemirror_mode": {
    "name": "ipython",
    "version": 3
   },
   "file_extension": ".py",
   "mimetype": "text/x-python",
   "name": "python",
   "nbconvert_exporter": "python",
   "pygments_lexer": "ipython3",
   "version": "3.7.4"
  }
 },
 "nbformat": 4,
 "nbformat_minor": 2
}
